{
  "cells": [
    {
      "cell_type": "markdown",
      "metadata": {
        "id": "view-in-github",
        "colab_type": "text"
      },
      "source": [
        "<a href=\"https://colab.research.google.com/github/nilsroemertum/synlab-slim-viewer/blob/master/notebooks/viewers_deployment/slim_Firebase_deployment.ipynb\" target=\"_parent\"><img src=\"https://colab.research.google.com/assets/colab-badge.svg\" alt=\"Open In Colab\"/></a>"
      ]
    },
    {
      "cell_type": "markdown",
      "metadata": {
        "id": "BF2Ld8z3L9y2"
      },
      "source": [
        "# Slim Deployment with Firebase and Google Cloud\n",
        "\n",
        "This notebook complements the tutorial available in this document:\n",
        "[Google Doc: Slim Deployment with Firebase and Google Cloud](https://tinyurl.com/idc-slim-gcp).\n",
        "You need to complete the steps discussed in that document before proceeding with this notebook! Please use the document above for providing feedback or asking questions.\n",
        "\n"
      ]
    },
    {
      "cell_type": "markdown",
      "source": [
        "# Prerequisites\n",
        "\n",
        "> **User interaction required**: In the following cell, set the variable gcpProjectID to your **Project ID**, gcpClientID to your **Client ID** and FirebaseProjectName to the **name of your Firebase project**."
      ],
      "metadata": {
        "id": "SZ_tCJBe9jK8"
      }
    },
    {
      "cell_type": "code",
      "source": [
        "gcpProjectID = 'synlab-pacs-workflow'\n",
        "gcpClientID = '\"62039621046-rt1fu02rnnfrlf2icjh2q1cmervka8au.apps.googleusercontent.com\"'\n",
        "FirebaseProjectName = 'synlab-pacs-slim-viewer'"
      ],
      "metadata": {
        "id": "Sqx5N-6IWpzn"
      },
      "execution_count": 17,
      "outputs": []
    },
    {
      "cell_type": "markdown",
      "source": [
        "## Install yarn"
      ],
      "metadata": {
        "id": "x4kfrOMzWgVc"
      }
    },
    {
      "cell_type": "code",
      "execution_count": 2,
      "metadata": {
        "id": "zuh6aIdJvDZ-",
        "colab": {
          "base_uri": "https://localhost:8080/"
        },
        "outputId": "c1d48fb5-956b-4600-cd57-362e18d4d6b1"
      },
      "outputs": [
        {
          "output_type": "stream",
          "name": "stdout",
          "text": [
            "\u001b[1G\u001b[0K⠙\u001b[1G\u001b[0K⠹\u001b[1G\u001b[0K⠸\u001b[1G\u001b[0K⠼\u001b[1G\u001b[0K⠴\u001b[1G\u001b[0K⠦\u001b[1G\u001b[0K⠧\u001b[1G\u001b[0K⠇\u001b[1G\u001b[0K\n",
            "added 1 package in 1s\n",
            "\u001b[1G\u001b[0K⠇\u001b[1G\u001b[0K"
          ]
        }
      ],
      "source": [
        "!npm install -g yarn"
      ]
    },
    {
      "cell_type": "markdown",
      "metadata": {
        "id": "wCun0-txsg01"
      },
      "source": [
        "## Install Firebase command line tools"
      ]
    },
    {
      "cell_type": "code",
      "execution_count": 3,
      "metadata": {
        "id": "trY5UoYVtFLA",
        "colab": {
          "base_uri": "https://localhost:8080/"
        },
        "outputId": "dfaba848-c0f4-4b6b-a3b9-8e276359c929"
      },
      "outputs": [
        {
          "output_type": "stream",
          "name": "stdout",
          "text": [
            "-- Checking for existing firebase-tools...\n",
            "-- Checking your machine type...\n",
            "-- Downloading binary from https://firebase.tools/bin/linux/latest\n",
            "######################################################################## 100.0%\n",
            "-- Setting permissions on binary... /usr/local/bin/firebase\n",
            "-- Checking your PATH variable...\n",
            "-- firebase-tools@14.16.0 is now installed\n",
            "-- All Done!\n"
          ]
        }
      ],
      "source": [
        "!curl -sL https://firebase.tools | bash"
      ]
    },
    {
      "cell_type": "markdown",
      "source": [
        "## Clone Slim source code"
      ],
      "metadata": {
        "id": "F-kEfzuIhtAl"
      }
    },
    {
      "cell_type": "code",
      "execution_count": 4,
      "metadata": {
        "id": "WsdHxTwGrsYK",
        "colab": {
          "base_uri": "https://localhost:8080/"
        },
        "outputId": "82c09945-e2ab-4475-c92a-6f30209bbf29"
      },
      "outputs": [
        {
          "output_type": "stream",
          "name": "stdout",
          "text": [
            "Cloning into 'synlab-slim-viewer'...\n",
            "remote: Enumerating objects: 1901, done.\u001b[K\n",
            "remote: Counting objects: 100% (1090/1090), done.\u001b[K\n",
            "remote: Compressing objects: 100% (364/364), done.\u001b[K\n",
            "remote: Total 1901 (delta 920), reused 723 (delta 723), pack-reused 811 (from 2)\u001b[K\n",
            "Receiving objects: 100% (1901/1901), 33.83 MiB | 21.27 MiB/s, done.\n",
            "Resolving deltas: 100% (1193/1193), done.\n"
          ]
        }
      ],
      "source": [
        "!git clone https://github.com/nilsroemertum/synlab-slim-viewer.git"
      ]
    },
    {
      "cell_type": "markdown",
      "metadata": {
        "id": "jfrvP4REGEg7"
      },
      "source": [
        "## Install the node version management library (n) to update the node version to match Slim's"
      ]
    },
    {
      "cell_type": "code",
      "execution_count": 5,
      "metadata": {
        "id": "HwPYjxM0FA-R",
        "colab": {
          "base_uri": "https://localhost:8080/"
        },
        "outputId": "7584c8c0-032c-4bf2-9084-ce493a1740ef"
      },
      "outputs": [
        {
          "output_type": "stream",
          "name": "stdout",
          "text": [
            "\u001b[1G\u001b[0K⠙\u001b[1G\u001b[0K⠹\u001b[1G\u001b[0K⠸\u001b[1G\u001b[0K⠼\u001b[1G\u001b[0K\n",
            "added 1 package in 826ms\n",
            "\u001b[1G\u001b[0K⠼\u001b[1G\u001b[0K"
          ]
        }
      ],
      "source": [
        "!npm install -g n"
      ]
    },
    {
      "cell_type": "markdown",
      "metadata": {
        "id": "Jt0P313tGOk8"
      },
      "source": [
        "## Install and use node 14 using n\n",
        "\n"
      ]
    },
    {
      "cell_type": "code",
      "execution_count": 6,
      "metadata": {
        "id": "P5eGcOxFFG59",
        "colab": {
          "base_uri": "https://localhost:8080/"
        },
        "outputId": "d316105b-2e64-47ef-af35-160cd9f4c8e8"
      },
      "outputs": [
        {
          "output_type": "stream",
          "name": "stdout",
          "text": [
            "  \u001b[36minstalling\u001b[0m : \u001b[2mnode-v24.8.0\u001b[0m\n",
            "  \u001b[36m     mkdir\u001b[0m : \u001b[2m/usr/local/n/versions/node/24.8.0\u001b[0m\n",
            "  \u001b[36m     fetch\u001b[0m : \u001b[2mhttps://nodejs.org/dist/v24.8.0/node-v24.8.0-linux-x64.tar.xz\u001b[0m\n",
            "######################################################################## 100.0%\n",
            "\u001b[1A\u001b[2K  \u001b[36m   copying\u001b[0m : \u001b[2mnode/24.8.0\u001b[0m\n",
            "  \u001b[36m installed\u001b[0m : \u001b[2mv24.8.0 (with npm 11.6.0)\u001b[0m\n",
            "\n",
            "Note: the node command changed location and the old location may be remembered in your current shell.\n",
            "  \u001b[36m       old\u001b[0m : \u001b[2m/tools/node/bin/node\u001b[0m\n",
            "  \u001b[36m       new\u001b[0m : \u001b[2m/usr/local/bin/node\u001b[0m\n",
            "If \"node --version\" shows the old version then start a new shell, or reset the location hash with:\n",
            "hash -r  (for bash, zsh, ash, dash, and ksh)\n",
            "rehash   (for csh and tcsh)\n",
            "  \u001b[36m   copying\u001b[0m : \u001b[2mnode/24.8.0\u001b[0m\n",
            "  \u001b[36m installed\u001b[0m : \u001b[2mv24.8.0 (with npm 11.6.0)\u001b[0m\n"
          ]
        }
      ],
      "source": [
        "!n install 24 && n 24"
      ]
    },
    {
      "cell_type": "markdown",
      "metadata": {
        "id": "usgnZ-IXPgJQ"
      },
      "source": [
        "# Configure and deploy Slim using Firebase\n"
      ]
    },
    {
      "cell_type": "markdown",
      "metadata": {
        "id": "ttW5D7mGGW_U"
      },
      "source": [
        "## Install Slim's dependencies using yarn\n",
        "\n"
      ]
    },
    {
      "cell_type": "code",
      "execution_count": 7,
      "metadata": {
        "id": "KjJrQ1yNELPO",
        "colab": {
          "base_uri": "https://localhost:8080/"
        },
        "outputId": "dd5fe208-a653-4f1d-e764-f58147094c41"
      },
      "outputs": [
        {
          "output_type": "stream",
          "name": "stdout",
          "text": [
            "\u001b[2K\u001b[1G\u001b[1myarn install v1.22.22\u001b[22m\n",
            "\u001b[2K\u001b[1G\u001b[2m[1/4]\u001b[22m Resolving packages...\n",
            "\u001b[1G\u001b[0K\u001b[2K\u001b[1G\u001b[33mwarning\u001b[39m Resolution field \"semver@7.5.2\" is incompatible with requested version \"semver@^7.6.0\"\n",
            "\u001b[2K\u001b[1G\u001b[33mwarning\u001b[39m Resolution field \"semver@7.5.2\" is incompatible with requested version \"semver@^7.5.3\"\n",
            "\u001b[2K\u001b[1G\u001b[33mwarning\u001b[39m Resolution field \"wrap-ansi@7.0.0\" is incompatible with requested version \"wrap-ansi@^8.1.0\"\n",
            "\u001b[2K\u001b[1G\u001b[33mwarning\u001b[39m Resolution field \"make-dir@3.1.0\" is incompatible with requested version \"make-dir@^2.1.0\"\n",
            "\u001b[2K\u001b[1G\u001b[33mwarning\u001b[39m Resolution field \"rollup@3.29.5\" is incompatible with requested version \"rollup@^2.43.1\"\n",
            "\u001b[2K\u001b[1G\u001b[33mwarning\u001b[39m Resolution field \"nth-check@2.0.1\" is incompatible with requested version \"nth-check@^1.0.2\"\n",
            "\u001b[1G\u001b[0K\u001b[1G\u001b[0K\u001b[2K\u001b[1G\u001b[2K\u001b[1G\u001b[2m[2/4]\u001b[22m Fetching packages...\n",
            "\u001b[2K\u001b[1G\u001b[1G[] 0/1728\u001b[1G[] 6/1728\u001b[1G[] 10/1728\u001b[1G[] 14/1728\u001b[1G[] 18/1728\u001b[1G[] 24/1728\u001b[1G[] 33/1728\u001b[1G[] 39/1728\u001b[1G[] 45/1728\u001b[1G[] 52/1728\u001b[1G[] 59/1728\u001b[1G[] 67/1728\u001b[1G[] 71/1728\u001b[1G[] 77/1728\u001b[1G[] 83/1728\u001b[1G[] 87/1728\u001b[1G[] 91/1728\u001b[1G[] 96/1728\u001b[1G[] 100/1728\u001b[1G[] 104/1728\u001b[1G[] 107/1728\u001b[1G[] 110/1728\u001b[1G[] 115/1728\u001b[1G[] 120/1728\u001b[1G[] 124/1728\u001b[1G[] 128/1728\u001b[1G[] 132/1728\u001b[1G[] 136/1728\u001b[1G[] 138/1728\u001b[1G[] 142/1728\u001b[1G[] 145/1728\u001b[1G[] 147/1728\u001b[1G[] 151/1728\u001b[1G[] 155/1728\u001b[1G[] 160/1728\u001b[1G[] 165/1728\u001b[1G[] 169/1728\u001b[1G[] 174/1728\u001b[1G[] 179/1728\u001b[1G[] 185/1728\u001b[1G[] 189/1728\u001b[1G[] 195/1728\u001b[1G[] 199/1728\u001b[1G[] 202/1728\u001b[1G[] 206/1728\u001b[1G[] 209/1728\u001b[1G[] 213/1728\u001b[1G[] 217/1728\u001b[1G[] 222/1728\u001b[1G[] 225/1728\u001b[1G[] 227/1728\u001b[1G[] 231/1728\u001b[1G[] 235/1728\u001b[1G[] 238/1728\u001b[1G[] 242/1728\u001b[1G[] 247/1728\u001b[1G[] 252/1728\u001b[1G[] 256/1728\u001b[1G[] 260/1728\u001b[1G[] 262/1728\u001b[1G[] 266/1728\u001b[1G[] 270/1728\u001b[1G[] 273/1728\u001b[1G[] 279/1728\u001b[1G[] 283/1728\u001b[1G[] 290/1728\u001b[1G[] 295/1728\u001b[1G[] 300/1728\u001b[1G[] 304/1728\u001b[1G[] 308/1728\u001b[1G[] 311/1728\u001b[1G[] 316/1728\u001b[1G[] 321/1728\u001b[1G[] 326/1728\u001b[1G[] 330/1728\u001b[1G[] 337/1728\u001b[1G[] 338/1728\u001b[1G[] 339/1728\u001b[1G[] 343/1728\u001b[1G[] 346/1728\u001b[1G[] 350/1728\u001b[1G[] 352/1728\u001b[1G[] 355/1728\u001b[1G[] 357/1728\u001b[1G[] 359/1728\u001b[1G[] 362/1728\u001b[1G[] 366/1728\u001b[1G[] 370/1728\u001b[1G[] 376/1728\u001b[1G[] 380/1728\u001b[1G[] 386/1728\u001b[1G[] 392/1728\u001b[1G[] 396/1728\u001b[1G[] 400/1728\u001b[1G[] 404/1728\u001b[1G[] 407/1728\u001b[1G[] 409/1728\u001b[1G[] 410/1728\u001b[1G[] 411/1728\u001b[1G[] 412/1728\u001b[1G[] 415/1728\u001b[1G[] 417/1728\u001b[1G[] 420/1728\u001b[1G[] 424/1728\u001b[1G[] 429/1728\u001b[1G[] 432/1728\u001b[1G[] 433/1728\u001b[1G[] 434/1728\u001b[1G[] 437/1728\u001b[1G[] 439/1728\u001b[1G[] 441/1728\u001b[1G[] 445/1728\u001b[1G[] 447/1728\u001b[1G[] 449/1728\u001b[1G[] 452/1728\u001b[1G[] 456/1728\u001b[1G[] 459/1728\u001b[1G[] 462/1728\u001b[1G[] 467/1728\u001b[1G[] 474/1728\u001b[1G[] 479/1728\u001b[1G[] 482/1728\u001b[1G[] 485/1728\u001b[1G[] 487/1728\u001b[1G[] 488/1728\u001b[1G[] 490/1728\u001b[1G[] 493/1728\u001b[1G[] 496/1728\u001b[1G[] 500/1728\u001b[1G[] 504/1728\u001b[1G[] 506/1728\u001b[1G[] 509/1728\u001b[1G[] 514/1728\u001b[1G[] 520/1728\u001b[1G[] 526/1728\u001b[1G[] 530/1728\u001b[1G[] 537/1728\u001b[1G[] 544/1728\u001b[1G[] 548/1728\u001b[1G[] 553/1728\u001b[1G[] 558/1728\u001b[1G[] 562/1728\u001b[1G[] 564/1728\u001b[1G[] 569/1728\u001b[1G[] 573/1728\u001b[1G[] 579/1728\u001b[1G[] 582/1728\u001b[1G[] 588/1728\u001b[1G[] 593/1728\u001b[1G[] 598/1728\u001b[1G[] 599/1728\u001b[1G[] 602/1728\u001b[1G[] 608/1728\u001b[1G[] 611/1728\u001b[1G[] 614/1728\u001b[1G[] 617/1728\u001b[1G[] 621/1728\u001b[1G[] 628/1728\u001b[1G[] 635/1728\u001b[1G[] 644/1728\u001b[1G[] 648/1728\u001b[1G[] 654/1728\u001b[1G[] 662/1728\u001b[1G[] 670/1728\u001b[1G[] 675/1728\u001b[1G[] 679/1728\u001b[1G[] 680/1728\u001b[1G[] 682/1728\u001b[1G[] 685/1728\u001b[1G[] 686/1728\u001b[1G[] 689/1728\u001b[1G[] 690/1728\u001b[1G[] 694/1728\u001b[1G[] 698/1728\u001b[1G[] 700/1728\u001b[1G[] 703/1728\u001b[1G[] 706/1728\u001b[1G[] 710/1728\u001b[1G[] 712/1728\u001b[1G[] 714/1728\u001b[1G[] 715/1728\u001b[1G[] 716/1728\u001b[1G[] 717/1728\u001b[1G[] 719/1728\u001b[1G[] 720/1728\u001b[1G[] 721/1728\u001b[1G[] 724/1728\u001b[1G[] 725/1728\u001b[1G[] 727/1728\u001b[1G[] 729/1728\u001b[1G[] 731/1728\u001b[1G[] 732/1728\u001b[1G[] 734/1728\u001b[1G[] 736/1728\u001b[1G[] 738/1728\u001b[1G[] 740/1728\u001b[1G[] 741/1728\u001b[1G[] 742/1728\u001b[1G[] 744/1728\u001b[1G[] 745/1728\u001b[1G[] 746/1728\u001b[1G[] 747/1728\u001b[1G[] 749/1728\u001b[1G[] 750/1728\u001b[1G[] 752/1728\u001b[1G[] 754/1728\u001b[1G[] 757/1728\u001b[1G[] 759/1728\u001b[1G[] 761/1728\u001b[1G[] 764/1728\u001b[1G[] 766/1728\u001b[1G[] 767/1728\u001b[1G[] 769/1728\u001b[1G[] 772/1728\u001b[1G[] 774/1728\u001b[1G[] 777/1728\u001b[1G[] 780/1728\u001b[1G[] 783/1728\u001b[1G[] 784/1728\u001b[1G[] 786/1728\u001b[1G[] 787/1728\u001b[1G[] 790/1728\u001b[1G[] 791/1728\u001b[1G[] 793/1728\u001b[1G[] 795/1728\u001b[1G[] 797/1728\u001b[1G[] 798/1728\u001b[1G[] 799/1728\u001b[1G[] 801/1728\u001b[1G[] 803/1728\u001b[1G[] 805/1728\u001b[1G[] 807/1728\u001b[1G[] 810/1728\u001b[1G[] 812/1728\u001b[1G[] 815/1728\u001b[1G[] 816/1728\u001b[1G[] 817/1728\u001b[1G[] 819/1728\u001b[1G[] 822/1728\u001b[1G[] 824/1728\u001b[1G[] 826/1728\u001b[1G[] 827/1728\u001b[1G[] 828/1728\u001b[1G[] 829/1728\u001b[1G[] 830/1728\u001b[1G[] 831/1728\u001b[1G[] 832/1728\u001b[1G[] 833/1728\u001b[1G[] 834/1728\u001b[1G[] 835/1728\u001b[1G[] 837/1728\u001b[1G[] 838/1728\u001b[1G[] 839/1728\u001b[1G[] 840/1728\u001b[1G[] 841/1728\u001b[1G[] 842/1728\u001b[1G[] 843/1728\u001b[1G[] 845/1728\u001b[1G[] 846/1728\u001b[1G[] 847/1728\u001b[1G[] 848/1728\u001b[1G[] 849/1728\u001b[1G[] 850/1728\u001b[1G[] 851/1728\u001b[1G[] 852/1728\u001b[1G[] 853/1728\u001b[1G[] 854/1728\u001b[1G[] 855/1728\u001b[1G[] 857/1728\u001b[1G[] 859/1728\u001b[1G[] 861/1728\u001b[1G[] 863/1728\u001b[1G[] 865/1728\u001b[1G[] 867/1728\u001b[1G[] 868/1728\u001b[1G[] 870/1728\u001b[1G[] 872/1728\u001b[1G[] 875/1728\u001b[1G[] 877/1728\u001b[1G[] 879/1728\u001b[1G[] 883/1728\u001b[1G[] 888/1728\u001b[1G[] 892/1728\u001b[1G[] 896/1728\u001b[1G[] 901/1728\u001b[1G[] 904/1728\u001b[1G[] 906/1728\u001b[1G[] 907/1728\u001b[1G[] 909/1728\u001b[1G[] 910/1728\u001b[1G[] 911/1728\u001b[1G[] 912/1728\u001b[1G[] 913/1728\u001b[1G[] 914/1728\u001b[1G[] 915/1728\u001b[1G[] 916/1728\u001b[1G[] 917/1728\u001b[1G[] 918/1728\u001b[1G[] 919/1728\u001b[1G[] 921/1728\u001b[1G[] 924/1728\u001b[1G[] 925/1728\u001b[1G[] 928/1728\u001b[1G[] 930/1728\u001b[1G[] 933/1728\u001b[1G[] 935/1728\u001b[1G[] 937/1728\u001b[1G[] 939/1728\u001b[1G[] 942/1728\u001b[1G[] 945/1728\u001b[1G[] 948/1728\u001b[1G[] 951/1728\u001b[1G[] 953/1728\u001b[1G[] 957/1728\u001b[1G[] 959/1728\u001b[1G[] 961/1728\u001b[1G[] 963/1728\u001b[1G[] 965/1728\u001b[1G[] 969/1728\u001b[1G[] 972/1728\u001b[1G[] 973/1728\u001b[1G[] 976/1728\u001b[1G[] 979/1728\u001b[1G[] 984/1728\u001b[1G[] 987/1728\u001b[1G[] 989/1728\u001b[1G[] 991/1728\u001b[1G[] 995/1728\u001b[1G[] 1000/1728\u001b[1G[] 1001/1728\u001b[1G[] 1004/1728\u001b[1G[] 1010/1728\u001b[1G[] 1016/1728\u001b[1G[] 1019/1728\u001b[1G[] 1024/1728\u001b[1G[] 1026/1728\u001b[1G[] 1028/1728\u001b[1G[] 1030/1728\u001b[1G[] 1031/1728\u001b[1G[] 1033/1728\u001b[1G[] 1035/1728\u001b[1G[] 1038/1728\u001b[1G[] 1041/1728\u001b[1G[] 1045/1728\u001b[1G[] 1048/1728\u001b[1G[] 1054/1728\u001b[1G[] 1056/1728\u001b[1G[] 1061/1728\u001b[1G[] 1065/1728\u001b[1G[] 1070/1728\u001b[1G[] 1074/1728\u001b[1G[] 1079/1728\u001b[1G[] 1085/1728\u001b[1G[] 1089/1728\u001b[1G[] 1095/1728\u001b[1G[] 1102/1728\u001b[1G[] 1109/1728\u001b[1G[] 1116/1728\u001b[1G[] 1122/1728\u001b[1G[] 1127/1728\u001b[1G[] 1128/1728\u001b[1G[] 1131/1728\u001b[1G[] 1135/1728\u001b[1G[] 1140/1728\u001b[1G[] 1144/1728\u001b[1G[] 1145/1728\u001b[1G[] 1147/1728\u001b[1G[] 1152/1728\u001b[1G[] 1155/1728\u001b[1G[] 1159/1728\u001b[1G[] 1163/1728\u001b[1G[] 1169/1728\u001b[1G[] 1174/1728\u001b[1G[] 1177/1728\u001b[1G[] 1179/1728\u001b[1G[] 1185/1728\u001b[1G[] 1188/1728\u001b[1G[] 1192/1728\u001b[1G[] 1196/1728\u001b[1G[] 1198/1728\u001b[1G[] 1201/1728\u001b[1G[] 1203/1728\u001b[1G[] 1208/1728\u001b[1G[] 1213/1728\u001b[1G[] 1219/1728\u001b[1G[] 1227/1728\u001b[1G[] 1230/1728\u001b[1G[] 1233/1728\u001b[1G[] 1237/1728\u001b[1G[] 1240/1728\u001b[1G[] 1241/1728\u001b[1G[] 1243/1728\u001b[1G[] 1245/1728\u001b[1G[] 1248/1728\u001b[1G[] 1249/1728\u001b[1G[] 1251/1728\u001b[1G[] 1253/1728\u001b[1G[] 1254/1728\u001b[1G[] 1255/1728\u001b[1G[] 1257/1728\u001b[1G[] 1258/1728\u001b[1G[] 1259/1728\u001b[1G[] 1261/1728\u001b[1G[] 1263/1728\u001b[1G[] 1266/1728\u001b[1G[] 1267/1728\u001b[1G[] 1273/1728\u001b[1G[] 1277/1728\u001b[1G[] 1284/1728\u001b[1G[] 1285/1728\u001b[1G[] 1290/1728\u001b[1G[] 1295/1728\u001b[1G[] 1298/1728\u001b[1G[] 1301/1728\u001b[1G[] 1310/1728\u001b[1G[] 1319/1728\u001b[1G[] 1326/1728\u001b[1G[] 1332/1728\u001b[1G[] 1338/1728\u001b[1G[] 1346/1728\u001b[1G[] 1351/1728\u001b[1G[] 1356/1728\u001b[1G[] 1362/1728\u001b[1G[] 1367/1728\u001b[1G[] 1370/1728\u001b[1G[] 1375/1728\u001b[1G[] 1377/1728\u001b[1G[] 1380/1728\u001b[1G[] 1386/1728\u001b[1G[] 1389/1728\u001b[1G[] 1391/1728\u001b[1G[] 1392/1728\u001b[1G[] 1397/1728\u001b[1G[] 1403/1728\u001b[1G[] 1410/1728\u001b[1G[] 1415/1728\u001b[1G[] 1421/1728\u001b[1G[] 1430/1728\u001b[1G[] 1439/1728\u001b[1G[] 1446/1728\u001b[1G[] 1452/1728\u001b[1G[] 1457/1728\u001b[1G[] 1461/1728\u001b[1G[] 1468/1728\u001b[1G[] 1474/1728\u001b[1G[] 1478/1728\u001b[1G[] 1485/1728\u001b[1G[] 1493/1728\u001b[1G[] 1499/1728\u001b[1G[] 1506/1728\u001b[1G[] 1512/1728\u001b[1G[] 1518/1728\u001b[1G[] 1524/1728\u001b[1G[] 1527/1728\u001b[1G[] 1535/1728\u001b[1G[] 1542/1728\u001b[1G[] 1546/1728\u001b[1G[] 1550/1728\u001b[1G[] 1554/1728\u001b[1G[] 1560/1728\u001b[1G[] 1566/1728\u001b[1G[] 1572/1728\u001b[1G[] 1578/1728\u001b[1G[] 1585/1728\u001b[1G[] 1592/1728\u001b[1G[] 1598/1728\u001b[1G[] 1605/1728\u001b[1G[] 1611/1728\u001b[1G[] 1615/1728\u001b[1G[] 1620/1728\u001b[1G[] 1624/1728\u001b[1G[] 1629/1728\u001b[1G[] 1635/1728\u001b[1G[] 1641/1728\u001b[1G[] 1646/1728\u001b[1G[] 1652/1728\u001b[1G[] 1658/1728\u001b[1G[] 1665/1728\u001b[1G[] 1669/1728\u001b[1G[] 1674/1728\u001b[1G[] 1679/1728\u001b[1G[] 1685/1728\u001b[1G[] 1688/1728\u001b[1G[] 1691/1728\u001b[1G[] 1695/1728\u001b[1G[] 1698/1728\u001b[1G[] 1700/1728\u001b[1G[] 1703/1728\u001b[1G[] 1705/1728\u001b[1G[] 1708/1728\u001b[1G[] 1709/1728\u001b[1G[] 1712/1728\u001b[1G[] 1717/1728\u001b[1G[] 1721/1728\u001b[1G[] 1724/1728\u001b[1G[] 1725/1728\u001b[1G[] 1726/1728\u001b[1G[] 1727/1728\u001b[2K\u001b[1G\u001b[2m[3/4]\u001b[22m Linking dependencies...\n",
            "\u001b[2K\u001b[1G\u001b[33mwarning\u001b[39m \" > @babel/preset-env@7.20.2\" has unmet peer dependency \"@babel/core@^7.0.0-0\".\n",
            "\u001b[2K\u001b[1G\u001b[33mwarning\u001b[39m \"@babel/preset-env > @babel/helper-compilation-targets@7.20.0\" has unmet peer dependency \"@babel/core@^7.0.0\".\n",
            "\u001b[2K\u001b[1G\u001b[33mwarning\u001b[39m \"@babel/preset-env > @babel/plugin-bugfix-safari-id-destructuring-collision-in-function-expression@7.18.6\" has unmet peer dependency \"@babel/core@^7.0.0\".\n",
            "\u001b[2K\u001b[1G\u001b[33mwarning\u001b[39m \"@babel/preset-env > @babel/plugin-bugfix-v8-spread-parameters-in-optional-chaining@7.18.9\" has unmet peer dependency \"@babel/core@^7.13.0\".\n",
            "\u001b[2K\u001b[1G\u001b[33mwarning\u001b[39m \"@babel/preset-env > @babel/plugin-proposal-async-generator-functions@7.20.1\" has unmet peer dependency \"@babel/core@^7.0.0-0\".\n",
            "\u001b[2K\u001b[1G\u001b[33mwarning\u001b[39m \"@babel/preset-env > @babel/plugin-proposal-class-properties@7.18.6\" has unmet peer dependency \"@babel/core@^7.0.0-0\".\n",
            "\u001b[2K\u001b[1G\u001b[33mwarning\u001b[39m \"@babel/preset-env > @babel/plugin-proposal-class-static-block@7.18.6\" has unmet peer dependency \"@babel/core@^7.12.0\".\n",
            "\u001b[2K\u001b[1G\u001b[33mwarning\u001b[39m \"@babel/preset-env > @babel/plugin-proposal-dynamic-import@7.18.6\" has unmet peer dependency \"@babel/core@^7.0.0-0\".\n",
            "\u001b[2K\u001b[1G\u001b[33mwarning\u001b[39m \"@babel/preset-env > @babel/plugin-proposal-export-namespace-from@7.18.9\" has unmet peer dependency \"@babel/core@^7.0.0-0\".\n",
            "\u001b[2K\u001b[1G\u001b[33mwarning\u001b[39m \"@babel/preset-env > @babel/plugin-proposal-json-strings@7.18.6\" has unmet peer dependency \"@babel/core@^7.0.0-0\".\n",
            "\u001b[2K\u001b[1G\u001b[33mwarning\u001b[39m \"@babel/preset-env > @babel/plugin-proposal-logical-assignment-operators@7.18.9\" has unmet peer dependency \"@babel/core@^7.0.0-0\".\n",
            "\u001b[2K\u001b[1G\u001b[33mwarning\u001b[39m \"@babel/preset-env > @babel/plugin-proposal-nullish-coalescing-operator@7.18.6\" has unmet peer dependency \"@babel/core@^7.0.0-0\".\n",
            "\u001b[2K\u001b[1G\u001b[33mwarning\u001b[39m \"@babel/preset-env > @babel/plugin-proposal-numeric-separator@7.18.6\" has unmet peer dependency \"@babel/core@^7.0.0-0\".\n",
            "\u001b[2K\u001b[1G\u001b[33mwarning\u001b[39m \"@babel/preset-env > @babel/plugin-proposal-object-rest-spread@7.20.2\" has unmet peer dependency \"@babel/core@^7.0.0-0\".\n",
            "\u001b[2K\u001b[1G\u001b[33mwarning\u001b[39m \"@babel/preset-env > @babel/plugin-proposal-optional-catch-binding@7.18.6\" has unmet peer dependency \"@babel/core@^7.0.0-0\".\n",
            "\u001b[2K\u001b[1G\u001b[33mwarning\u001b[39m \"@babel/preset-env > @babel/plugin-proposal-optional-chaining@7.18.9\" has unmet peer dependency \"@babel/core@^7.0.0-0\".\n",
            "\u001b[2K\u001b[1G\u001b[33mwarning\u001b[39m \"@babel/preset-env > @babel/plugin-proposal-private-methods@7.18.6\" has unmet peer dependency \"@babel/core@^7.0.0-0\".\n",
            "\u001b[2K\u001b[1G\u001b[33mwarning\u001b[39m \"@babel/preset-env > @babel/plugin-proposal-private-property-in-object@7.20.5\" has unmet peer dependency \"@babel/core@^7.0.0-0\".\n",
            "\u001b[2K\u001b[1G\u001b[33mwarning\u001b[39m \"@babel/preset-env > @babel/plugin-proposal-unicode-property-regex@7.18.6\" has unmet peer dependency \"@babel/core@^7.0.0-0\".\n",
            "\u001b[2K\u001b[1G\u001b[33mwarning\u001b[39m \"@babel/preset-env > @babel/plugin-syntax-async-generators@7.8.4\" has unmet peer dependency \"@babel/core@^7.0.0-0\".\n",
            "\u001b[2K\u001b[1G\u001b[33mwarning\u001b[39m \"@babel/preset-env > @babel/plugin-syntax-class-properties@7.12.13\" has unmet peer dependency \"@babel/core@^7.0.0-0\".\n",
            "\u001b[2K\u001b[1G\u001b[33mwarning\u001b[39m \"@babel/preset-env > @babel/plugin-syntax-class-static-block@7.14.5\" has unmet peer dependency \"@babel/core@^7.0.0-0\".\n",
            "\u001b[2K\u001b[1G\u001b[33mwarning\u001b[39m \"@babel/preset-env > @babel/plugin-syntax-dynamic-import@7.8.3\" has unmet peer dependency \"@babel/core@^7.0.0-0\".\n",
            "\u001b[2K\u001b[1G\u001b[33mwarning\u001b[39m \"@babel/preset-env > @babel/plugin-syntax-export-namespace-from@7.8.3\" has unmet peer dependency \"@babel/core@^7.0.0-0\".\n",
            "\u001b[2K\u001b[1G\u001b[33mwarning\u001b[39m \"@babel/preset-env > @babel/plugin-syntax-import-assertions@7.20.0\" has unmet peer dependency \"@babel/core@^7.0.0-0\".\n",
            "\u001b[2K\u001b[1G\u001b[33mwarning\u001b[39m \"@babel/preset-env > @babel/plugin-syntax-json-strings@7.8.3\" has unmet peer dependency \"@babel/core@^7.0.0-0\".\n",
            "\u001b[2K\u001b[1G\u001b[33mwarning\u001b[39m \"@babel/preset-env > @babel/plugin-syntax-logical-assignment-operators@7.10.4\" has unmet peer dependency \"@babel/core@^7.0.0-0\".\n",
            "\u001b[2K\u001b[1G\u001b[33mwarning\u001b[39m \"@babel/preset-env > @babel/plugin-syntax-nullish-coalescing-operator@7.8.3\" has unmet peer dependency \"@babel/core@^7.0.0-0\".\n",
            "\u001b[2K\u001b[1G\u001b[33mwarning\u001b[39m \"@babel/preset-env > @babel/plugin-syntax-numeric-separator@7.10.4\" has unmet peer dependency \"@babel/core@^7.0.0-0\".\n",
            "\u001b[2K\u001b[1G\u001b[33mwarning\u001b[39m \"@babel/preset-env > @babel/plugin-syntax-object-rest-spread@7.8.3\" has unmet peer dependency \"@babel/core@^7.0.0-0\".\n",
            "\u001b[2K\u001b[1G\u001b[33mwarning\u001b[39m \"@babel/preset-env > @babel/plugin-syntax-optional-catch-binding@7.8.3\" has unmet peer dependency \"@babel/core@^7.0.0-0\".\n",
            "\u001b[2K\u001b[1G\u001b[33mwarning\u001b[39m \"@babel/preset-env > @babel/plugin-syntax-optional-chaining@7.8.3\" has unmet peer dependency \"@babel/core@^7.0.0-0\".\n",
            "\u001b[2K\u001b[1G\u001b[33mwarning\u001b[39m \"@babel/preset-env > @babel/plugin-syntax-private-property-in-object@7.14.5\" has unmet peer dependency \"@babel/core@^7.0.0-0\".\n",
            "\u001b[2K\u001b[1G\u001b[33mwarning\u001b[39m \"@babel/preset-env > @babel/plugin-syntax-top-level-await@7.14.5\" has unmet peer dependency \"@babel/core@^7.0.0-0\".\n",
            "\u001b[2K\u001b[1G\u001b[33mwarning\u001b[39m \"@babel/preset-env > @babel/plugin-transform-arrow-functions@7.18.6\" has unmet peer dependency \"@babel/core@^7.0.0-0\".\n",
            "\u001b[2K\u001b[1G\u001b[33mwarning\u001b[39m \"@babel/preset-env > @babel/plugin-transform-async-to-generator@7.18.6\" has unmet peer dependency \"@babel/core@^7.0.0-0\".\n",
            "\u001b[2K\u001b[1G\u001b[33mwarning\u001b[39m \"@babel/preset-env > @babel/plugin-transform-block-scoped-functions@7.18.6\" has unmet peer dependency \"@babel/core@^7.0.0-0\".\n",
            "\u001b[2K\u001b[1G\u001b[33mwarning\u001b[39m \"@babel/preset-env > @babel/plugin-transform-block-scoping@7.20.5\" has unmet peer dependency \"@babel/core@^7.0.0-0\".\n",
            "\u001b[2K\u001b[1G\u001b[33mwarning\u001b[39m \"@babel/preset-env > @babel/plugin-transform-classes@7.20.2\" has unmet peer dependency \"@babel/core@^7.0.0-0\".\n",
            "\u001b[2K\u001b[1G\u001b[33mwarning\u001b[39m \"@babel/preset-env > @babel/plugin-transform-computed-properties@7.18.9\" has unmet peer dependency \"@babel/core@^7.0.0-0\".\n",
            "\u001b[2K\u001b[1G\u001b[33mwarning\u001b[39m \"@babel/preset-env > @babel/plugin-transform-destructuring@7.20.2\" has unmet peer dependency \"@babel/core@^7.0.0-0\".\n",
            "\u001b[2K\u001b[1G\u001b[33mwarning\u001b[39m \"@babel/preset-env > @babel/plugin-transform-dotall-regex@7.18.6\" has unmet peer dependency \"@babel/core@^7.0.0-0\".\n",
            "\u001b[2K\u001b[1G\u001b[33mwarning\u001b[39m \"@babel/preset-env > @babel/plugin-transform-duplicate-keys@7.18.9\" has unmet peer dependency \"@babel/core@^7.0.0-0\".\n",
            "\u001b[2K\u001b[1G\u001b[33mwarning\u001b[39m \"@babel/preset-env > @babel/plugin-transform-exponentiation-operator@7.18.6\" has unmet peer dependency \"@babel/core@^7.0.0-0\".\n",
            "\u001b[2K\u001b[1G\u001b[33mwarning\u001b[39m \"@babel/preset-env > @babel/plugin-transform-for-of@7.18.8\" has unmet peer dependency \"@babel/core@^7.0.0-0\".\n",
            "\u001b[2K\u001b[1G\u001b[33mwarning\u001b[39m \"@babel/preset-env > @babel/plugin-transform-function-name@7.18.9\" has unmet peer dependency \"@babel/core@^7.0.0-0\".\n",
            "\u001b[2K\u001b[1G\u001b[33mwarning\u001b[39m \"@babel/preset-env > @babel/plugin-transform-literals@7.18.9\" has unmet peer dependency \"@babel/core@^7.0.0-0\".\n",
            "\u001b[2K\u001b[1G\u001b[33mwarning\u001b[39m \"@babel/preset-env > @babel/plugin-transform-member-expression-literals@7.18.6\" has unmet peer dependency \"@babel/core@^7.0.0-0\".\n",
            "\u001b[2K\u001b[1G\u001b[33mwarning\u001b[39m \"@babel/preset-env > @babel/plugin-transform-modules-amd@7.19.6\" has unmet peer dependency \"@babel/core@^7.0.0-0\".\n",
            "\u001b[2K\u001b[1G\u001b[33mwarning\u001b[39m \"@babel/preset-env > @babel/plugin-transform-modules-commonjs@7.19.6\" has unmet peer dependency \"@babel/core@^7.0.0-0\".\n",
            "\u001b[2K\u001b[1G\u001b[33mwarning\u001b[39m \"@babel/preset-env > @babel/plugin-transform-modules-systemjs@7.19.6\" has unmet peer dependency \"@babel/core@^7.0.0-0\".\n",
            "\u001b[2K\u001b[1G\u001b[33mwarning\u001b[39m \"@babel/preset-env > @babel/plugin-transform-modules-umd@7.18.6\" has unmet peer dependency \"@babel/core@^7.0.0-0\".\n",
            "\u001b[2K\u001b[1G\u001b[33mwarning\u001b[39m \"@babel/preset-env > @babel/plugin-transform-named-capturing-groups-regex@7.20.5\" has unmet peer dependency \"@babel/core@^7.0.0\".\n",
            "\u001b[2K\u001b[1G\u001b[33mwarning\u001b[39m \"@babel/preset-env > @babel/plugin-transform-new-target@7.18.6\" has unmet peer dependency \"@babel/core@^7.0.0-0\".\n",
            "\u001b[2K\u001b[1G\u001b[33mwarning\u001b[39m \"@babel/preset-env > @babel/plugin-transform-object-super@7.18.6\" has unmet peer dependency \"@babel/core@^7.0.0-0\".\n",
            "\u001b[2K\u001b[1G\u001b[33mwarning\u001b[39m \"@babel/preset-env > @babel/plugin-transform-parameters@7.20.5\" has unmet peer dependency \"@babel/core@^7.0.0-0\".\n",
            "\u001b[2K\u001b[1G\u001b[33mwarning\u001b[39m \"@babel/preset-env > @babel/plugin-transform-property-literals@7.18.6\" has unmet peer dependency \"@babel/core@^7.0.0-0\".\n",
            "\u001b[2K\u001b[1G\u001b[33mwarning\u001b[39m \"@babel/preset-env > @babel/plugin-transform-regenerator@7.20.5\" has unmet peer dependency \"@babel/core@^7.0.0-0\".\n",
            "\u001b[2K\u001b[1G\u001b[33mwarning\u001b[39m \"@babel/preset-env > @babel/plugin-transform-reserved-words@7.18.6\" has unmet peer dependency \"@babel/core@^7.0.0-0\".\n",
            "\u001b[2K\u001b[1G\u001b[33mwarning\u001b[39m \"@babel/preset-env > @babel/plugin-transform-shorthand-properties@7.18.6\" has unmet peer dependency \"@babel/core@^7.0.0-0\".\n",
            "\u001b[2K\u001b[1G\u001b[33mwarning\u001b[39m \"@babel/preset-env > @babel/plugin-transform-spread@7.19.0\" has unmet peer dependency \"@babel/core@^7.0.0-0\".\n",
            "\u001b[2K\u001b[1G\u001b[33mwarning\u001b[39m \"@babel/preset-env > @babel/plugin-transform-sticky-regex@7.18.6\" has unmet peer dependency \"@babel/core@^7.0.0-0\".\n",
            "\u001b[2K\u001b[1G\u001b[33mwarning\u001b[39m \"@babel/preset-env > @babel/plugin-transform-template-literals@7.18.9\" has unmet peer dependency \"@babel/core@^7.0.0-0\".\n",
            "\u001b[2K\u001b[1G\u001b[33mwarning\u001b[39m \"@babel/preset-env > @babel/plugin-transform-typeof-symbol@7.18.9\" has unmet peer dependency \"@babel/core@^7.0.0-0\".\n",
            "\u001b[2K\u001b[1G\u001b[33mwarning\u001b[39m \"@babel/preset-env > @babel/plugin-transform-unicode-escapes@7.18.10\" has unmet peer dependency \"@babel/core@^7.0.0-0\".\n",
            "\u001b[2K\u001b[1G\u001b[33mwarning\u001b[39m \"@babel/preset-env > @babel/plugin-transform-unicode-regex@7.18.6\" has unmet peer dependency \"@babel/core@^7.0.0-0\".\n",
            "\u001b[2K\u001b[1G\u001b[33mwarning\u001b[39m \"@babel/preset-env > @babel/preset-modules@0.1.5\" has unmet peer dependency \"@babel/core@^7.0.0-0\".\n",
            "\u001b[2K\u001b[1G\u001b[33mwarning\u001b[39m \"@babel/preset-env > babel-plugin-polyfill-corejs2@0.3.3\" has unmet peer dependency \"@babel/core@^7.0.0-0\".\n",
            "\u001b[2K\u001b[1G\u001b[33mwarning\u001b[39m \"@babel/preset-env > babel-plugin-polyfill-corejs3@0.6.0\" has unmet peer dependency \"@babel/core@^7.0.0-0\".\n",
            "\u001b[2K\u001b[1G\u001b[33mwarning\u001b[39m \"@babel/preset-env > babel-plugin-polyfill-regenerator@0.4.1\" has unmet peer dependency \"@babel/core@^7.0.0-0\".\n",
            "\u001b[2K\u001b[1G\u001b[33mwarning\u001b[39m \"@babel/preset-env > @babel/plugin-proposal-async-generator-functions > @babel/helper-remap-async-to-generator@7.18.9\" has unmet peer dependency \"@babel/core@^7.0.0\".\n",
            "\u001b[2K\u001b[1G\u001b[33mwarning\u001b[39m \"@babel/preset-env > @babel/plugin-proposal-class-properties > @babel/helper-create-class-features-plugin@7.20.5\" has unmet peer dependency \"@babel/core@^7.0.0\".\n",
            "\u001b[2K\u001b[1G\u001b[33mwarning\u001b[39m \"@babel/preset-env > @babel/plugin-proposal-unicode-property-regex > @babel/helper-create-regexp-features-plugin@7.20.5\" has unmet peer dependency \"@babel/core@^7.0.0\".\n",
            "\u001b[2K\u001b[1G\u001b[33mwarning\u001b[39m \"@babel/preset-env > babel-plugin-polyfill-corejs2 > @babel/helper-define-polyfill-provider@0.3.3\" has unmet peer dependency \"@babel/core@^7.4.0-0\".\n",
            "\u001b[2K\u001b[1G\u001b[33mwarning\u001b[39m \" > @babel/preset-react@7.18.6\" has unmet peer dependency \"@babel/core@^7.0.0-0\".\n",
            "\u001b[2K\u001b[1G\u001b[33mwarning\u001b[39m \"@babel/preset-react > @babel/plugin-transform-react-display-name@7.18.6\" has unmet peer dependency \"@babel/core@^7.0.0-0\".\n",
            "\u001b[2K\u001b[1G\u001b[33mwarning\u001b[39m \"@babel/preset-react > @babel/plugin-transform-react-jsx@7.19.0\" has unmet peer dependency \"@babel/core@^7.0.0-0\".\n",
            "\u001b[2K\u001b[1G\u001b[33mwarning\u001b[39m \"@babel/preset-react > @babel/plugin-transform-react-jsx-development@7.18.6\" has unmet peer dependency \"@babel/core@^7.0.0-0\".\n",
            "\u001b[2K\u001b[1G\u001b[33mwarning\u001b[39m \"@babel/preset-react > @babel/plugin-transform-react-pure-annotations@7.18.6\" has unmet peer dependency \"@babel/core@^7.0.0-0\".\n",
            "\u001b[2K\u001b[1G\u001b[33mwarning\u001b[39m \"@babel/preset-react > @babel/plugin-transform-react-jsx > @babel/plugin-syntax-jsx@7.18.6\" has unmet peer dependency \"@babel/core@^7.0.0-0\".\n",
            "\u001b[2K\u001b[1G\u001b[33mwarning\u001b[39m \" > @babel/preset-typescript@7.18.6\" has unmet peer dependency \"@babel/core@^7.0.0-0\".\n",
            "\u001b[2K\u001b[1G\u001b[33mwarning\u001b[39m \"@babel/preset-typescript > @babel/plugin-transform-typescript@7.20.2\" has unmet peer dependency \"@babel/core@^7.0.0-0\".\n",
            "\u001b[2K\u001b[1G\u001b[33mwarning\u001b[39m \"@babel/preset-typescript > @babel/plugin-transform-typescript > @babel/plugin-syntax-typescript@7.20.0\" has unmet peer dependency \"@babel/core@^7.0.0-0\".\n",
            "\u001b[2K\u001b[1G\u001b[33mwarning\u001b[39m \" > @craco/craco@6.4.5\" has incorrect peer dependency \"react-scripts@^4.0.0\".\n",
            "\u001b[2K\u001b[1G\u001b[33mwarning\u001b[39m \" > @semantic-release/changelog@6.0.3\" has unmet peer dependency \"semantic-release@>=18.0.0\".\n",
            "\u001b[2K\u001b[1G\u001b[33mwarning\u001b[39m \" > @semantic-release/commit-analyzer@12.0.0\" has unmet peer dependency \"semantic-release@>=20.1.0\".\n",
            "\u001b[2K\u001b[1G\u001b[33mwarning\u001b[39m \" > @semantic-release/git@10.0.1\" has unmet peer dependency \"semantic-release@>=18.0.0\".\n",
            "\u001b[2K\u001b[1G\u001b[33mwarning\u001b[39m \" > @semantic-release/github@10.0.3\" has unmet peer dependency \"semantic-release@>=20.1.0\".\n",
            "\u001b[2K\u001b[1G\u001b[33mwarning\u001b[39m \" > @semantic-release/npm@12.0.0\" has unmet peer dependency \"semantic-release@>=20.1.0\".\n",
            "\u001b[2K\u001b[1G\u001b[33mwarning\u001b[39m \" > @semantic-release/release-notes-generator@13.0.0\" has unmet peer dependency \"semantic-release@>=20.1.0\".\n",
            "\u001b[2K\u001b[1G\u001b[33mwarning\u001b[39m \" > @testing-library/user-event@7.2.1\" has unmet peer dependency \"@testing-library/dom@>=5\".\n",
            "\u001b[2K\u001b[1G\u001b[33mwarning\u001b[39m \" > copy-webpack-plugin@10.2.4\" has unmet peer dependency \"webpack@^5.1.0\".\n",
            "\u001b[2K\u001b[1G\u001b[33mwarning\u001b[39m \"craco-less > less-loader@7.3.0\" has unmet peer dependency \"webpack@^4.0.0 || ^5.0.0\".\n",
            "\u001b[2K\u001b[1G\u001b[33mwarning\u001b[39m \"react-scripts > eslint-config-react-app > eslint-plugin-flowtype@8.0.3\" has unmet peer dependency \"@babel/plugin-syntax-flow@^7.14.5\".\n",
            "\u001b[2K\u001b[1G\u001b[33mwarning\u001b[39m \"react-scripts > eslint-config-react-app > eslint-plugin-flowtype@8.0.3\" has unmet peer dependency \"@babel/plugin-transform-react-jsx@^7.14.9\".\n",
            "\u001b[2K\u001b[1G\u001b[33mwarning\u001b[39m \"react-scripts > workbox-webpack-plugin > workbox-build > @rollup/plugin-babel@5.3.1\" has incorrect peer dependency \"rollup@^1.20.0||^2.0.0\".\n",
            "\u001b[2K\u001b[1G\u001b[33mwarning\u001b[39m \"react-scripts > workbox-webpack-plugin > workbox-build > @rollup/plugin-node-resolve@11.2.1\" has incorrect peer dependency \"rollup@^1.20.0||^2.0.0\".\n",
            "\u001b[2K\u001b[1G\u001b[33mwarning\u001b[39m \"react-scripts > workbox-webpack-plugin > workbox-build > @rollup/plugin-replace@2.4.2\" has incorrect peer dependency \"rollup@^1.20.0 || ^2.0.0\".\n",
            "\u001b[2K\u001b[1G\u001b[33mwarning\u001b[39m \"react-scripts > workbox-webpack-plugin > workbox-build > rollup-plugin-terser@7.0.2\" has incorrect peer dependency \"rollup@^2.0.0\".\n",
            "\u001b[2K\u001b[1G\u001b[33mwarning\u001b[39m \"react-scripts > workbox-webpack-plugin > workbox-build > @rollup/plugin-babel > @rollup/pluginutils@3.1.0\" has incorrect peer dependency \"rollup@^1.20.0||^2.0.0\".\n",
            "\u001b[2K\u001b[1G\u001b[33mwarning\u001b[39m \"ts-standard > @typescript-eslint/eslint-plugin@4.33.0\" has unmet peer dependency \"@typescript-eslint/parser@^4.0.0\".\n",
            "\u001b[2K\u001b[1G\u001b[33mwarning\u001b[39m Workspaces can only be enabled in private projects.\n",
            "\u001b[1G[] 1728/1728\u001b[2K\u001b[1G\u001b[2K\u001b[1G\u001b[1G[] 0/2027\u001b[2K\u001b[1G\u001b[2K\u001b[1G\u001b[1G[] 0/86358\u001b[1G[] 256/86358\u001b[1G[] 512/86358\u001b[1G[] 766/86358\u001b[1G[] 1003/86358\u001b[1G[] 1265/86358\u001b[1G[] 1449/86358\u001b[1G[] 1641/86358\u001b[1G[] 1786/86358\u001b[1G[] 2008/86358\u001b[1G[] 2172/86358\u001b[1G[] 2348/86358\u001b[1G[] 2535/86358\u001b[1G[] 2688/86358\u001b[1G[] 2883/86358\u001b[1G[] 3041/86358\u001b[1G[] 3181/86358\u001b[1G[] 3329/86358\u001b[1G[] 3524/86358\u001b[1G[] 3696/86358\u001b[1G[] 3809/86358\u001b[1G[] 3909/86358\u001b[1G[] 4032/86358\u001b[1G[] 4190/86358\u001b[1G[] 4333/86358\u001b[1G[] 4497/86358\u001b[1G[] 4688/86358\u001b[1G[] 4855/86358\u001b[1G[] 5060/86358\u001b[1G[] 5248/86358\u001b[1G[] 5435/86358\u001b[1G[] 5613/86358\u001b[1G[] 5816/86358\u001b[1G[] 5997/86358\u001b[1G[] 6178/86358\u001b[1G[] 6360/86358\u001b[1G[] 6503/86358\u001b[1G[] 6712/86358\u001b[1G[] 6883/86358\u001b[1G[] 7086/86358\u001b[1G[] 7276/86358\u001b[1G[] 7477/86358\u001b[1G[] 7660/86358\u001b[1G[] 7864/86358\u001b[1G[] 8044/86358\u001b[1G[] 8248/86358\u001b[1G[] 8428/86358\u001b[1G[] 8632/86358\u001b[1G[] 8759/86358\u001b[1G[] 8917/86358\u001b[1G[] 9131/86358\u001b[1G[] 9321/86358\u001b[1G[] 9527/86358\u001b[1G[] 9705/86358\u001b[1G[] 9855/86358\u001b[1G[] 10039/86358\u001b[1G[] 10111/86358\u001b[1G[] 10239/86358\u001b[1G[] 10420/86358\u001b[1G[] 10575/86358\u001b[1G[] 10709/86358\u001b[1G[] 10836/86358\u001b[1G[] 10855/86358\u001b[1G[] 11007/86358\u001b[1G[] 11183/86358\u001b[1G[] 11349/86358\u001b[1G[] 11497/86358\u001b[1G[] 11695/86358\u001b[1G[] 11878/86358\u001b[1G[] 12080/86358\u001b[1G[] 12287/86358\u001b[1G[] 12495/86358\u001b[1G[] 12646/86358\u001b[1G[] 12848/86358\u001b[1G[] 13055/86358\u001b[1G[] 13269/86358\u001b[1G[] 13467/86358\u001b[1G[] 13653/86358\u001b[1G[] 13870/86358\u001b[1G[] 14054/86358\u001b[1G[] 14256/86358\u001b[1G[] 14463/86358\u001b[1G[] 14674/86358\u001b[1G[] 14812/86358\u001b[1G[] 14983/86358\u001b[1G[] 15183/86358\u001b[1G[] 15386/86358\u001b[1G[] 15561/86358\u001b[1G[] 15743/86358\u001b[1G[] 15920/86358\u001b[1G[] 16127/86358\u001b[1G[] 16338/86358\u001b[1G[] 16556/86358\u001b[1G[] 16722/86358\u001b[1G[] 16935/86358\u001b[1G[] 17112/86358\u001b[1G[] 17324/86358\u001b[1G[] 17484/86358\u001b[1G[] 17635/86358\u001b[1G[] 17864/86358\u001b[1G[] 18058/86358\u001b[1G[] 18250/86358\u001b[1G[] 18422/86358\u001b[1G[] 18623/86358\u001b[1G[] 18815/86358\u001b[1G[] 19015/86358\u001b[1G[] 19168/86358\u001b[1G[] 19350/86358\u001b[1G[] 19527/86358\u001b[1G[] 19743/86358\u001b[1G[] 19911/86358\u001b[1G[] 19964/86358\u001b[1G[] 20164/86358\u001b[1G[] 20320/86358\u001b[1G[] 20476/86358\u001b[1G[] 20680/86358\u001b[1G[] 20894/86358\u001b[1G[] 21061/86358\u001b[1G[] 21244/86358\u001b[1G[] 21469/86358\u001b[1G[] 21628/86358\u001b[1G[] 21853/86358\u001b[1G[] 22081/86358\u001b[1G[] 22302/86358\u001b[1G[] 22511/86358\u001b[1G[] 22712/86358\u001b[1G[] 22844/86358\u001b[1G[] 23036/86358\u001b[1G[] 23228/86358\u001b[1G[] 23389/86358\u001b[1G[] 23612/86358\u001b[1G[] 23710/86358\u001b[1G[] 23838/86358\u001b[1G[] 23966/86358\u001b[1G[] 24077/86358\u001b[1G[] 24188/86358\u001b[1G[] 24350/86358\u001b[1G[] 24492/86358\u001b[1G[] 24620/86358\u001b[1G[] 24762/86358\u001b[1G[] 24890/86358\u001b[1G[] 25053/86358\u001b[1G[] 25194/86358\u001b[1G[] 25322/86358\u001b[1G[] 25437/86358\u001b[1G[] 25578/86358\u001b[1G[] 25706/86358\u001b[1G[] 25821/86358\u001b[1G[] 26012/86358\u001b[1G[] 26140/86358\u001b[1G[] 26295/86358\u001b[1G[] 26423/86358\u001b[1G[] 26551/86358\u001b[1G[] 26679/86358\u001b[1G[] 26780/86358\u001b[1G[] 26935/86358\u001b[1G[] 27063/86358\u001b[1G[] 27191/86358\u001b[1G[] 27319/86358\u001b[1G[] 27447/86358\u001b[1G[] 27548/86358\u001b[1G[] 27676/86358\u001b[1G[] 27831/86358\u001b[1G[] 27959/86358\u001b[1G[] 28087/86358\u001b[1G[] 28215/86358\u001b[1G[] 28343/86358\u001b[1G[] 28471/86358\u001b[1G[] 28599/86358\u001b[1G[] 28720/86358\u001b[1G[] 28848/86358\u001b[1G[] 28996/86358\u001b[1G[] 29124/86358\u001b[1G[] 29252/86358\u001b[1G[] 29360/86358\u001b[1G[] 29468/86358\u001b[1G[] 29616/86358\u001b[1G[] 29744/86358\u001b[1G[] 29872/86358\u001b[1G[] 30020/86358\u001b[1G[] 30171/86358\u001b[1G[] 30317/86358\u001b[1G[] 30445/86358\u001b[1G[] 30610/86358\u001b[1G[] 30724/86358\u001b[1G[] 30852/86358\u001b[1G[] 31004/86358\u001b[1G[] 31132/86358\u001b[1G[] 31260/86358\u001b[1G[] 31388/86358\u001b[1G[] 31516/86358\u001b[1G[] 31575/86358\u001b[1G[] 31641/86358\u001b[1G[] 31737/86358\u001b[1G[] 31865/86358\u001b[1G[] 31993/86358\u001b[1G[] 32121/86358\u001b[1G[] 32368/86358\u001b[1G[] 32597/86358\u001b[1G[] 32761/86358\u001b[1G[] 32922/86358\u001b[1G[] 33145/86358\u001b[1G[] 33363/86358\u001b[1G[] 33432/86358\u001b[1G[] 33598/86358\u001b[1G[] 33773/86358\u001b[1G[] 34000/86358\u001b[1G[] 34225/86358\u001b[1G[] 34443/86358\u001b[1G[] 34639/86358\u001b[1G[] 34895/86358\u001b[1G[] 35152/86358\u001b[1G[] 35371/86358\u001b[1G[] 35600/86358\u001b[1G[] 35811/86358\u001b[1G[] 36026/86358\u001b[1G[] 36273/86358\u001b[1G[] 36529/86358\u001b[1G[] 36753/86358\u001b[1G[] 37006/86358\u001b[1G[] 37265/86358\u001b[1G[] 37431/86358\u001b[1G[] 37695/86358\u001b[1G[] 37935/86358\u001b[1G[] 38161/86358\u001b[1G[] 38352/86358\u001b[1G[] 38588/86358\u001b[1G[] 38855/86358\u001b[1G[] 39120/86358\u001b[1G[] 39355/86358\u001b[1G[] 39581/86358\u001b[1G[] 39825/86358\u001b[1G[] 40081/86358\u001b[1G[] 40350/86358\u001b[1G[] 40593/86358\u001b[1G[] 40848/86358\u001b[1G[] 41104/86358\u001b[1G[] 41262/86358\u001b[1G[] 41500/86358\u001b[1G[] 41744/86358\u001b[1G[] 41991/86358\u001b[1G[] 42256/86358\u001b[1G[] 42497/86358\u001b[1G[] 42738/86358\u001b[1G[] 42959/86358\u001b[1G[] 43209/86358\u001b[1G[] 43438/86358\u001b[1G[] 43691/86358\u001b[1G[] 43920/86358\u001b[1G[] 44099/86358\u001b[1G[] 44361/86358\u001b[1G[] 44577/86358\u001b[1G[] 44838/86358\u001b[1G[] 45072/86358\u001b[1G[] 45299/86358\u001b[1G[] 45566/86358\u001b[1G[] 45840/86358\u001b[1G[] 46096/86358\u001b[1G[] 46352/86358\u001b[1G[] 46565/86358\u001b[1G[] 46793/86358\u001b[1G[] 47052/86358\u001b[1G[] 47280/86358\u001b[1G[] 47547/86358\u001b[1G[] 47803/86358\u001b[1G[] 47982/86358\u001b[1G[] 48212/86358\u001b[1G[] 48459/86358\u001b[1G[] 48555/86358\u001b[1G[] 48719/86358\u001b[1G[] 48936/86358\u001b[1G[] 49103/86358\u001b[1G[] 49355/86358\u001b[1G[] 49613/86358\u001b[1G[] 49844/86358\u001b[1G[] 50042/86358\u001b[1G[] 50284/86358\u001b[1G[] 50506/86358\u001b[1G[] 50754/86358\u001b[1G[] 50989/86358\u001b[1G[] 51238/86358\u001b[1G[] 51489/86358\u001b[1G[] 51774/86358\u001b[1G[] 52065/86358\u001b[1G[] 52321/86358\u001b[1G[] 52599/86358\u001b[1G[] 52835/86358\u001b[1G[] 53058/86358\u001b[1G[] 53305/86358\u001b[1G[] 53570/86358\u001b[1G[] 53801/86358\u001b[1G[] 54083/86358\u001b[1G[] 54311/86358\u001b[1G[] 54582/86358\u001b[1G[] 54851/86358\u001b[1G[] 55107/86358\u001b[1G[] 55366/86358\u001b[1G[] 55613/86358\u001b[1G[] 55904/86358\u001b[1G[] 56228/86358\u001b[1G[] 56475/86358\u001b[1G[] 56711/86358\u001b[1G[] 57037/86358\u001b[1G[] 57348/86358\u001b[1G[] 57601/86358\u001b[1G[] 57868/86358\u001b[1G[] 58187/86358\u001b[1G[] 58481/86358\u001b[1G[] 58782/86358\u001b[1G[] 59025/86358\u001b[1G[] 59270/86358\u001b[1G[] 59521/86358\u001b[1G[] 59761/86358\u001b[1G[] 60051/86358\u001b[1G[] 60286/86358\u001b[1G[] 60452/86358\u001b[1G[] 60748/86358\u001b[1G[] 60995/86358\u001b[1G[] 61239/86358\u001b[1G[] 61559/86358\u001b[1G[] 61820/86358\u001b[1G[] 62099/86358\u001b[1G[] 62370/86358\u001b[1G[] 62639/86358\u001b[1G[] 62886/86358\u001b[1G[] 63159/86358\u001b[1G[] 63428/86358\u001b[1G[] 63702/86358\u001b[1G[] 63987/86358\u001b[1G[] 64280/86358\u001b[1G[] 64526/86358\u001b[1G[] 64816/86358\u001b[1G[] 65083/86358\u001b[1G[] 65379/86358\u001b[1G[] 65611/86358\u001b[1G[] 65874/86358\u001b[1G[] 66136/86358\u001b[1G[] 66416/86358\u001b[1G[] 66679/86358\u001b[1G[] 66984/86358\u001b[1G[] 67252/86358\u001b[1G[] 67562/86358\u001b[1G[] 67886/86358\u001b[1G[] 68168/86358\u001b[1G[] 68418/86358\u001b[1G[] 68697/86358\u001b[1G[] 69040/86358\u001b[1G[] 69357/86358\u001b[1G[] 69598/86358\u001b[1G[] 69972/86358\u001b[1G[] 70100/86358\u001b[1G[] 70228/86358\u001b[1G[] 70378/86358\u001b[1G[] 70525/86358\u001b[1G[] 70653/86358\u001b[1G[] 70842/86358\u001b[1G[] 71001/86358\u001b[1G[] 71175/86358\u001b[1G[] 71303/86358\u001b[1G[] 71460/86358\u001b[1G[] 71620/86358\u001b[1G[] 71793/86358\u001b[1G[] 71972/86358\u001b[1G[] 72157/86358\u001b[1G[] 72356/86358\u001b[1G[] 72541/86358\u001b[1G[] 72740/86358\u001b[1G[] 72900/86358\u001b[1G[] 73107/86358\u001b[1G[] 73295/86358\u001b[1G[] 73491/86358\u001b[1G[] 73679/86358\u001b[1G[] 73875/86358\u001b[1G[] 74063/86358\u001b[1G[] 74231/86358\u001b[1G[] 74417/86358\u001b[1G[] 74615/86358\u001b[1G[] 74801/86358\u001b[1G[] 74976/86358\u001b[1G[] 75127/86358\u001b[1G[] 75313/86358\u001b[1G[] 75488/86358\u001b[1G[] 75697/86358\u001b[1G[] 75855/86358\u001b[1G[] 76023/86358\u001b[1G[] 76209/86358\u001b[1G[] 76384/86358\u001b[1G[] 76593/86358\u001b[1G[] 76768/86358\u001b[1G[] 76972/86358\u001b[1G[] 77146/86358\u001b[1G[] 77328/86358\u001b[1G[] 77530/86358\u001b[1G[] 77712/86358\u001b[1G[] 77892/86358\u001b[1G[] 78069/86358\u001b[1G[] 78252/86358\u001b[1G[] 78426/86358\u001b[1G[] 78608/86358\u001b[1G[] 78788/86358\u001b[1G[] 78965/86358\u001b[1G[] 79094/86358\u001b[1G[] 79300/86358\u001b[1G[] 79448/86358\u001b[1G[] 79622/86358\u001b[1G[] 79812/86358\u001b[1G[] 80034/86358\u001b[1G[] 80215/86358\u001b[1G[] 80362/86358\u001b[1G[] 80546/86358\u001b[1G[] 80711/86358\u001b[1G[] 80874/86358\u001b[1G[] 81088/86358\u001b[1G[] 81238/86358\u001b[1G[] 81397/86358\u001b[1G[] 81600/86358\u001b[1G[] 81750/86358\u001b[1G[] 82100/86358\u001b[1G[] 82495/86358\u001b[1G[] 82760/86358\u001b[1G[] 83060/86358\u001b[1G[] 83395/86358\u001b[1G[] 83737/86358\u001b[1G[] 84133/86358\u001b[1G[] 84542/86358\u001b[1G[] 84889/86358\u001b[1G[] 85279/86358\u001b[1G[] 85662/86358\u001b[1G[] 86009/86358\u001b[1G[] 86306/86358\u001b[2K\u001b[1G\u001b[2K\u001b[1G\u001b[1G[] 0/3480\u001b[1G[] 426/3480\u001b[1G[] 682/3480\u001b[1G[] 1002/3480\u001b[1G[] 1412/3480\u001b[1G[] 1766/3480\u001b[1G[] 2092/3480\u001b[1G[] 2502/3480\u001b[1G[] 2716/3480\u001b[1G[] 3012/3480\u001b[1G[] 3480/3480\u001b[2K\u001b[1G\u001b[2m[4/4]\u001b[22m Building fresh packages...\n",
            "\u001b[2K\u001b[1G\n",
            "\u001b[2K\u001b[1G\n",
            "\u001b[1G\u001b[0K\u001b[1G\u001b[1A\u001b[0K\u001b[1G\u001b[1B\u001b[1G\u001b[2A\u001b[0K\u001b[1G\u001b[2B\u001b[1G\u001b[0K\u001b[1G\u001b[1A\u001b[0K\u001b[1G\u001b[1B\u001b[1G\u001b[2A\u001b[0K\u001b[1G\u001b[2B\u001b[1G\u001b[0K\u001b[1G\u001b[1A\u001b[0K\u001b[1G\u001b[1B\u001b[1G\u001b[2A\u001b[0K\u001b[1G\u001b[2B\u001b[1G\u001b[0K\u001b[1G\u001b[1A\u001b[0K\u001b[1G\u001b[1B\u001b[1G\u001b[2A\u001b[0K\u001b[1G\u001b[2B\u001b[1G\u001b[0K\u001b[1G\u001b[1A\u001b[0K\u001b[1G\u001b[1B\u001b[1G\u001b[2A\u001b[0K\u001b[1G\u001b[2B\u001b[1G\u001b[0K\u001b[1G\u001b[1A\u001b[0K\u001b[1G\u001b[1B\u001b[1G\u001b[2A\u001b[0K\u001b[1G\u001b[2B\u001b[1G\u001b[0K\u001b[1G\u001b[1A\u001b[0K\u001b[1G\u001b[1B\u001b[1G\u001b[2A\u001b[0K\u001b[1G\u001b[2B\u001b[1G\u001b[0K\u001b[1G\u001b[1A\u001b[0K\u001b[1G\u001b[1B\u001b[1G\u001b[2A\u001b[0K\u001b[1G\u001b[2B\u001b[1G\u001b[0K\u001b[1G\u001b[1A\u001b[0K\u001b[1G\u001b[1B\u001b[1G\u001b[2A\u001b[0K\u001b[1G\u001b[2B\u001b[1G\u001b[0K\u001b[1G\u001b[1A\u001b[0K\u001b[1G\u001b[1B\u001b[1G\u001b[2A\u001b[0K\u001b[1G\u001b[2B\u001b[1G\u001b[0K\u001b[1G\u001b[1A\u001b[0K\u001b[1G\u001b[1B\u001b[1G\u001b[2A\u001b[0K\u001b[1G\u001b[2B\u001b[1G\u001b[0K\u001b[1G\u001b[1A\u001b[0K\u001b[1G\u001b[1B\u001b[1G\u001b[2A\u001b[0K\u001b[1G\u001b[2B\u001b[1G\u001b[0K\u001b[1G\u001b[1A\u001b[0K\u001b[1G\u001b[1B\u001b[1G\u001b[2A\u001b[0K\u001b[1G\u001b[2B\u001b[1G\u001b[2A\u001b[2K\u001b[2B\u001b[1G\u001b[1A\u001b[2K\u001b[1B\u001b[2K\u001b[1G\u001b[2A\u001b[2K\u001b[1G\u001b[32msuccess\u001b[39m Saved lockfile.\n",
            "\u001b[2K\u001b[1G\u001b[2K\u001b[1GDone in 90.04s.\n"
          ]
        }
      ],
      "source": [
        "!cd synlab-slim-viewer && yarn"
      ]
    },
    {
      "cell_type": "markdown",
      "metadata": {
        "id": "P9kpPeSSGchd"
      },
      "source": [
        "## Update Slim's configuration file\n",
        "> The following code snipped configures things like OpenID Connect (OIDC) and server settings.\n",
        "\n"
      ]
    },
    {
      "cell_type": "code",
      "execution_count": 18,
      "metadata": {
        "id": "itSGBEkuv-dQ"
      },
      "outputs": [],
      "source": [
        "settings = \"\"\"\n",
        "window.config = {\n",
        "  // This must match the location configured for web server\n",
        "  path: '/',\n",
        "  servers: [\n",
        "    {\n",
        "      id: 'example',\n",
        "      // This must match the proxy location configured for the DICOMweb server\n",
        "      url:\"https://proxy.imaging.datacommons.cancer.gov/current/viewer-only-no-downloads-see-tinyurl-dot-com-slash-3j3d9jyp/dicomWeb\",\n",
        "      write: false\n",
        "    }\n",
        "  ],\n",
        " oidc: {\n",
        "    authority: \"https://accounts.google.com\",\n",
        "    clientId: %s,\n",
        "    scope: \"email profile openid https://www.googleapis.com/auth/cloud-healthcare\",\n",
        "    grantType: \"implicit\"\n",
        "  },\n",
        "  disableWorklist: false,\n",
        "  disableAnnotationTools: false,\n",
        "  enableServerSelection: true,\n",
        "  mode: 'light',\n",
        "  preload: true,\n",
        "  annotations: [\n",
        "    {\n",
        "      finding: {\n",
        "        value: '85756007',\n",
        "        schemeDesignator: 'SCT',\n",
        "        meaning: 'Tissue'\n",
        "      },\n",
        "      findingCategory: {\n",
        "        value: '91723000',\n",
        "        schemeDesignator: 'SCT',\n",
        "        meaning: 'Anatomical structure'\n",
        "      },\n",
        "      geometryTypes: ['polygon', 'freehandpolygon'],\n",
        "      style: {\n",
        "        stroke: {\n",
        "          color: [255, 255, 0, 1],\n",
        "          width: 2\n",
        "        },\n",
        "        fill: {\n",
        "          color: [255, 255, 255, 0.2]\n",
        "        }\n",
        "      },\n",
        "    },\n",
        "    {\n",
        "      finding: {\n",
        "        value: '108369006',\n",
        "        schemeDesignator: 'SCT',\n",
        "        meaning: 'Tumor'\n",
        "      },\n",
        "      findingCategory: {\n",
        "        value: '49755003',\n",
        "        schemeDesignator: 'SCT',\n",
        "        meaning: 'Morphologically abnormal structure'\n",
        "      },\n",
        "      geometryTypes: ['polygon', 'freehandpolygon'],\n",
        "      style: {\n",
        "        stroke: {\n",
        "          color: [255, 0, 255, 1],\n",
        "          width: 2\n",
        "        },\n",
        "        fill: {\n",
        "          color: [255, 255, 255, 0.2]\n",
        "        }\n",
        "      }\n",
        "    },\n",
        "    {\n",
        "      finding: {\n",
        "        value: '34823008',\n",
        "        schemeDesignator: 'SCT',\n",
        "        meaning: 'Tumor necrosis'\n",
        "      },\n",
        "      findingCategory: {\n",
        "        value: '49755003',\n",
        "        schemeDesignator: 'SCT',\n",
        "        meaning: 'Morphologically abnormal structure'\n",
        "      },\n",
        "      geometryTypes: ['polygon', 'freehandpolygon'],\n",
        "      style: {\n",
        "        stroke: {\n",
        "          color: [51, 204, 51, 1],\n",
        "          width: 2\n",
        "        },\n",
        "        fill: {\n",
        "          color: [255, 255, 255, 0.2]\n",
        "        }\n",
        "      }\n",
        "    },\n",
        "    {\n",
        "      finding: {\n",
        "        value: '369705002',\n",
        "        schemeDesignator: 'SCT',\n",
        "        meaning: 'Invasive tumor border'\n",
        "      },\n",
        "      findingCategory: {\n",
        "        value: '395557000',\n",
        "        schemeDesignator: 'SCT',\n",
        "        meaning: 'Tumor finding'\n",
        "      },\n",
        "      geometryTypes: ['line', 'freehandline'],\n",
        "      style: {\n",
        "        stroke: {\n",
        "          color: [51, 102, 255, 1],\n",
        "          width: 2\n",
        "        },\n",
        "        fill: {\n",
        "          color: [255, 255, 255, 0.2]\n",
        "        }\n",
        "      }\n",
        "    },\n",
        "    {\n",
        "      finding: {\n",
        "        value: '399721002',\n",
        "        schemeDesignator: 'SCT',\n",
        "        meaning: 'Tumor infiltration by lymphocytes present'\n",
        "      },\n",
        "      findingCategory: {\n",
        "        value: '395557000',\n",
        "        schemeDesignator: 'SCT',\n",
        "        meaning: 'Tumor finding'\n",
        "      },\n",
        "      geometryTypes: ['polygon', 'freehandpolygon'],\n",
        "      style: {\n",
        "        stroke: {\n",
        "          color: [51, 204, 204, 1],\n",
        "          width: 2\n",
        "        },\n",
        "        fill: {\n",
        "          color: [255, 255, 255, 0.2]\n",
        "        }\n",
        "      }\n",
        "    },\n",
        "    {\n",
        "      finding: {\n",
        "        value: '47973001',\n",
        "        schemeDesignator: 'SCT',\n",
        "        meaning: 'Artifact'\n",
        "      },\n",
        "      geometryTypes: ['polygon', 'freehandpolygon'],\n",
        "      style: {\n",
        "        stroke: {\n",
        "          color: [255, 80, 80, 1],\n",
        "          width: 2\n",
        "        },\n",
        "        fill: {\n",
        "          color: [255, 255, 255, 0.2]\n",
        "        }\n",
        "      }\n",
        "    }\n",
        "  ]\n",
        "}\n",
        "\"\"\"%(gcpClientID)\n",
        "\n",
        "with open(\"synlab-slim-viewer/public/config/example.js\", \"w\") as f:\n",
        "    f.write(settings)"
      ]
    },
    {
      "cell_type": "markdown",
      "metadata": {
        "id": "4-vfR5-sGiug"
      },
      "source": [
        "## Update SLIM's Firebase config to deploy configuration\n",
        "\n"
      ]
    },
    {
      "cell_type": "code",
      "execution_count": 9,
      "metadata": {
        "id": "pIFozDye8AuU"
      },
      "outputs": [],
      "source": [
        "settings_firebase = \"\"\"\n",
        "{\n",
        "  \"hosting\": {\n",
        "    \"public\": \"build\",\n",
        "    \"ignore\": [\n",
        "      \"firebase.json\",\n",
        "      \"**/.*\",\n",
        "      \"**/node_modules/**\"\n",
        "    ],\n",
        "    \"rewrites\": [\n",
        "      {\n",
        "        \"source\": \"**\",\n",
        "        \"destination\": \"/index.html\"\n",
        "      }\n",
        "    ]\n",
        "  }\n",
        "}\n",
        "\"\"\"\n",
        "\n",
        "with open(\"synlab-slim-viewer/firebase.json\", \"w\") as f:\n",
        "  f.write(settings_firebase)"
      ]
    },
    {
      "cell_type": "markdown",
      "metadata": {
        "id": "ewDNeCh2Gt3s"
      },
      "source": [
        "## Build SLIM\n",
        "\n"
      ]
    },
    {
      "cell_type": "code",
      "execution_count": null,
      "metadata": {
        "id": "br6_9Ba_uTnc",
        "colab": {
          "base_uri": "https://localhost:8080/"
        },
        "outputId": "2b858cbb-3745-4222-bb9c-d4e0c1b5fb97"
      },
      "outputs": [
        {
          "output_type": "stream",
          "name": "stdout",
          "text": [
            "\u001b[2K\u001b[1G\u001b[1myarn run v1.22.22\u001b[22m\n",
            "\u001b[2K\u001b[1G\u001b[2m$ craco build\u001b[22m\n",
            "(node:10793) [DEP0176] DeprecationWarning: fs.F_OK is deprecated, use fs.constants.F_OK instead\n",
            "(Use `node --trace-deprecation ...` to show where the warning was created)\n",
            "Creating an optimized production build...\n",
            "Browserslist: caniuse-lite is outdated. Please run:\n",
            "  npx update-browserslist-db@latest\n",
            "  Why you should do it regularly: https://github.com/browserslist/update-db#readme\n"
          ]
        }
      ],
      "source": [
        "!cd synlab-slim-viewer && REACT_APP_CONFIG=example PUBLIC_URL='/' yarn build"
      ]
    },
    {
      "cell_type": "markdown",
      "metadata": {
        "id": "aSoV9UpbPyqx"
      },
      "source": [
        "## Login and initialize Firebase configuration\n",
        "\n",
        "  "
      ]
    },
    {
      "cell_type": "markdown",
      "metadata": {
        "id": "HYkfeov9Xe31"
      },
      "source": [
        "> **User interaction required**: In the next step we login to Firebase and configure the setup of Firebase on the VM. When prompted regarding error reporting information, double click next to the prompt, and type your selection. Next, follow the authorization URL to grant the necessary permissions to Firebase, then double-click next to the \"Paste authorization code\", paste the code and hit \"Enter\" to complete the process."
      ]
    },
    {
      "cell_type": "code",
      "execution_count": null,
      "metadata": {
        "id": "VDMPhLZ4tMDS"
      },
      "outputs": [],
      "source": [
        "!firebase login --no-localhost"
      ]
    },
    {
      "cell_type": "markdown",
      "source": [
        "> **User interaction required**: Here you need to login to your Google account where you will be prompted to follow an authorization URL to grant the necessary permissions. Afterwards, we set the default GCP project ID to the one you chose at the beginning of this notebook.   "
      ],
      "metadata": {
        "id": "Dkj8svvEk7-o"
      }
    },
    {
      "cell_type": "code",
      "execution_count": null,
      "metadata": {
        "id": "w9Eq1XDybHV-"
      },
      "outputs": [],
      "source": [
        "!gcloud auth login"
      ]
    },
    {
      "cell_type": "code",
      "source": [
        "!gcloud config set project $gcpProjectID\n",
        "!gcloud config get project"
      ],
      "metadata": {
        "id": "X_A2awjxh8C7"
      },
      "execution_count": null,
      "outputs": []
    },
    {
      "cell_type": "markdown",
      "source": [
        "> **User interaction required**: You should have created a Firebase project as a prerequisite step. Select a project or modify SLIM's .firebaserc file which sets the default firebase project."
      ],
      "metadata": {
        "id": "oQQyzyV5Ebdw"
      }
    },
    {
      "cell_type": "code",
      "execution_count": null,
      "metadata": {
        "id": "qA31ZvZ3b0CX"
      },
      "outputs": [],
      "source": [
        "!firebase projects:list"
      ]
    },
    {
      "cell_type": "code",
      "execution_count": null,
      "metadata": {
        "id": "6aAob39RvJci"
      },
      "outputs": [],
      "source": [
        "!cd synlab-slim-viewer && firebase use $FirebaseProjectName"
      ]
    },
    {
      "cell_type": "markdown",
      "metadata": {
        "id": "bz1Elip0V4HM"
      },
      "source": [
        "## Deploy\n",
        "> Finally, we deploy the app. Do not close the notebook, keep the tab open and return to the Google documentation."
      ]
    },
    {
      "cell_type": "code",
      "execution_count": null,
      "metadata": {
        "id": "XJA9WEQP2Pju"
      },
      "outputs": [],
      "source": [
        "!cd synlab-slim-viewer && firebase deploy"
      ]
    },
    {
      "cell_type": "code",
      "source": [],
      "metadata": {
        "id": "p2qXEGO124WD"
      },
      "execution_count": null,
      "outputs": []
    }
  ],
  "metadata": {
    "colab": {
      "provenance": [],
      "include_colab_link": true
    },
    "gpuClass": "standard",
    "kernelspec": {
      "display_name": "Python 3",
      "name": "python3"
    },
    "language_info": {
      "name": "python"
    }
  },
  "nbformat": 4,
  "nbformat_minor": 0
}