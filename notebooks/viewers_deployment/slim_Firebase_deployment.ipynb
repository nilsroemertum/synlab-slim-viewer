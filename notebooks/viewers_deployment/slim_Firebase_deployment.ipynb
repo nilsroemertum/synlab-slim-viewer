{
  "cells": [
    {
      "cell_type": "markdown",
      "metadata": {
        "id": "view-in-github",
        "colab_type": "text"
      },
      "source": [
        "<a href=\"https://colab.research.google.com/github/nilsroemertum/synlab-slim-viewer/blob/master/notebooks/viewers_deployment/slim_Firebase_deployment.ipynb\" target=\"_parent\"><img src=\"https://colab.research.google.com/assets/colab-badge.svg\" alt=\"Open In Colab\"/></a>"
      ]
    },
    {
      "cell_type": "markdown",
      "metadata": {
        "id": "BF2Ld8z3L9y2"
      },
      "source": [
        "# Slim Deployment with Firebase and Google Cloud\n",
        "\n",
        "This notebook complements the tutorial available in this document:\n",
        "[Google Doc: Slim Deployment with Firebase and Google Cloud](https://tinyurl.com/idc-slim-gcp).\n",
        "You need to complete the steps discussed in that document before proceeding with this notebook! Please use the document above for providing feedback or asking questions.\n",
        "\n"
      ]
    },
    {
      "cell_type": "markdown",
      "source": [
        "# Prerequisites\n",
        "\n",
        "> **User interaction required**: In the following cell, set the variable gcpProjectID to your **Project ID**, gcpClientID to your **Client ID** and FirebaseProjectName to the **name of your Firebase project**."
      ],
      "metadata": {
        "id": "SZ_tCJBe9jK8"
      }
    },
    {
      "cell_type": "code",
      "source": [
        "gcpProjectID = 'synlab-pacs-workflow'\n",
        "gcpClientID = '\"62039621046-rt1fu02rnnfrlf2icjh2q1cmervka8au.apps.googleusercontent.com\"'\n",
        "FirebaseProjectName = 'synlab-pacs-slim-viewer'"
      ],
      "metadata": {
        "id": "Sqx5N-6IWpzn"
      },
      "execution_count": 1,
      "outputs": []
    },
    {
      "cell_type": "markdown",
      "source": [
        "## Install yarn"
      ],
      "metadata": {
        "id": "x4kfrOMzWgVc"
      }
    },
    {
      "cell_type": "code",
      "execution_count": 2,
      "metadata": {
        "id": "zuh6aIdJvDZ-",
        "colab": {
          "base_uri": "https://localhost:8080/"
        },
        "outputId": "186fbcdf-548c-4261-fce1-52ffe553f835"
      },
      "outputs": [
        {
          "output_type": "stream",
          "name": "stdout",
          "text": [
            "\u001b[1G\u001b[0K⠙\u001b[1G\u001b[0K⠹\u001b[1G\u001b[0K⠸\u001b[1G\u001b[0K⠼\u001b[1G\u001b[0K⠴\u001b[1G\u001b[0K⠦\u001b[1G\u001b[0K⠧\u001b[1G\u001b[0K⠇\u001b[1G\u001b[0K⠏\u001b[1G\u001b[0K⠋\u001b[1G\u001b[0K\n",
            "added 1 package in 2s\n",
            "\u001b[1G\u001b[0K⠋\u001b[1G\u001b[0K"
          ]
        }
      ],
      "source": [
        "!npm install -g yarn"
      ]
    },
    {
      "cell_type": "markdown",
      "metadata": {
        "id": "wCun0-txsg01"
      },
      "source": [
        "## Install Firebase command line tools"
      ]
    },
    {
      "cell_type": "code",
      "execution_count": 3,
      "metadata": {
        "id": "trY5UoYVtFLA",
        "colab": {
          "base_uri": "https://localhost:8080/"
        },
        "outputId": "7b7bad86-a225-4c4f-fcfd-81f98543fab3"
      },
      "outputs": [
        {
          "output_type": "stream",
          "name": "stdout",
          "text": [
            "-- Checking for existing firebase-tools...\n",
            "-- Checking your machine type...\n",
            "-- Downloading binary from https://firebase.tools/bin/linux/latest\n",
            "######################################################################## 100.0%\n",
            "-- Setting permissions on binary... /usr/local/bin/firebase\n",
            "-- Checking your PATH variable...\n",
            "-- firebase-tools@14.16.0 is now installed\n",
            "-- All Done!\n"
          ]
        }
      ],
      "source": [
        "!curl -sL https://firebase.tools | bash"
      ]
    },
    {
      "cell_type": "markdown",
      "source": [
        "## Clone Slim source code"
      ],
      "metadata": {
        "id": "F-kEfzuIhtAl"
      }
    },
    {
      "cell_type": "code",
      "execution_count": 39,
      "metadata": {
        "id": "WsdHxTwGrsYK",
        "colab": {
          "base_uri": "https://localhost:8080/"
        },
        "outputId": "36f5cb9e-a369-4998-b5c9-aa1cdf435b33"
      },
      "outputs": [
        {
          "output_type": "stream",
          "name": "stdout",
          "text": [
            "Cloning into 'synlab-slim-viewer'...\n",
            "remote: Enumerating objects: 1886, done.\u001b[K\n",
            "remote: Counting objects: 100% (1070/1070), done.\u001b[K\n",
            "remote: Compressing objects: 100% (353/353), done.\u001b[K\n",
            "remote: Total 1886 (delta 911), reused 717 (delta 717), pack-reused 816 (from 2)\u001b[K\n",
            "Receiving objects: 100% (1886/1886), 33.82 MiB | 39.67 MiB/s, done.\n",
            "Resolving deltas: 100% (1189/1189), done.\n"
          ]
        }
      ],
      "source": [
        "!git clone https://github.com/nilsroemertum/synlab-slim-viewer.git"
      ]
    },
    {
      "cell_type": "markdown",
      "metadata": {
        "id": "jfrvP4REGEg7"
      },
      "source": [
        "## Install the node version management library (n) to update the node version to match Slim's"
      ]
    },
    {
      "cell_type": "code",
      "execution_count": 5,
      "metadata": {
        "id": "HwPYjxM0FA-R",
        "colab": {
          "base_uri": "https://localhost:8080/"
        },
        "outputId": "3c4d14cc-65b8-4944-e8b7-53196b1a7e26"
      },
      "outputs": [
        {
          "output_type": "stream",
          "name": "stdout",
          "text": [
            "\u001b[1G\u001b[0K⠙\u001b[1G\u001b[0K⠹\u001b[1G\u001b[0K⠸\u001b[1G\u001b[0K⠼\u001b[1G\u001b[0K\n",
            "added 1 package in 824ms\n",
            "\u001b[1G\u001b[0K⠼\u001b[1G\u001b[0K"
          ]
        }
      ],
      "source": [
        "!npm install -g n"
      ]
    },
    {
      "cell_type": "markdown",
      "metadata": {
        "id": "Jt0P313tGOk8"
      },
      "source": [
        "## Install and use node 14 using n\n",
        "\n"
      ]
    },
    {
      "cell_type": "code",
      "execution_count": 41,
      "metadata": {
        "id": "P5eGcOxFFG59",
        "colab": {
          "base_uri": "https://localhost:8080/"
        },
        "outputId": "63a7e45a-b4e7-46ec-c069-74893ae454c8"
      },
      "outputs": [
        {
          "output_type": "stream",
          "name": "stdout",
          "text": [
            "  \u001b[36m   copying\u001b[0m : \u001b[2mnode/24.8.0\u001b[0m\n",
            "  \u001b[36m installed\u001b[0m : \u001b[2mv24.8.0 (with npm 11.6.0)\u001b[0m\n",
            "  \u001b[36m   copying\u001b[0m : \u001b[2mnode/24.8.0\u001b[0m\n",
            "  \u001b[36m installed\u001b[0m : \u001b[2mv24.8.0 (with npm 11.6.0)\u001b[0m\n"
          ]
        }
      ],
      "source": [
        "!n install 24 && n 24"
      ]
    },
    {
      "cell_type": "markdown",
      "metadata": {
        "id": "usgnZ-IXPgJQ"
      },
      "source": [
        "# Configure and deploy Slim using Firebase\n"
      ]
    },
    {
      "cell_type": "markdown",
      "metadata": {
        "id": "ttW5D7mGGW_U"
      },
      "source": [
        "## Install Slim's dependencies using yarn\n",
        "\n"
      ]
    },
    {
      "cell_type": "code",
      "execution_count": 42,
      "metadata": {
        "id": "KjJrQ1yNELPO",
        "colab": {
          "base_uri": "https://localhost:8080/"
        },
        "outputId": "e122038a-79b2-4f6f-aa43-537902fe16d9"
      },
      "outputs": [
        {
          "output_type": "stream",
          "name": "stdout",
          "text": [
            "\u001b[2K\u001b[1G\u001b[1myarn install v1.22.22\u001b[22m\n",
            "\u001b[2K\u001b[1G\u001b[33mwarning\u001b[39m ../package.json: No license field\n",
            "\u001b[2K\u001b[1G\u001b[2m[1/4]\u001b[22m Resolving packages...\n",
            "\u001b[1G\u001b[0K\u001b[2K\u001b[1G\u001b[33mwarning\u001b[39m Resolution field \"semver@7.5.2\" is incompatible with requested version \"semver@^7.6.0\"\n",
            "\u001b[2K\u001b[1G\u001b[33mwarning\u001b[39m Resolution field \"semver@7.5.2\" is incompatible with requested version \"semver@^7.5.3\"\n",
            "\u001b[2K\u001b[1G\u001b[33mwarning\u001b[39m Resolution field \"wrap-ansi@7.0.0\" is incompatible with requested version \"wrap-ansi@^8.1.0\"\n",
            "\u001b[2K\u001b[1G\u001b[33mwarning\u001b[39m Resolution field \"make-dir@3.1.0\" is incompatible with requested version \"make-dir@^2.1.0\"\n",
            "\u001b[2K\u001b[1G\u001b[33mwarning\u001b[39m Resolution field \"rollup@3.29.5\" is incompatible with requested version \"rollup@^2.43.1\"\n",
            "\u001b[2K\u001b[1G\u001b[33mwarning\u001b[39m Resolution field \"nth-check@2.0.1\" is incompatible with requested version \"nth-check@^1.0.2\"\n",
            "\u001b[1G\u001b[0K\u001b[2K\u001b[1G\u001b[2K\u001b[1G\u001b[2m[2/4]\u001b[22m Fetching packages...\n",
            "\u001b[2K\u001b[1G\u001b[1G[] 0/1728\u001b[1G[] 95/1728\u001b[1G[] 206/1728\u001b[1G[] 304/1728\u001b[1G[] 392/1728\u001b[1G[] 480/1728\u001b[1G[] 580/1728\u001b[1G[] 672/1728\u001b[1G[] 744/1728\u001b[1G[] 840/1728\u001b[1G[] 950/1728\u001b[1G[] 1024/1728\u001b[1G[] 1120/1728\u001b[1G[] 1208/1728\u001b[1G[] 1316/1728\u001b[1G[] 1432/1728\u001b[1G[] 1464/1728\u001b[1G[] 1541/1728\u001b[1G[] 1640/1728\u001b[1G[] 1728/1728\u001b[2K\u001b[1G\u001b[2m[3/4]\u001b[22m Linking dependencies...\n",
            "\u001b[2K\u001b[1G\u001b[33mwarning\u001b[39m \" > @babel/preset-env@7.20.2\" has unmet peer dependency \"@babel/core@^7.0.0-0\".\n",
            "\u001b[2K\u001b[1G\u001b[33mwarning\u001b[39m \"@babel/preset-env > @babel/helper-compilation-targets@7.20.0\" has unmet peer dependency \"@babel/core@^7.0.0\".\n",
            "\u001b[2K\u001b[1G\u001b[33mwarning\u001b[39m \"@babel/preset-env > @babel/plugin-bugfix-safari-id-destructuring-collision-in-function-expression@7.18.6\" has unmet peer dependency \"@babel/core@^7.0.0\".\n",
            "\u001b[2K\u001b[1G\u001b[33mwarning\u001b[39m \"@babel/preset-env > @babel/plugin-bugfix-v8-spread-parameters-in-optional-chaining@7.18.9\" has unmet peer dependency \"@babel/core@^7.13.0\".\n",
            "\u001b[2K\u001b[1G\u001b[33mwarning\u001b[39m \"@babel/preset-env > @babel/plugin-proposal-async-generator-functions@7.20.1\" has unmet peer dependency \"@babel/core@^7.0.0-0\".\n",
            "\u001b[2K\u001b[1G\u001b[33mwarning\u001b[39m \"@babel/preset-env > @babel/plugin-proposal-class-properties@7.18.6\" has unmet peer dependency \"@babel/core@^7.0.0-0\".\n",
            "\u001b[2K\u001b[1G\u001b[33mwarning\u001b[39m \"@babel/preset-env > @babel/plugin-proposal-class-static-block@7.18.6\" has unmet peer dependency \"@babel/core@^7.12.0\".\n",
            "\u001b[2K\u001b[1G\u001b[33mwarning\u001b[39m \"@babel/preset-env > @babel/plugin-proposal-dynamic-import@7.18.6\" has unmet peer dependency \"@babel/core@^7.0.0-0\".\n",
            "\u001b[2K\u001b[1G\u001b[33mwarning\u001b[39m \"@babel/preset-env > @babel/plugin-proposal-export-namespace-from@7.18.9\" has unmet peer dependency \"@babel/core@^7.0.0-0\".\n",
            "\u001b[2K\u001b[1G\u001b[33mwarning\u001b[39m \"@babel/preset-env > @babel/plugin-proposal-json-strings@7.18.6\" has unmet peer dependency \"@babel/core@^7.0.0-0\".\n",
            "\u001b[2K\u001b[1G\u001b[33mwarning\u001b[39m \"@babel/preset-env > @babel/plugin-proposal-logical-assignment-operators@7.18.9\" has unmet peer dependency \"@babel/core@^7.0.0-0\".\n",
            "\u001b[2K\u001b[1G\u001b[33mwarning\u001b[39m \"@babel/preset-env > @babel/plugin-proposal-nullish-coalescing-operator@7.18.6\" has unmet peer dependency \"@babel/core@^7.0.0-0\".\n",
            "\u001b[2K\u001b[1G\u001b[33mwarning\u001b[39m \"@babel/preset-env > @babel/plugin-proposal-numeric-separator@7.18.6\" has unmet peer dependency \"@babel/core@^7.0.0-0\".\n",
            "\u001b[2K\u001b[1G\u001b[33mwarning\u001b[39m \"@babel/preset-env > @babel/plugin-proposal-object-rest-spread@7.20.2\" has unmet peer dependency \"@babel/core@^7.0.0-0\".\n",
            "\u001b[2K\u001b[1G\u001b[33mwarning\u001b[39m \"@babel/preset-env > @babel/plugin-proposal-optional-catch-binding@7.18.6\" has unmet peer dependency \"@babel/core@^7.0.0-0\".\n",
            "\u001b[2K\u001b[1G\u001b[33mwarning\u001b[39m \"@babel/preset-env > @babel/plugin-proposal-optional-chaining@7.18.9\" has unmet peer dependency \"@babel/core@^7.0.0-0\".\n",
            "\u001b[2K\u001b[1G\u001b[33mwarning\u001b[39m \"@babel/preset-env > @babel/plugin-proposal-private-methods@7.18.6\" has unmet peer dependency \"@babel/core@^7.0.0-0\".\n",
            "\u001b[2K\u001b[1G\u001b[33mwarning\u001b[39m \"@babel/preset-env > @babel/plugin-proposal-private-property-in-object@7.20.5\" has unmet peer dependency \"@babel/core@^7.0.0-0\".\n",
            "\u001b[2K\u001b[1G\u001b[33mwarning\u001b[39m \"@babel/preset-env > @babel/plugin-proposal-unicode-property-regex@7.18.6\" has unmet peer dependency \"@babel/core@^7.0.0-0\".\n",
            "\u001b[2K\u001b[1G\u001b[33mwarning\u001b[39m \"@babel/preset-env > @babel/plugin-syntax-async-generators@7.8.4\" has unmet peer dependency \"@babel/core@^7.0.0-0\".\n",
            "\u001b[2K\u001b[1G\u001b[33mwarning\u001b[39m \"@babel/preset-env > @babel/plugin-syntax-class-properties@7.12.13\" has unmet peer dependency \"@babel/core@^7.0.0-0\".\n",
            "\u001b[2K\u001b[1G\u001b[33mwarning\u001b[39m \"@babel/preset-env > @babel/plugin-syntax-class-static-block@7.14.5\" has unmet peer dependency \"@babel/core@^7.0.0-0\".\n",
            "\u001b[2K\u001b[1G\u001b[33mwarning\u001b[39m \"@babel/preset-env > @babel/plugin-syntax-dynamic-import@7.8.3\" has unmet peer dependency \"@babel/core@^7.0.0-0\".\n",
            "\u001b[2K\u001b[1G\u001b[33mwarning\u001b[39m \"@babel/preset-env > @babel/plugin-syntax-export-namespace-from@7.8.3\" has unmet peer dependency \"@babel/core@^7.0.0-0\".\n",
            "\u001b[2K\u001b[1G\u001b[33mwarning\u001b[39m \"@babel/preset-env > @babel/plugin-syntax-import-assertions@7.20.0\" has unmet peer dependency \"@babel/core@^7.0.0-0\".\n",
            "\u001b[2K\u001b[1G\u001b[33mwarning\u001b[39m \"@babel/preset-env > @babel/plugin-syntax-json-strings@7.8.3\" has unmet peer dependency \"@babel/core@^7.0.0-0\".\n",
            "\u001b[2K\u001b[1G\u001b[33mwarning\u001b[39m \"@babel/preset-env > @babel/plugin-syntax-logical-assignment-operators@7.10.4\" has unmet peer dependency \"@babel/core@^7.0.0-0\".\n",
            "\u001b[2K\u001b[1G\u001b[33mwarning\u001b[39m \"@babel/preset-env > @babel/plugin-syntax-nullish-coalescing-operator@7.8.3\" has unmet peer dependency \"@babel/core@^7.0.0-0\".\n",
            "\u001b[2K\u001b[1G\u001b[33mwarning\u001b[39m \"@babel/preset-env > @babel/plugin-syntax-numeric-separator@7.10.4\" has unmet peer dependency \"@babel/core@^7.0.0-0\".\n",
            "\u001b[2K\u001b[1G\u001b[33mwarning\u001b[39m \"@babel/preset-env > @babel/plugin-syntax-object-rest-spread@7.8.3\" has unmet peer dependency \"@babel/core@^7.0.0-0\".\n",
            "\u001b[2K\u001b[1G\u001b[33mwarning\u001b[39m \"@babel/preset-env > @babel/plugin-syntax-optional-catch-binding@7.8.3\" has unmet peer dependency \"@babel/core@^7.0.0-0\".\n",
            "\u001b[2K\u001b[1G\u001b[33mwarning\u001b[39m \"@babel/preset-env > @babel/plugin-syntax-optional-chaining@7.8.3\" has unmet peer dependency \"@babel/core@^7.0.0-0\".\n",
            "\u001b[2K\u001b[1G\u001b[33mwarning\u001b[39m \"@babel/preset-env > @babel/plugin-syntax-private-property-in-object@7.14.5\" has unmet peer dependency \"@babel/core@^7.0.0-0\".\n",
            "\u001b[2K\u001b[1G\u001b[33mwarning\u001b[39m \"@babel/preset-env > @babel/plugin-syntax-top-level-await@7.14.5\" has unmet peer dependency \"@babel/core@^7.0.0-0\".\n",
            "\u001b[2K\u001b[1G\u001b[33mwarning\u001b[39m \"@babel/preset-env > @babel/plugin-transform-arrow-functions@7.18.6\" has unmet peer dependency \"@babel/core@^7.0.0-0\".\n",
            "\u001b[2K\u001b[1G\u001b[33mwarning\u001b[39m \"@babel/preset-env > @babel/plugin-transform-async-to-generator@7.18.6\" has unmet peer dependency \"@babel/core@^7.0.0-0\".\n",
            "\u001b[2K\u001b[1G\u001b[33mwarning\u001b[39m \"@babel/preset-env > @babel/plugin-transform-block-scoped-functions@7.18.6\" has unmet peer dependency \"@babel/core@^7.0.0-0\".\n",
            "\u001b[2K\u001b[1G\u001b[33mwarning\u001b[39m \"@babel/preset-env > @babel/plugin-transform-block-scoping@7.20.5\" has unmet peer dependency \"@babel/core@^7.0.0-0\".\n",
            "\u001b[2K\u001b[1G\u001b[33mwarning\u001b[39m \"@babel/preset-env > @babel/plugin-transform-classes@7.20.2\" has unmet peer dependency \"@babel/core@^7.0.0-0\".\n",
            "\u001b[2K\u001b[1G\u001b[33mwarning\u001b[39m \"@babel/preset-env > @babel/plugin-transform-computed-properties@7.18.9\" has unmet peer dependency \"@babel/core@^7.0.0-0\".\n",
            "\u001b[2K\u001b[1G\u001b[33mwarning\u001b[39m \"@babel/preset-env > @babel/plugin-transform-destructuring@7.20.2\" has unmet peer dependency \"@babel/core@^7.0.0-0\".\n",
            "\u001b[2K\u001b[1G\u001b[33mwarning\u001b[39m \"@babel/preset-env > @babel/plugin-transform-dotall-regex@7.18.6\" has unmet peer dependency \"@babel/core@^7.0.0-0\".\n",
            "\u001b[2K\u001b[1G\u001b[33mwarning\u001b[39m \"@babel/preset-env > @babel/plugin-transform-duplicate-keys@7.18.9\" has unmet peer dependency \"@babel/core@^7.0.0-0\".\n",
            "\u001b[2K\u001b[1G\u001b[33mwarning\u001b[39m \"@babel/preset-env > @babel/plugin-transform-exponentiation-operator@7.18.6\" has unmet peer dependency \"@babel/core@^7.0.0-0\".\n",
            "\u001b[2K\u001b[1G\u001b[33mwarning\u001b[39m \"@babel/preset-env > @babel/plugin-transform-for-of@7.18.8\" has unmet peer dependency \"@babel/core@^7.0.0-0\".\n",
            "\u001b[2K\u001b[1G\u001b[33mwarning\u001b[39m \"@babel/preset-env > @babel/plugin-transform-function-name@7.18.9\" has unmet peer dependency \"@babel/core@^7.0.0-0\".\n",
            "\u001b[2K\u001b[1G\u001b[33mwarning\u001b[39m \"@babel/preset-env > @babel/plugin-transform-literals@7.18.9\" has unmet peer dependency \"@babel/core@^7.0.0-0\".\n",
            "\u001b[2K\u001b[1G\u001b[33mwarning\u001b[39m \"@babel/preset-env > @babel/plugin-transform-member-expression-literals@7.18.6\" has unmet peer dependency \"@babel/core@^7.0.0-0\".\n",
            "\u001b[2K\u001b[1G\u001b[33mwarning\u001b[39m \"@babel/preset-env > @babel/plugin-transform-modules-amd@7.19.6\" has unmet peer dependency \"@babel/core@^7.0.0-0\".\n",
            "\u001b[2K\u001b[1G\u001b[33mwarning\u001b[39m \"@babel/preset-env > @babel/plugin-transform-modules-commonjs@7.19.6\" has unmet peer dependency \"@babel/core@^7.0.0-0\".\n",
            "\u001b[2K\u001b[1G\u001b[33mwarning\u001b[39m \"@babel/preset-env > @babel/plugin-transform-modules-systemjs@7.19.6\" has unmet peer dependency \"@babel/core@^7.0.0-0\".\n",
            "\u001b[2K\u001b[1G\u001b[33mwarning\u001b[39m \"@babel/preset-env > @babel/plugin-transform-modules-umd@7.18.6\" has unmet peer dependency \"@babel/core@^7.0.0-0\".\n",
            "\u001b[2K\u001b[1G\u001b[33mwarning\u001b[39m \"@babel/preset-env > @babel/plugin-transform-named-capturing-groups-regex@7.20.5\" has unmet peer dependency \"@babel/core@^7.0.0\".\n",
            "\u001b[2K\u001b[1G\u001b[33mwarning\u001b[39m \"@babel/preset-env > @babel/plugin-transform-new-target@7.18.6\" has unmet peer dependency \"@babel/core@^7.0.0-0\".\n",
            "\u001b[2K\u001b[1G\u001b[33mwarning\u001b[39m \"@babel/preset-env > @babel/plugin-transform-object-super@7.18.6\" has unmet peer dependency \"@babel/core@^7.0.0-0\".\n",
            "\u001b[2K\u001b[1G\u001b[33mwarning\u001b[39m \"@babel/preset-env > @babel/plugin-transform-parameters@7.20.5\" has unmet peer dependency \"@babel/core@^7.0.0-0\".\n",
            "\u001b[2K\u001b[1G\u001b[33mwarning\u001b[39m \"@babel/preset-env > @babel/plugin-transform-property-literals@7.18.6\" has unmet peer dependency \"@babel/core@^7.0.0-0\".\n",
            "\u001b[2K\u001b[1G\u001b[33mwarning\u001b[39m \"@babel/preset-env > @babel/plugin-transform-regenerator@7.20.5\" has unmet peer dependency \"@babel/core@^7.0.0-0\".\n",
            "\u001b[2K\u001b[1G\u001b[33mwarning\u001b[39m \"@babel/preset-env > @babel/plugin-transform-reserved-words@7.18.6\" has unmet peer dependency \"@babel/core@^7.0.0-0\".\n",
            "\u001b[2K\u001b[1G\u001b[33mwarning\u001b[39m \"@babel/preset-env > @babel/plugin-transform-shorthand-properties@7.18.6\" has unmet peer dependency \"@babel/core@^7.0.0-0\".\n",
            "\u001b[2K\u001b[1G\u001b[33mwarning\u001b[39m \"@babel/preset-env > @babel/plugin-transform-spread@7.19.0\" has unmet peer dependency \"@babel/core@^7.0.0-0\".\n",
            "\u001b[2K\u001b[1G\u001b[33mwarning\u001b[39m \"@babel/preset-env > @babel/plugin-transform-sticky-regex@7.18.6\" has unmet peer dependency \"@babel/core@^7.0.0-0\".\n",
            "\u001b[2K\u001b[1G\u001b[33mwarning\u001b[39m \"@babel/preset-env > @babel/plugin-transform-template-literals@7.18.9\" has unmet peer dependency \"@babel/core@^7.0.0-0\".\n",
            "\u001b[2K\u001b[1G\u001b[33mwarning\u001b[39m \"@babel/preset-env > @babel/plugin-transform-typeof-symbol@7.18.9\" has unmet peer dependency \"@babel/core@^7.0.0-0\".\n",
            "\u001b[2K\u001b[1G\u001b[33mwarning\u001b[39m \"@babel/preset-env > @babel/plugin-transform-unicode-escapes@7.18.10\" has unmet peer dependency \"@babel/core@^7.0.0-0\".\n",
            "\u001b[2K\u001b[1G\u001b[33mwarning\u001b[39m \"@babel/preset-env > @babel/plugin-transform-unicode-regex@7.18.6\" has unmet peer dependency \"@babel/core@^7.0.0-0\".\n",
            "\u001b[2K\u001b[1G\u001b[33mwarning\u001b[39m \"@babel/preset-env > @babel/preset-modules@0.1.5\" has unmet peer dependency \"@babel/core@^7.0.0-0\".\n",
            "\u001b[2K\u001b[1G\u001b[33mwarning\u001b[39m \"@babel/preset-env > babel-plugin-polyfill-corejs2@0.3.3\" has unmet peer dependency \"@babel/core@^7.0.0-0\".\n",
            "\u001b[2K\u001b[1G\u001b[33mwarning\u001b[39m \"@babel/preset-env > babel-plugin-polyfill-corejs3@0.6.0\" has unmet peer dependency \"@babel/core@^7.0.0-0\".\n",
            "\u001b[2K\u001b[1G\u001b[33mwarning\u001b[39m \"@babel/preset-env > babel-plugin-polyfill-regenerator@0.4.1\" has unmet peer dependency \"@babel/core@^7.0.0-0\".\n",
            "\u001b[2K\u001b[1G\u001b[33mwarning\u001b[39m \"@babel/preset-env > @babel/plugin-proposal-async-generator-functions > @babel/helper-remap-async-to-generator@7.18.9\" has unmet peer dependency \"@babel/core@^7.0.0\".\n",
            "\u001b[2K\u001b[1G\u001b[33mwarning\u001b[39m \"@babel/preset-env > @babel/plugin-proposal-class-properties > @babel/helper-create-class-features-plugin@7.20.5\" has unmet peer dependency \"@babel/core@^7.0.0\".\n",
            "\u001b[2K\u001b[1G\u001b[33mwarning\u001b[39m \"@babel/preset-env > @babel/plugin-proposal-unicode-property-regex > @babel/helper-create-regexp-features-plugin@7.20.5\" has unmet peer dependency \"@babel/core@^7.0.0\".\n",
            "\u001b[2K\u001b[1G\u001b[33mwarning\u001b[39m \"@babel/preset-env > babel-plugin-polyfill-corejs2 > @babel/helper-define-polyfill-provider@0.3.3\" has unmet peer dependency \"@babel/core@^7.4.0-0\".\n",
            "\u001b[2K\u001b[1G\u001b[33mwarning\u001b[39m \" > @babel/preset-react@7.18.6\" has unmet peer dependency \"@babel/core@^7.0.0-0\".\n",
            "\u001b[2K\u001b[1G\u001b[33mwarning\u001b[39m \"@babel/preset-react > @babel/plugin-transform-react-display-name@7.18.6\" has unmet peer dependency \"@babel/core@^7.0.0-0\".\n",
            "\u001b[2K\u001b[1G\u001b[33mwarning\u001b[39m \"@babel/preset-react > @babel/plugin-transform-react-jsx@7.19.0\" has unmet peer dependency \"@babel/core@^7.0.0-0\".\n",
            "\u001b[2K\u001b[1G\u001b[33mwarning\u001b[39m \"@babel/preset-react > @babel/plugin-transform-react-jsx-development@7.18.6\" has unmet peer dependency \"@babel/core@^7.0.0-0\".\n",
            "\u001b[2K\u001b[1G\u001b[33mwarning\u001b[39m \"@babel/preset-react > @babel/plugin-transform-react-pure-annotations@7.18.6\" has unmet peer dependency \"@babel/core@^7.0.0-0\".\n",
            "\u001b[2K\u001b[1G\u001b[33mwarning\u001b[39m \"@babel/preset-react > @babel/plugin-transform-react-jsx > @babel/plugin-syntax-jsx@7.18.6\" has unmet peer dependency \"@babel/core@^7.0.0-0\".\n",
            "\u001b[2K\u001b[1G\u001b[33mwarning\u001b[39m \" > @babel/preset-typescript@7.18.6\" has unmet peer dependency \"@babel/core@^7.0.0-0\".\n",
            "\u001b[2K\u001b[1G\u001b[33mwarning\u001b[39m \"@babel/preset-typescript > @babel/plugin-transform-typescript@7.20.2\" has unmet peer dependency \"@babel/core@^7.0.0-0\".\n",
            "\u001b[2K\u001b[1G\u001b[33mwarning\u001b[39m \"@babel/preset-typescript > @babel/plugin-transform-typescript > @babel/plugin-syntax-typescript@7.20.0\" has unmet peer dependency \"@babel/core@^7.0.0-0\".\n",
            "\u001b[2K\u001b[1G\u001b[33mwarning\u001b[39m \" > @craco/craco@6.4.5\" has incorrect peer dependency \"react-scripts@^4.0.0\".\n",
            "\u001b[2K\u001b[1G\u001b[33mwarning\u001b[39m \" > @semantic-release/changelog@6.0.3\" has unmet peer dependency \"semantic-release@>=18.0.0\".\n",
            "\u001b[2K\u001b[1G\u001b[33mwarning\u001b[39m \" > @semantic-release/commit-analyzer@12.0.0\" has unmet peer dependency \"semantic-release@>=20.1.0\".\n",
            "\u001b[2K\u001b[1G\u001b[33mwarning\u001b[39m \" > @semantic-release/git@10.0.1\" has unmet peer dependency \"semantic-release@>=18.0.0\".\n",
            "\u001b[2K\u001b[1G\u001b[33mwarning\u001b[39m \" > @semantic-release/github@10.0.3\" has unmet peer dependency \"semantic-release@>=20.1.0\".\n",
            "\u001b[2K\u001b[1G\u001b[33mwarning\u001b[39m \" > @semantic-release/npm@12.0.0\" has unmet peer dependency \"semantic-release@>=20.1.0\".\n",
            "\u001b[2K\u001b[1G\u001b[33mwarning\u001b[39m \" > @semantic-release/release-notes-generator@13.0.0\" has unmet peer dependency \"semantic-release@>=20.1.0\".\n",
            "\u001b[2K\u001b[1G\u001b[33mwarning\u001b[39m \" > @testing-library/user-event@7.2.1\" has unmet peer dependency \"@testing-library/dom@>=5\".\n",
            "\u001b[2K\u001b[1G\u001b[33mwarning\u001b[39m \" > copy-webpack-plugin@10.2.4\" has unmet peer dependency \"webpack@^5.1.0\".\n",
            "\u001b[2K\u001b[1G\u001b[33mwarning\u001b[39m \"craco-less > less-loader@7.3.0\" has unmet peer dependency \"webpack@^4.0.0 || ^5.0.0\".\n",
            "\u001b[2K\u001b[1G\u001b[33mwarning\u001b[39m \"react-scripts > eslint-config-react-app > eslint-plugin-flowtype@8.0.3\" has unmet peer dependency \"@babel/plugin-syntax-flow@^7.14.5\".\n",
            "\u001b[2K\u001b[1G\u001b[33mwarning\u001b[39m \"react-scripts > eslint-config-react-app > eslint-plugin-flowtype@8.0.3\" has unmet peer dependency \"@babel/plugin-transform-react-jsx@^7.14.9\".\n",
            "\u001b[2K\u001b[1G\u001b[33mwarning\u001b[39m \"react-scripts > workbox-webpack-plugin > workbox-build > @rollup/plugin-babel@5.3.1\" has incorrect peer dependency \"rollup@^1.20.0||^2.0.0\".\n",
            "\u001b[2K\u001b[1G\u001b[33mwarning\u001b[39m \"react-scripts > workbox-webpack-plugin > workbox-build > @rollup/plugin-node-resolve@11.2.1\" has incorrect peer dependency \"rollup@^1.20.0||^2.0.0\".\n",
            "\u001b[2K\u001b[1G\u001b[33mwarning\u001b[39m \"react-scripts > workbox-webpack-plugin > workbox-build > @rollup/plugin-replace@2.4.2\" has incorrect peer dependency \"rollup@^1.20.0 || ^2.0.0\".\n",
            "\u001b[2K\u001b[1G\u001b[33mwarning\u001b[39m \"react-scripts > workbox-webpack-plugin > workbox-build > rollup-plugin-terser@7.0.2\" has incorrect peer dependency \"rollup@^2.0.0\".\n",
            "\u001b[2K\u001b[1G\u001b[33mwarning\u001b[39m \"react-scripts > workbox-webpack-plugin > workbox-build > @rollup/plugin-babel > @rollup/pluginutils@3.1.0\" has incorrect peer dependency \"rollup@^1.20.0||^2.0.0\".\n",
            "\u001b[2K\u001b[1G\u001b[33mwarning\u001b[39m \"ts-standard > @typescript-eslint/eslint-plugin@4.33.0\" has unmet peer dependency \"@typescript-eslint/parser@^4.0.0\".\n",
            "\u001b[2K\u001b[1G\u001b[33mwarning\u001b[39m Workspaces can only be enabled in private projects.\n",
            "\u001b[2K\u001b[1G\u001b[2K\u001b[1G\u001b[1G[] 0/2027\u001b[2K\u001b[1G\u001b[2K\u001b[1G\u001b[1G[] 0/86358\u001b[1G[] 128/86358\u001b[1G[] 256/86358\u001b[1G[] 381/86358\u001b[1G[] 506/86358\u001b[1G[] 631/86358\u001b[1G[] 757/86358\u001b[1G[] 882/86358\u001b[1G[] 1007/86358\u001b[1G[] 1132/86358\u001b[1G[] 1257/86358\u001b[1G[] 1382/86358\u001b[1G[] 1508/86358\u001b[1G[] 1584/86358\u001b[1G[] 1734/86358\u001b[1G[] 1878/86358\u001b[1G[] 2009/86358\u001b[1G[] 2130/86358\u001b[1G[] 2253/86358\u001b[1G[] 2388/86358\u001b[1G[] 2518/86358\u001b[1G[] 2659/86358\u001b[1G[] 2872/86358\u001b[1G[] 3005/86358\u001b[1G[] 3128/86358\u001b[1G[] 3202/86358\u001b[1G[] 3291/86358\u001b[1G[] 3417/86358\u001b[1G[] 3535/86358\u001b[1G[] 3667/86358\u001b[1G[] 3823/86358\u001b[1G[] 4006/86358\u001b[1G[] 4132/86358\u001b[1G[] 4285/86358\u001b[1G[] 4435/86358\u001b[1G[] 4636/86358\u001b[1G[] 4812/86358\u001b[1G[] 4927/86358\u001b[1G[] 5064/86358\u001b[1G[] 5229/86358\u001b[1G[] 5314/86358\u001b[1G[] 5449/86358\u001b[1G[] 5575/86358\u001b[1G[] 5699/86358\u001b[1G[] 5799/86358\u001b[1G[] 5963/86358\u001b[1G[] 6021/86358\u001b[1G[] 6173/86358\u001b[1G[] 6293/86358\u001b[1G[] 6424/86358\u001b[1G[] 6612/86358\u001b[1G[] 6781/86358\u001b[1G[] 6963/86358\u001b[1G[] 7154/86358\u001b[1G[] 7338/86358\u001b[1G[] 7510/86358\u001b[1G[] 7691/86358\u001b[1G[] 7887/86358\u001b[1G[] 8030/86358\u001b[1G[] 8208/86358\u001b[1G[] 8393/86358\u001b[1G[] 8545/86358\u001b[1G[] 8692/86358\u001b[1G[] 8858/86358\u001b[1G[] 8997/86358\u001b[1G[] 9149/86358\u001b[1G[] 9335/86358\u001b[1G[] 9517/86358\u001b[1G[] 9716/86358\u001b[1G[] 9914/86358\u001b[1G[] 10097/86358\u001b[1G[] 10287/86358\u001b[1G[] 10482/86358\u001b[1G[] 10577/86358\u001b[1G[] 10690/86358\u001b[1G[] 10799/86358\u001b[1G[] 10959/86358\u001b[1G[] 11088/86358\u001b[1G[] 11208/86358\u001b[1G[] 11335/86358\u001b[1G[] 11527/86358\u001b[1G[] 11739/86358\u001b[1G[] 11921/86358\u001b[1G[] 12125/86358\u001b[1G[] 12315/86358\u001b[1G[] 12499/86358\u001b[1G[] 12682/86358\u001b[1G[] 12870/86358\u001b[1G[] 13041/86358\u001b[1G[] 13234/86358\u001b[1G[] 13455/86358\u001b[1G[] 13606/86358\u001b[1G[] 13785/86358\u001b[1G[] 13958/86358\u001b[1G[] 14154/86358\u001b[1G[] 14296/86358\u001b[1G[] 14440/86358\u001b[1G[] 14608/86358\u001b[1G[] 14812/86358\u001b[1G[] 14930/86358\u001b[1G[] 15036/86358\u001b[1G[] 15196/86358\u001b[1G[] 15378/86358\u001b[1G[] 15503/86358\u001b[1G[] 15659/86358\u001b[1G[] 15805/86358\u001b[1G[] 15940/86358\u001b[1G[] 16063/86358\u001b[1G[] 16223/86358\u001b[1G[] 16365/86358\u001b[1G[] 16476/86358\u001b[1G[] 16583/86358\u001b[1G[] 16664/86358\u001b[1G[] 16789/86358\u001b[1G[] 16917/86358\u001b[1G[] 17068/86358\u001b[1G[] 17167/86358\u001b[1G[] 17286/86358\u001b[1G[] 17451/86358\u001b[1G[] 17577/86358\u001b[1G[] 17717/86358\u001b[1G[] 17918/86358\u001b[1G[] 18108/86358\u001b[1G[] 18288/86358\u001b[1G[] 18422/86358\u001b[1G[] 18579/86358\u001b[1G[] 18706/86358\u001b[1G[] 18902/86358\u001b[1G[] 19090/86358\u001b[1G[] 19279/86358\u001b[1G[] 19469/86358\u001b[1G[] 19664/86358\u001b[1G[] 19790/86358\u001b[1G[] 19917/86358\u001b[1G[] 19918/86358\u001b[1G[] 19948/86358\u001b[1G[] 20073/86358\u001b[1G[] 20168/86358\u001b[1G[] 20267/86358\u001b[1G[] 20363/86358\u001b[1G[] 20484/86358\u001b[1G[] 20612/86358\u001b[1G[] 20740/86358\u001b[1G[] 20868/86358\u001b[1G[] 20990/86358\u001b[1G[] 21091/86358\u001b[1G[] 21200/86358\u001b[1G[] 21340/86358\u001b[1G[] 21459/86358\u001b[1G[] 21579/86358\u001b[1G[] 21700/86358\u001b[1G[] 21828/86358\u001b[1G[] 21956/86358\u001b[1G[] 22084/86358\u001b[1G[] 22209/86358\u001b[1G[] 22337/86358\u001b[1G[] 22462/86358\u001b[1G[] 22568/86358\u001b[1G[] 22691/86358\u001b[1G[] 22755/86358\u001b[1G[] 22842/86358\u001b[1G[] 22979/86358\u001b[1G[] 23099/86358\u001b[1G[] 23250/86358\u001b[1G[] 23378/86358\u001b[1G[] 23515/86358\u001b[1G[] 23656/86358\u001b[1G[] 23759/86358\u001b[1G[] 23889/86358\u001b[1G[] 24015/86358\u001b[1G[] 24094/86358\u001b[1G[] 24156/86358\u001b[1G[] 24222/86358\u001b[1G[] 24335/86358\u001b[1G[] 24471/86358\u001b[1G[] 24600/86358\u001b[1G[] 24751/86358\u001b[1G[] 24885/86358\u001b[1G[] 25030/86358\u001b[1G[] 25155/86358\u001b[1G[] 25268/86358\u001b[1G[] 25388/86358\u001b[1G[] 25525/86358\u001b[1G[] 25673/86358\u001b[1G[] 25764/86358\u001b[1G[] 25824/86358\u001b[1G[] 25928/86358\u001b[1G[] 26056/86358\u001b[1G[] 26174/86358\u001b[1G[] 26294/86358\u001b[1G[] 26411/86358\u001b[1G[] 26502/86358\u001b[1G[] 26593/86358\u001b[1G[] 26721/86358\u001b[1G[] 26819/86358\u001b[1G[] 26946/86358\u001b[1G[] 27062/86358\u001b[1G[] 27156/86358\u001b[1G[] 27284/86358\u001b[1G[] 27423/86358\u001b[1G[] 27553/86358\u001b[1G[] 27671/86358\u001b[1G[] 27769/86358\u001b[1G[] 27897/86358\u001b[1G[] 28027/86358\u001b[1G[] 28155/86358\u001b[1G[] 28283/86358\u001b[1G[] 28380/86358\u001b[1G[] 28561/86358\u001b[1G[] 28753/86358\u001b[1G[] 28920/86358\u001b[1G[] 29045/86358\u001b[1G[] 29137/86358\u001b[1G[] 29246/86358\u001b[1G[] 29360/86358\u001b[1G[] 29423/86358\u001b[1G[] 29494/86358\u001b[1G[] 29610/86358\u001b[1G[] 29735/86358\u001b[1G[] 29859/86358\u001b[1G[] 29963/86358\u001b[1G[] 30140/86358\u001b[1G[] 30291/86358\u001b[1G[] 30442/86358\u001b[1G[] 30577/86358\u001b[1G[] 30706/86358\u001b[1G[] 30837/86358\u001b[1G[] 30994/86358\u001b[1G[] 31142/86358\u001b[1G[] 31263/86358\u001b[1G[] 31396/86358\u001b[1G[] 31497/86358\u001b[1G[] 31584/86358\u001b[1G[] 31614/86358\u001b[1G[] 31649/86358\u001b[1G[] 31775/86358\u001b[1G[] 31985/86358\u001b[1G[] 32211/86358\u001b[1G[] 32379/86358\u001b[1G[] 32572/86358\u001b[1G[] 32779/86358\u001b[1G[] 32909/86358\u001b[1G[] 33066/86358\u001b[1G[] 33250/86358\u001b[1G[] 33399/86358\u001b[1G[] 33404/86358\u001b[1G[] 33440/86358\u001b[1G[] 33578/86358\u001b[1G[] 33784/86358\u001b[1G[] 33969/86358\u001b[1G[] 34072/86358\u001b[1G[] 34211/86358\u001b[1G[] 34402/86358\u001b[1G[] 34620/86358\u001b[1G[] 34824/86358\u001b[1G[] 34923/86358\u001b[1G[] 35059/86358\u001b[1G[] 35148/86358\u001b[1G[] 35247/86358\u001b[1G[] 35360/86358\u001b[1G[] 35399/86358\u001b[1G[] 35484/86358\u001b[1G[] 35519/86358\u001b[1G[] 35609/86358\u001b[1G[] 35733/86358\u001b[1G[] 35832/86358\u001b[1G[] 35950/86358\u001b[1G[] 36088/86358\u001b[1G[] 36145/86358\u001b[1G[] 36329/86358\u001b[1G[] 36503/86358\u001b[1G[] 36650/86358\u001b[1G[] 36860/86358\u001b[1G[] 37024/86358\u001b[1G[] 37145/86358\u001b[1G[] 37291/86358\u001b[1G[] 37425/86358\u001b[1G[] 37554/86358\u001b[1G[] 37670/86358\u001b[1G[] 37802/86358\u001b[1G[] 37967/86358\u001b[1G[] 38115/86358\u001b[1G[] 38306/86358\u001b[1G[] 38494/86358\u001b[1G[] 38721/86358\u001b[1G[] 38959/86358\u001b[1G[] 39172/86358\u001b[1G[] 39416/86358\u001b[1G[] 39645/86358\u001b[1G[] 39881/86358\u001b[1G[] 40102/86358\u001b[1G[] 40299/86358\u001b[1G[] 40497/86358\u001b[1G[] 40713/86358\u001b[1G[] 40928/86358\u001b[1G[] 41152/86358\u001b[1G[] 41402/86358\u001b[1G[] 41653/86358\u001b[1G[] 41877/86358\u001b[1G[] 42067/86358\u001b[1G[] 42259/86358\u001b[1G[] 42489/86358\u001b[1G[] 42727/86358\u001b[1G[] 42952/86358\u001b[1G[] 43171/86358\u001b[1G[] 43407/86358\u001b[1G[] 43675/86358\u001b[1G[] 43921/86358\u001b[1G[] 44173/86358\u001b[1G[] 44415/86358\u001b[1G[] 44648/86358\u001b[1G[] 44835/86358\u001b[1G[] 45039/86358\u001b[1G[] 45278/86358\u001b[1G[] 45452/86358\u001b[1G[] 45698/86358\u001b[1G[] 45851/86358\u001b[1G[] 46022/86358\u001b[1G[] 46194/86358\u001b[1G[] 46358/86358\u001b[1G[] 46550/86358\u001b[1G[] 46686/86358\u001b[1G[] 46811/86358\u001b[1G[] 46934/86358\u001b[1G[] 47060/86358\u001b[1G[] 47287/86358\u001b[1G[] 47507/86358\u001b[1G[] 47770/86358\u001b[1G[] 47991/86358\u001b[1G[] 48240/86358\u001b[1G[] 48497/86358\u001b[1G[] 48752/86358\u001b[1G[] 48999/86358\u001b[1G[] 49203/86358\u001b[1G[] 49451/86358\u001b[1G[] 49660/86358\u001b[1G[] 49850/86358\u001b[1G[] 50050/86358\u001b[1G[] 50298/86358\u001b[1G[] 50564/86358\u001b[1G[] 50797/86358\u001b[1G[] 51010/86358\u001b[1G[] 51262/86358\u001b[1G[] 51490/86358\u001b[1G[] 51692/86358\u001b[1G[] 51911/86358\u001b[1G[] 52135/86358\u001b[1G[] 52182/86358\u001b[1G[] 52402/86358\u001b[1G[] 52502/86358\u001b[1G[] 52720/86358\u001b[1G[] 52956/86358\u001b[1G[] 53184/86358\u001b[1G[] 53487/86358\u001b[1G[] 53732/86358\u001b[1G[] 54037/86358\u001b[1G[] 54293/86358\u001b[1G[] 54581/86358\u001b[1G[] 54881/86358\u001b[1G[] 55153/86358\u001b[1G[] 55413/86358\u001b[1G[] 55674/86358\u001b[1G[] 55915/86358\u001b[1G[] 56186/86358\u001b[1G[] 56456/86358\u001b[1G[] 56688/86358\u001b[1G[] 56789/86358\u001b[1G[] 56935/86358\u001b[1G[] 57106/86358\u001b[1G[] 57261/86358\u001b[1G[] 57419/86358\u001b[1G[] 57571/86358\u001b[1G[] 57724/86358\u001b[1G[] 57876/86358\u001b[1G[] 58030/86358\u001b[1G[] 58185/86358\u001b[1G[] 58336/86358\u001b[1G[] 58490/86358\u001b[1G[] 58642/86358\u001b[1G[] 58798/86358\u001b[1G[] 58952/86358\u001b[1G[] 59104/86358\u001b[1G[] 59232/86358\u001b[1G[] 59386/86358\u001b[1G[] 59534/86358\u001b[1G[] 59716/86358\u001b[1G[] 59867/86358\u001b[1G[] 60018/86358\u001b[1G[] 60199/86358\u001b[1G[] 60281/86358\u001b[1G[] 60334/86358\u001b[1G[] 60409/86358\u001b[1G[] 60537/86358\u001b[1G[] 60690/86358\u001b[1G[] 60835/86358\u001b[1G[] 60980/86358\u001b[1G[] 61148/86358\u001b[1G[] 61303/86358\u001b[1G[] 61454/86358\u001b[1G[] 61611/86358\u001b[1G[] 61759/86358\u001b[1G[] 61916/86358\u001b[1G[] 62071/86358\u001b[1G[] 62222/86358\u001b[1G[] 62370/86358\u001b[1G[] 62532/86358\u001b[1G[] 62686/86358\u001b[1G[] 62843/86358\u001b[1G[] 62992/86358\u001b[1G[] 63149/86358\u001b[1G[] 63298/86358\u001b[1G[] 63482/86358\u001b[1G[] 63632/86358\u001b[1G[] 63789/86358\u001b[1G[] 63947/86358\u001b[1G[] 64075/86358\u001b[1G[] 64202/86358\u001b[1G[] 64359/86358\u001b[1G[] 64487/86358\u001b[1G[] 64564/86358\u001b[1G[] 64718/86358\u001b[1G[] 64874/86358\u001b[1G[] 65025/86358\u001b[1G[] 65219/86358\u001b[1G[] 65356/86358\u001b[1G[] 65398/86358\u001b[1G[] 65542/86358\u001b[1G[] 65698/86358\u001b[1G[] 65735/86358\u001b[1G[] 65874/86358\u001b[1G[] 66002/86358\u001b[1G[] 66231/86358\u001b[1G[] 66446/86358\u001b[1G[] 66758/86358\u001b[1G[] 67035/86358\u001b[1G[] 67314/86358\u001b[1G[] 67643/86358\u001b[1G[] 67962/86358\u001b[1G[] 68206/86358\u001b[1G[] 68494/86358\u001b[1G[] 68713/86358\u001b[1G[] 68975/86358\u001b[1G[] 69266/86358\u001b[1G[] 69576/86358\u001b[1G[] 69849/86358\u001b[1G[] 70168/86358\u001b[1G[] 70474/86358\u001b[1G[] 70737/86358\u001b[1G[] 71033/86358\u001b[1G[] 71363/86358\u001b[1G[] 71669/86358\u001b[1G[] 71920/86358\u001b[1G[] 72215/86358\u001b[1G[] 72580/86358\u001b[1G[] 72848/86358\u001b[1G[] 73107/86358\u001b[1G[] 73425/86358\u001b[1G[] 73737/86358\u001b[1G[] 74071/86358\u001b[1G[] 74364/86358\u001b[1G[] 74640/86358\u001b[1G[] 74906/86358\u001b[1G[] 75271/86358\u001b[1G[] 75552/86358\u001b[1G[] 75829/86358\u001b[1G[] 76156/86358\u001b[1G[] 76547/86358\u001b[1G[] 76906/86358\u001b[1G[] 77312/86358\u001b[1G[] 77668/86358\u001b[1G[] 78003/86358\u001b[1G[] 78300/86358\u001b[1G[] 78578/86358\u001b[1G[] 78886/86358\u001b[1G[] 79202/86358\u001b[1G[] 79545/86358\u001b[1G[] 79898/86358\u001b[1G[] 80255/86358\u001b[1G[] 80657/86358\u001b[1G[] 81014/86358\u001b[1G[] 81254/86358\u001b[1G[] 81535/86358\u001b[1G[] 81814/86358\u001b[1G[] 82151/86358\u001b[1G[] 82428/86358\u001b[1G[] 82822/86358\u001b[1G[] 83123/86358\u001b[1G[] 83534/86358\u001b[1G[] 83973/86358\u001b[1G[] 84300/86358\u001b[1G[] 84664/86358\u001b[1G[] 85039/86358\u001b[1G[] 85429/86358\u001b[1G[] 85782/86358\u001b[1G[] 86151/86358\u001b[2K\u001b[1G\u001b[2K\u001b[1G\u001b[1G[] 0/3480\u001b[1G[] 388/3480\u001b[1G[] 682/3480\u001b[1G[] 1062/3480\u001b[1G[] 1614/3480\u001b[1G[] 1846/3480\u001b[1G[] 2492/3480\u001b[1G[] 2716/3480\u001b[1G[] 3012/3480\u001b[1G[] 3480/3480\u001b[2K\u001b[1G\u001b[2m[4/4]\u001b[22m Building fresh packages...\n",
            "\u001b[2K\u001b[1G\n",
            "\u001b[2K\u001b[1G\n",
            "\u001b[1G\u001b[0K\u001b[1G\u001b[1A\u001b[0K\u001b[1G\u001b[1B\u001b[1G\u001b[2A\u001b[0K\u001b[1G\u001b[2B\u001b[1G\u001b[0K\u001b[1G\u001b[1A\u001b[0K\u001b[1G\u001b[1B\u001b[1G\u001b[2A\u001b[0K\u001b[1G\u001b[2B\u001b[1G\u001b[0K\u001b[1G\u001b[1A\u001b[0K\u001b[1G\u001b[1B\u001b[1G\u001b[2A\u001b[0K\u001b[1G\u001b[2B\u001b[1G\u001b[0K\u001b[1G\u001b[1A\u001b[0K\u001b[1G\u001b[1B\u001b[1G\u001b[2A\u001b[0K\u001b[1G\u001b[2B\u001b[1G\u001b[0K\u001b[1G\u001b[1A\u001b[0K\u001b[1G\u001b[1B\u001b[1G\u001b[2A\u001b[0K\u001b[1G\u001b[2B\u001b[1G\u001b[0K\u001b[1G\u001b[1A\u001b[0K\u001b[1G\u001b[1B\u001b[1G\u001b[2A\u001b[0K\u001b[1G\u001b[2B\u001b[1G\u001b[0K\u001b[1G\u001b[1A\u001b[0K\u001b[1G\u001b[1B\u001b[1G\u001b[2A\u001b[0K\u001b[1G\u001b[2B\u001b[1G\u001b[0K\u001b[1G\u001b[1A\u001b[0K\u001b[1G\u001b[1B\u001b[1G\u001b[2A\u001b[0K\u001b[1G\u001b[2B\u001b[1G\u001b[0K\u001b[1G\u001b[1A\u001b[0K\u001b[1G\u001b[1B\u001b[1G\u001b[2A\u001b[0K\u001b[1G\u001b[2B\u001b[1G\u001b[0K\u001b[1G\u001b[1A\u001b[0K\u001b[1G\u001b[1B\u001b[1G\u001b[2A\u001b[0K\u001b[1G\u001b[2B\u001b[1G\u001b[0K\u001b[1G\u001b[1A\u001b[0K\u001b[1G\u001b[1B\u001b[1G\u001b[2A\u001b[0K\u001b[1G\u001b[2B\u001b[1G\u001b[2A\u001b[2K\u001b[2B\u001b[1G\u001b[1A\u001b[2K\u001b[1B\u001b[2K\u001b[1G\u001b[2A\u001b[2K\u001b[1G\u001b[32msuccess\u001b[39m Saved lockfile.\n",
            "\u001b[2K\u001b[1G\u001b[2K\u001b[1GDone in 45.47s.\n"
          ]
        }
      ],
      "source": [
        "!cd synlab-slim-viewer && yarn"
      ]
    },
    {
      "cell_type": "markdown",
      "metadata": {
        "id": "P9kpPeSSGchd"
      },
      "source": [
        "## Update Slim's configuration file\n",
        "> The following code snipped configures things like OpenID Connect (OIDC) and server settings.\n",
        "\n"
      ]
    },
    {
      "cell_type": "code",
      "execution_count": 43,
      "metadata": {
        "id": "itSGBEkuv-dQ"
      },
      "outputs": [],
      "source": [
        "settings = \"\"\"\n",
        "window.config = {\n",
        "  // This must match the location configured for web server\n",
        "  path: '/',\n",
        "  servers: [\n",
        "    {\n",
        "      id: 'example',\n",
        "      // This must match the proxy location configured for the DICOMweb server\n",
        "      url:\"https://proxy.imaging.datacommons.cancer.gov/current/viewer-only-no-downloads-see-tinyurl-dot-com-slash-3j3d9jyp/dicomWeb\",\n",
        "      write: false\n",
        "    }\n",
        "  ],\n",
        " oidc: {\n",
        "    authority: \"https://accounts.google.com\",\n",
        "    clientId: %s,\n",
        "    scope: \"email profile openid https://www.googleapis.com/auth/cloud-healthcare\",\n",
        "    grantType: \"implicit\"\n",
        "  },\n",
        "  disableWorklist: false,\n",
        "  disableAnnotationTools: false,\n",
        "  enableServerSelection: true,\n",
        "  mode: 'light',\n",
        "  preload: true,\n",
        "  annotations: [\n",
        "    {\n",
        "      finding: {\n",
        "        value: '85756007',\n",
        "        schemeDesignator: 'SCT',\n",
        "        meaning: 'Tissue'\n",
        "      },\n",
        "      findingCategory: {\n",
        "        value: '91723000',\n",
        "        schemeDesignator: 'SCT',\n",
        "        meaning: 'Anatomical structure'\n",
        "      },\n",
        "      geometryTypes: ['polygon', 'freehandpolygon'],\n",
        "      style: {\n",
        "        stroke: {\n",
        "          color: [255, 255, 0, 1],\n",
        "          width: 2\n",
        "        },\n",
        "        fill: {\n",
        "          color: [255, 255, 255, 0.2]\n",
        "        }\n",
        "      },\n",
        "    },\n",
        "    {\n",
        "      finding: {\n",
        "        value: '108369006',\n",
        "        schemeDesignator: 'SCT',\n",
        "        meaning: 'Tumor'\n",
        "      },\n",
        "      findingCategory: {\n",
        "        value: '49755003',\n",
        "        schemeDesignator: 'SCT',\n",
        "        meaning: 'Morphologically abnormal structure'\n",
        "      },\n",
        "      geometryTypes: ['polygon', 'freehandpolygon'],\n",
        "      style: {\n",
        "        stroke: {\n",
        "          color: [255, 0, 255, 1],\n",
        "          width: 2\n",
        "        },\n",
        "        fill: {\n",
        "          color: [255, 255, 255, 0.2]\n",
        "        }\n",
        "      }\n",
        "    },\n",
        "    {\n",
        "      finding: {\n",
        "        value: '34823008',\n",
        "        schemeDesignator: 'SCT',\n",
        "        meaning: 'Tumor necrosis'\n",
        "      },\n",
        "      findingCategory: {\n",
        "        value: '49755003',\n",
        "        schemeDesignator: 'SCT',\n",
        "        meaning: 'Morphologically abnormal structure'\n",
        "      },\n",
        "      geometryTypes: ['polygon', 'freehandpolygon'],\n",
        "      style: {\n",
        "        stroke: {\n",
        "          color: [51, 204, 51, 1],\n",
        "          width: 2\n",
        "        },\n",
        "        fill: {\n",
        "          color: [255, 255, 255, 0.2]\n",
        "        }\n",
        "      }\n",
        "    },\n",
        "    {\n",
        "      finding: {\n",
        "        value: '369705002',\n",
        "        schemeDesignator: 'SCT',\n",
        "        meaning: 'Invasive tumor border'\n",
        "      },\n",
        "      findingCategory: {\n",
        "        value: '395557000',\n",
        "        schemeDesignator: 'SCT',\n",
        "        meaning: 'Tumor finding'\n",
        "      },\n",
        "      geometryTypes: ['line', 'freehandline'],\n",
        "      style: {\n",
        "        stroke: {\n",
        "          color: [51, 102, 255, 1],\n",
        "          width: 2\n",
        "        },\n",
        "        fill: {\n",
        "          color: [255, 255, 255, 0.2]\n",
        "        }\n",
        "      }\n",
        "    },\n",
        "    {\n",
        "      finding: {\n",
        "        value: '399721002',\n",
        "        schemeDesignator: 'SCT',\n",
        "        meaning: 'Tumor infiltration by lymphocytes present'\n",
        "      },\n",
        "      findingCategory: {\n",
        "        value: '395557000',\n",
        "        schemeDesignator: 'SCT',\n",
        "        meaning: 'Tumor finding'\n",
        "      },\n",
        "      geometryTypes: ['polygon', 'freehandpolygon'],\n",
        "      style: {\n",
        "        stroke: {\n",
        "          color: [51, 204, 204, 1],\n",
        "          width: 2\n",
        "        },\n",
        "        fill: {\n",
        "          color: [255, 255, 255, 0.2]\n",
        "        }\n",
        "      }\n",
        "    },\n",
        "    {\n",
        "      finding: {\n",
        "        value: '47973001',\n",
        "        schemeDesignator: 'SCT',\n",
        "        meaning: 'Artifact'\n",
        "      },\n",
        "      geometryTypes: ['polygon', 'freehandpolygon'],\n",
        "      style: {\n",
        "        stroke: {\n",
        "          color: [255, 80, 80, 1],\n",
        "          width: 2\n",
        "        },\n",
        "        fill: {\n",
        "          color: [255, 255, 255, 0.2]\n",
        "        }\n",
        "      }\n",
        "    }\n",
        "  ]\n",
        "}\n",
        "\"\"\"%(gcpClientID)\n",
        "\n",
        "with open(\"slim/public/config/example.js\", \"w\") as f:\n",
        "    f.write(settings)"
      ]
    },
    {
      "cell_type": "markdown",
      "metadata": {
        "id": "4-vfR5-sGiug"
      },
      "source": [
        "## Update SLIM's Firebase config to deploy configuration\n",
        "\n"
      ]
    },
    {
      "cell_type": "code",
      "execution_count": 44,
      "metadata": {
        "id": "pIFozDye8AuU"
      },
      "outputs": [],
      "source": [
        "settings_firebase = \"\"\"\n",
        "{\n",
        "  \"hosting\": {\n",
        "    \"public\": \"build\",\n",
        "    \"ignore\": [\n",
        "      \"firebase.json\",\n",
        "      \"**/.*\",\n",
        "      \"**/node_modules/**\"\n",
        "    ],\n",
        "    \"rewrites\": [\n",
        "      {\n",
        "        \"source\": \"**\",\n",
        "        \"destination\": \"/index.html\"\n",
        "      }\n",
        "    ]\n",
        "  }\n",
        "}\n",
        "\"\"\"\n",
        "\n",
        "with open(\"slim/firebase.json\", \"w\") as f:\n",
        "  f.write(settings_firebase)"
      ]
    },
    {
      "cell_type": "markdown",
      "metadata": {
        "id": "ewDNeCh2Gt3s"
      },
      "source": [
        "## Build SLIM\n",
        "\n"
      ]
    },
    {
      "cell_type": "code",
      "execution_count": 45,
      "metadata": {
        "id": "br6_9Ba_uTnc",
        "colab": {
          "base_uri": "https://localhost:8080/"
        },
        "outputId": "b48c3e9d-f714-48d1-e727-5e13b1748b1d"
      },
      "outputs": [
        {
          "output_type": "stream",
          "name": "stdout",
          "text": [
            "\u001b[2K\u001b[1G\u001b[1myarn run v1.22.22\u001b[22m\n",
            "\u001b[2K\u001b[1G\u001b[33mwarning\u001b[39m ../package.json: No license field\n",
            "\u001b[2K\u001b[1G\u001b[2m$ craco build\u001b[22m\n",
            "(node:11604) [DEP0176] DeprecationWarning: fs.F_OK is deprecated, use fs.constants.F_OK instead\n",
            "(Use `node --trace-deprecation ...` to show where the warning was created)\n",
            "Creating an optimized production build...\n",
            "Browserslist: caniuse-lite is outdated. Please run:\n",
            "  npx update-browserslist-db@latest\n",
            "  Why you should do it regularly: https://github.com/browserslist/update-db#readme\n",
            "Browserslist: caniuse-lite is outdated. Please run:\n",
            "  npx update-browserslist-db@latest\n",
            "  Why you should do it regularly: https://github.com/browserslist/update-db#readme\n",
            "\u001b[32mCompiled successfully.\u001b[39m\n",
            "\u001b[32m\u001b[39m\n",
            "File sizes after gzip:\n",
            "\n",
            "  \u001b[33m1.15 MB  \u001b[39m  \u001b[2mbuild/static/js/\u001b[22m\u001b[36m748.b2400262.chunk.js\u001b[39m\n",
            "  700.84 kB  \u001b[2mbuild/static/js/\u001b[22m\u001b[36mdicomMicroscopyViewer.min.js\u001b[39m\n",
            "  102.57 kB  \u001b[2mbuild/static/js/\u001b[22m\u001b[36mmain.93037a91.js\u001b[39m\n",
            "  73.12 kB   \u001b[2mbuild/static/css/\u001b[22m\u001b[36m808.25d876da.chunk.css\u001b[39m\n",
            "  71.59 kB   \u001b[2mbuild/static/css/\u001b[22m\u001b[36m912.c78c3af2.chunk.css\u001b[39m\n",
            "  71.51 kB   \u001b[2mbuild/static/js/\u001b[22m\u001b[36mdataLoader.worker.min.js\u001b[39m\n",
            "  45.33 kB   \u001b[2mbuild/static/js/\u001b[22m\u001b[36m639.1a7fcfb2.chunk.js\u001b[39m\n",
            "  263 B      \u001b[2mbuild/static/css/\u001b[22m\u001b[36mmain.e6c13ad2.css\u001b[39m\n",
            "  179 B      \u001b[2mbuild/static/js/\u001b[22m\u001b[36m808.16769550.chunk.js\u001b[39m\n",
            "  179 B      \u001b[2mbuild/static/js/\u001b[22m\u001b[36m912.c8e83508.chunk.js\u001b[39m\n",
            "\n",
            "\u001b[33mThe bundle size is significantly larger than recommended.\u001b[39m\n",
            "\u001b[33mConsider reducing it with code splitting: https://goo.gl/9VhYWB\u001b[39m\n",
            "\u001b[33mYou can also analyze the project dependencies: https://goo.gl/LeUzfb\u001b[39m\n",
            "\n",
            "The project was built assuming it is hosted at \u001b[32m/\u001b[39m.\n",
            "You can control this with the \u001b[32mhomepage\u001b[39m field in your \u001b[36mpackage.json\u001b[39m.\n",
            "\n",
            "The \u001b[36mbuild\u001b[39m folder is ready to be deployed.\n",
            "You may serve it with a static server:\n",
            "\n",
            "  \u001b[36myarn\u001b[39m global add serve\n",
            "  \u001b[36mserve\u001b[39m -s build\n",
            "\n",
            "Find out more about deployment here:\n",
            "\n",
            "  \u001b[33mhttps://cra.link/deployment\u001b[39m\n",
            "\n",
            "\u001b[2K\u001b[1GDone in 229.95s.\n"
          ]
        }
      ],
      "source": [
        "!cd synlab-slim-viewer && yarn build"
      ]
    },
    {
      "cell_type": "markdown",
      "metadata": {
        "id": "aSoV9UpbPyqx"
      },
      "source": [
        "## Login and initialize Firebase configuration\n",
        "\n",
        "  "
      ]
    },
    {
      "cell_type": "markdown",
      "metadata": {
        "id": "HYkfeov9Xe31"
      },
      "source": [
        "> **User interaction required**: In the next step we login to Firebase and configure the setup of Firebase on the VM. When prompted regarding error reporting information, double click next to the prompt, and type your selection. Next, follow the authorization URL to grant the necessary permissions to Firebase, then double-click next to the \"Paste authorization code\", paste the code and hit \"Enter\" to complete the process."
      ]
    },
    {
      "cell_type": "code",
      "execution_count": 46,
      "metadata": {
        "id": "VDMPhLZ4tMDS",
        "colab": {
          "base_uri": "https://localhost:8080/"
        },
        "outputId": "2e354100-4f26-4261-ecb0-9dcfecbc3ab7"
      },
      "outputs": [
        {
          "output_type": "stream",
          "name": "stdout",
          "text": [
            "\u001b[36m\u001b[1mi \u001b[22m\u001b[39m The Firebase CLI’s MCP server feature can optionally make use of Gemini in Firebase. Learn more about Gemini in Firebase and how it uses your data: https://firebase.google.com/docs/gemini-in-firebase#how-gemini-in-firebase-uses-your-data\n",
            "\u001b[34m?\u001b[39m \u001b[1mEnable Gemini in Firebase features?\u001b[22m \u001b[2m(Y/n)\u001b[22m\u001b[45G\u001b[46G\u001b[2K\u001b[G\u001b[34m?\u001b[39m \u001b[1mEnable Gemini in Firebase features?\u001b[22m \u001b[2m(Y/n)\u001b[22m Y\u001b[46G\u001b[45G\u001b[2K\u001b[G\u001b[32m✔\u001b[39m \u001b[1mEnable Gemini in Firebase features?\u001b[22m \u001b[36mYes\u001b[39m\u001b[42G\n",
            "\u001b[?25h\n",
            "\u001b[36m\u001b[1mi \u001b[22m\u001b[39m Firebase optionally collects CLI and Emulator Suite usage and error reporting information to help improve our products. Data is collected in accordance with Google's privacy policy (https://policies.google.com/privacy) and is not used to identify you.\n",
            "\u001b[34m?\u001b[39m \u001b[1mAllow Firebase to collect CLI and Emulator Suite usage and error reporting \u001b[22m\n",
            "\u001b[1minformation?\u001b[22m \u001b[2m(Y/n)\u001b[22m\u001b[1A\u001b[97G\u001b[98G\u001b[1B\u001b[2K\u001b[1A\u001b[2K\u001b[G\u001b[34m?\u001b[39m \u001b[1mAllow Firebase to collect CLI and Emulator Suite usage and error reporting \u001b[22m\n",
            "\u001b[1minformation?\u001b[22m \u001b[2m(Y/n)\u001b[22m >\u001b[1A\u001b[98G\u001b[97G\u001b[1B\u001b[2K\u001b[1A\u001b[2K\u001b[G\u001b[32m✔\u001b[39m \u001b[1mAllow Firebase to collect CLI and Emulator Suite usage and error reporting \u001b[22m\n",
            "\u001b[1minformation?\u001b[22m \u001b[36mYes\u001b[39m\u001b[1A\u001b[94G\u001b[1B\n",
            "\u001b[?25h\n",
            "\u001b[36m\u001b[1mi \u001b[22m\u001b[39m To change your preferences at any time, run `firebase logout` and `firebase login` again.\n",
            "\n",
            "To sign in to the Firebase CLI:\n",
            "\n",
            "1. Take note of your session ID:\n",
            "\n",
            "   \u001b[1mF836F\u001b[22m\n",
            "\n",
            "2. Visit the URL below on any device and follow the instructions to get your code:\n",
            "\n",
            "   https://auth.firebase.tools/login?code_challenge=Acl9eJX3TmvyBehmrelnPO-5165rPdK0AYxvQzEUMWA&session=f836f4fe-9b64-4260-a7bd-55d05fd0e6f7&attest=xUTz_C4iy2AJjQK8Xt7aEGjvS_KjykpDkZ7jcs0RFKY\n",
            "\n",
            "3. Paste or enter the authorization code below once you have it:\n",
            "\n",
            "\u001b[34m?\u001b[39m \u001b[1mEnter authorization code:\u001b[22m\u001b[29G\u001b[30G\u001b[2K\u001b[G\u001b[34m?\u001b[39m \u001b[1mEnter authorization code:\u001b[22m 4\u001b[30G\u001b[31G\u001b[2K\u001b[G\u001b[34m?\u001b[39m \u001b[1mEnter authorization code:\u001b[22m 4/\u001b[31G\u001b[32G\u001b[2K\u001b[G\u001b[34m?\u001b[39m \u001b[1mEnter authorization code:\u001b[22m 4/0\u001b[32G\u001b[33G\u001b[2K\u001b[G\u001b[34m?\u001b[39m \u001b[1mEnter authorization code:\u001b[22m 4/0A\u001b[33G\u001b[34G\u001b[2K\u001b[G\u001b[34m?\u001b[39m \u001b[1mEnter authorization code:\u001b[22m 4/0AV\u001b[34G\u001b[35G\u001b[2K\u001b[G\u001b[34m?\u001b[39m \u001b[1mEnter authorization code:\u001b[22m 4/0AVG\u001b[35G\u001b[36G\u001b[2K\u001b[G\u001b[34m?\u001b[39m \u001b[1mEnter authorization code:\u001b[22m 4/0AVGz\u001b[36G\u001b[37G\u001b[2K\u001b[G\u001b[34m?\u001b[39m \u001b[1mEnter authorization code:\u001b[22m 4/0AVGzR\u001b[37G\u001b[38G\u001b[2K\u001b[G\u001b[34m?\u001b[39m \u001b[1mEnter authorization code:\u001b[22m 4/0AVGzR1\u001b[38G\u001b[39G\u001b[2K\u001b[G\u001b[34m?\u001b[39m \u001b[1mEnter authorization code:\u001b[22m 4/0AVGzR1A\u001b[39G\u001b[40G\u001b[2K\u001b[G\u001b[34m?\u001b[39m \u001b[1mEnter authorization code:\u001b[22m 4/0AVGzR1Au\u001b[40G\u001b[41G\u001b[2K\u001b[G\u001b[34m?\u001b[39m \u001b[1mEnter authorization code:\u001b[22m 4/0AVGzR1Auo\u001b[41G\u001b[42G\u001b[2K\u001b[G\u001b[34m?\u001b[39m \u001b[1mEnter authorization code:\u001b[22m 4/0AVGzR1Auo2\u001b[42G\u001b[43G\u001b[2K\u001b[G\u001b[34m?\u001b[39m \u001b[1mEnter authorization code:\u001b[22m 4/0AVGzR1Auo2x\u001b[43G\u001b[44G\u001b[2K\u001b[G\u001b[34m?\u001b[39m \u001b[1mEnter authorization code:\u001b[22m 4/0AVGzR1Auo2x0\u001b[44G\u001b[45G\u001b[2K\u001b[G\u001b[34m?\u001b[39m \u001b[1mEnter authorization code:\u001b[22m 4/0AVGzR1Auo2x0n\u001b[45G\u001b[46G\u001b[2K\u001b[G\u001b[34m?\u001b[39m \u001b[1mEnter authorization code:\u001b[22m 4/0AVGzR1Auo2x0nj\u001b[46G\u001b[47G\u001b[2K\u001b[G\u001b[34m?\u001b[39m \u001b[1mEnter authorization code:\u001b[22m 4/0AVGzR1Auo2x0nj2\u001b[47G\u001b[48G\u001b[2K\u001b[G\u001b[34m?\u001b[39m \u001b[1mEnter authorization code:\u001b[22m 4/0AVGzR1Auo2x0nj2c\u001b[48G\u001b[49G\u001b[2K\u001b[G\u001b[34m?\u001b[39m \u001b[1mEnter authorization code:\u001b[22m 4/0AVGzR1Auo2x0nj2cV\u001b[49G\u001b[50G\u001b[2K\u001b[G\u001b[34m?\u001b[39m \u001b[1mEnter authorization code:\u001b[22m 4/0AVGzR1Auo2x0nj2cVX\u001b[50G\u001b[51G\u001b[2K\u001b[G\u001b[34m?\u001b[39m \u001b[1mEnter authorization code:\u001b[22m 4/0AVGzR1Auo2x0nj2cVX4\u001b[51G\u001b[52G\u001b[2K\u001b[G\u001b[34m?\u001b[39m \u001b[1mEnter authorization code:\u001b[22m 4/0AVGzR1Auo2x0nj2cVX45\u001b[52G\u001b[53G\u001b[2K\u001b[G\u001b[34m?\u001b[39m \u001b[1mEnter authorization code:\u001b[22m 4/0AVGzR1Auo2x0nj2cVX45u\u001b[53G\u001b[54G\u001b[2K\u001b[G\u001b[34m?\u001b[39m \u001b[1mEnter authorization code:\u001b[22m 4/0AVGzR1Auo2x0nj2cVX45uP\u001b[54G\u001b[55G\u001b[2K\u001b[G\u001b[34m?\u001b[39m \u001b[1mEnter authorization code:\u001b[22m 4/0AVGzR1Auo2x0nj2cVX45uPv\u001b[55G\u001b[56G\u001b[2K\u001b[G\u001b[34m?\u001b[39m \u001b[1mEnter authorization code:\u001b[22m 4/0AVGzR1Auo2x0nj2cVX45uPvW\u001b[56G\u001b[57G\u001b[2K\u001b[G\u001b[34m?\u001b[39m \u001b[1mEnter authorization code:\u001b[22m 4/0AVGzR1Auo2x0nj2cVX45uPvWX\u001b[57G\u001b[58G\u001b[2K\u001b[G\u001b[34m?\u001b[39m \u001b[1mEnter authorization code:\u001b[22m 4/0AVGzR1Auo2x0nj2cVX45uPvWXn\u001b[58G\u001b[59G\u001b[2K\u001b[G\u001b[34m?\u001b[39m \u001b[1mEnter authorization code:\u001b[22m 4/0AVGzR1Auo2x0nj2cVX45uPvWXn7\u001b[59G\u001b[60G\u001b[2K\u001b[G\u001b[34m?\u001b[39m \u001b[1mEnter authorization code:\u001b[22m 4/0AVGzR1Auo2x0nj2cVX45uPvWXn7O\u001b[60G\u001b[61G\u001b[2K\u001b[G\u001b[34m?\u001b[39m \u001b[1mEnter authorization code:\u001b[22m 4/0AVGzR1Auo2x0nj2cVX45uPvWXn7O8\u001b[61G\u001b[62G\u001b[2K\u001b[G\u001b[34m?\u001b[39m \u001b[1mEnter authorization code:\u001b[22m 4/0AVGzR1Auo2x0nj2cVX45uPvWXn7O86\u001b[62G\u001b[63G\u001b[2K\u001b[G\u001b[34m?\u001b[39m \u001b[1mEnter authorization code:\u001b[22m 4/0AVGzR1Auo2x0nj2cVX45uPvWXn7O860\u001b[63G\u001b[64G\u001b[2K\u001b[G\u001b[34m?\u001b[39m \u001b[1mEnter authorization code:\u001b[22m 4/0AVGzR1Auo2x0nj2cVX45uPvWXn7O860t\u001b[64G\u001b[65G\u001b[2K\u001b[G\u001b[34m?\u001b[39m \u001b[1mEnter authorization code:\u001b[22m 4/0AVGzR1Auo2x0nj2cVX45uPvWXn7O860tQ\u001b[65G\u001b[66G\u001b[2K\u001b[G\u001b[34m?\u001b[39m \u001b[1mEnter authorization code:\u001b[22m 4/0AVGzR1Auo2x0nj2cVX45uPvWXn7O860tQU\u001b[66G\u001b[67G\u001b[2K\u001b[G\u001b[34m?\u001b[39m \u001b[1mEnter authorization code:\u001b[22m 4/0AVGzR1Auo2x0nj2cVX45uPvWXn7O860tQUX\u001b[67G\u001b[68G\u001b[2K\u001b[G\u001b[34m?\u001b[39m \u001b[1mEnter authorization code:\u001b[22m 4/0AVGzR1Auo2x0nj2cVX45uPvWXn7O860tQUXP\u001b[68G\u001b[69G\u001b[2K\u001b[G\u001b[34m?\u001b[39m \u001b[1mEnter authorization code:\u001b[22m 4/0AVGzR1Auo2x0nj2cVX45uPvWXn7O860tQUXPw\u001b[69G\u001b[70G\u001b[2K\u001b[G\u001b[34m?\u001b[39m \u001b[1mEnter authorization code:\u001b[22m 4/0AVGzR1Auo2x0nj2cVX45uPvWXn7O860tQUXPww\u001b[70G\u001b[71G\u001b[2K\u001b[G\u001b[34m?\u001b[39m \u001b[1mEnter authorization code:\u001b[22m 4/0AVGzR1Auo2x0nj2cVX45uPvWXn7O860tQUXPwwn\u001b[71G\u001b[72G\u001b[2K\u001b[G\u001b[34m?\u001b[39m \u001b[1mEnter authorization code:\u001b[22m 4/0AVGzR1Auo2x0nj2cVX45uPvWXn7O860tQUXPwwn1\u001b[72G\u001b[73G\u001b[2K\u001b[G\u001b[34m?\u001b[39m \u001b[1mEnter authorization code:\u001b[22m 4/0AVGzR1Auo2x0nj2cVX45uPvWXn7O860tQUXPwwn1R\u001b[73G\u001b[74G\u001b[2K\u001b[G\u001b[34m?\u001b[39m \u001b[1mEnter authorization code:\u001b[22m 4/0AVGzR1Auo2x0nj2cVX45uPvWXn7O860tQUXPwwn1RK\u001b[74G\u001b[75G\u001b[2K\u001b[G\u001b[34m?\u001b[39m \u001b[1mEnter authorization code:\u001b[22m 4/0AVGzR1Auo2x0nj2cVX45uPvWXn7O860tQUXPwwn1RK7\u001b[75G\u001b[76G\u001b[2K\u001b[G\u001b[34m?\u001b[39m \u001b[1mEnter authorization code:\u001b[22m 4/0AVGzR1Auo2x0nj2cVX45uPvWXn7O860tQUXPwwn1RK7f\u001b[76G\u001b[77G\u001b[2K\u001b[G\u001b[34m?\u001b[39m \u001b[1mEnter authorization code:\u001b[22m 4/0AVGzR1Auo2x0nj2cVX45uPvWXn7O860tQUXPwwn1RK7fZ\u001b[77G\u001b[78G\u001b[2K\u001b[G\u001b[34m?\u001b[39m \u001b[1mEnter authorization code:\u001b[22m 4/0AVGzR1Auo2x0nj2cVX45uPvWXn7O860tQUXPwwn1RK7fZH\u001b[78G\u001b[79G\u001b[2K\u001b[G\u001b[34m?\u001b[39m \u001b[1mEnter authorization code:\u001b[22m 4/0AVGzR1Auo2x0nj2cVX45uPvWXn7O860tQUXPwwn1RK7fZHM\u001b[79G\u001b[80G\u001b[2K\u001b[G\u001b[34m?\u001b[39m \u001b[1mEnter authorization code:\u001b[22m 4/0AVGzR1Auo2x0nj2cVX45uPvWXn7O860tQUXPwwn1RK7fZHMN\u001b[80G\u001b[81G\u001b[2K\u001b[G\u001b[34m?\u001b[39m \u001b[1mEnter authorization code:\u001b[22m 4/0AVGzR1Auo2x0nj2cVX45uPvWXn7O860tQUXPwwn1RK7fZHMNw\n",
            "\u001b[1A\u001b[81G\u001b[82G\u001b[1B\u001b[2K\u001b[1A\u001b[2K\u001b[G\u001b[34m?\u001b[39m \u001b[1mEnter authorization code:\u001b[22m\n",
            "4/0AVGzR1Auo2x0nj2cVX45uPvWXn7O860tQUXPwwn1RK7fZHMNwz\u001b[1A\u001b[82G\u001b[83G\u001b[1B\u001b[2K\u001b[1A\u001b[2K\u001b[G\u001b[34m?\u001b[39m \u001b[1mEnter authorization code:\u001b[22m\n",
            "4/0AVGzR1Auo2x0nj2cVX45uPvWXn7O860tQUXPwwn1RK7fZHMNwz-\u001b[1A\u001b[83G\u001b[84G\u001b[1B\u001b[2K\u001b[1A\u001b[2K\u001b[G\u001b[34m?\u001b[39m \u001b[1mEnter authorization code:\u001b[22m\n",
            "4/0AVGzR1Auo2x0nj2cVX45uPvWXn7O860tQUXPwwn1RK7fZHMNwz-z\u001b[1A\u001b[84G\u001b[85G\u001b[1B\u001b[2K\u001b[1A\u001b[2K\u001b[G\u001b[34m?\u001b[39m \u001b[1mEnter authorization code:\u001b[22m\n",
            "4/0AVGzR1Auo2x0nj2cVX45uPvWXn7O860tQUXPwwn1RK7fZHMNwz-z9\u001b[1A\u001b[85G\u001b[86G\u001b[1B\u001b[2K\u001b[1A\u001b[2K\u001b[G\u001b[34m?\u001b[39m \u001b[1mEnter authorization code:\u001b[22m\n",
            "4/0AVGzR1Auo2x0nj2cVX45uPvWXn7O860tQUXPwwn1RK7fZHMNwz-z93\u001b[1A\u001b[86G\u001b[87G\u001b[1B\u001b[2K\u001b[1A\u001b[2K\u001b[G\u001b[34m?\u001b[39m \u001b[1mEnter authorization code:\u001b[22m\n",
            "4/0AVGzR1Auo2x0nj2cVX45uPvWXn7O860tQUXPwwn1RK7fZHMNwz-z93S\u001b[1A\u001b[87G\u001b[88G\u001b[1B\u001b[2K\u001b[1A\u001b[2K\u001b[G\u001b[34m?\u001b[39m \u001b[1mEnter authorization code:\u001b[22m\n",
            "4/0AVGzR1Auo2x0nj2cVX45uPvWXn7O860tQUXPwwn1RK7fZHMNwz-z93S_\u001b[1A\u001b[88G\u001b[89G\u001b[1B\u001b[2K\u001b[1A\u001b[2K\u001b[G\u001b[34m?\u001b[39m \u001b[1mEnter authorization code:\u001b[22m\n",
            "4/0AVGzR1Auo2x0nj2cVX45uPvWXn7O860tQUXPwwn1RK7fZHMNwz-z93S_W\u001b[1A\u001b[89G\u001b[90G\u001b[1B\u001b[2K\u001b[1A\u001b[2K\u001b[G\u001b[34m?\u001b[39m \u001b[1mEnter authorization code:\u001b[22m\n",
            "4/0AVGzR1Auo2x0nj2cVX45uPvWXn7O860tQUXPwwn1RK7fZHMNwz-z93S_WO\u001b[1A\u001b[90G\u001b[91G\u001b[1B\u001b[2K\u001b[1A\u001b[2K\u001b[G\u001b[34m?\u001b[39m \u001b[1mEnter authorization code:\u001b[22m\n",
            "4/0AVGzR1Auo2x0nj2cVX45uPvWXn7O860tQUXPwwn1RK7fZHMNwz-z93S_WOZ\u001b[1A\u001b[91G\u001b[92G\u001b[1B\u001b[2K\u001b[1A\u001b[2K\u001b[G\u001b[34m?\u001b[39m \u001b[1mEnter authorization code:\u001b[22m\n",
            "4/0AVGzR1Auo2x0nj2cVX45uPvWXn7O860tQUXPwwn1RK7fZHMNwz-z93S_WOZ6\u001b[1A\u001b[92G\u001b[93G\u001b[1B\u001b[2K\u001b[1A\u001b[2K\u001b[G\u001b[34m?\u001b[39m \u001b[1mEnter authorization code:\u001b[22m\n",
            "4/0AVGzR1Auo2x0nj2cVX45uPvWXn7O860tQUXPwwn1RK7fZHMNwz-z93S_WOZ6s\u001b[1A\u001b[93G\u001b[94G\u001b[1B\u001b[2K\u001b[1A\u001b[2K\u001b[G\u001b[34m?\u001b[39m \u001b[1mEnter authorization code:\u001b[22m\n",
            "4/0AVGzR1Auo2x0nj2cVX45uPvWXn7O860tQUXPwwn1RK7fZHMNwz-z93S_WOZ6sP\u001b[1A\u001b[94G\u001b[95G\u001b[1B\u001b[2K\u001b[1A\u001b[2K\u001b[G\u001b[34m?\u001b[39m \u001b[1mEnter authorization code:\u001b[22m\n",
            "4/0AVGzR1Auo2x0nj2cVX45uPvWXn7O860tQUXPwwn1RK7fZHMNwz-z93S_WOZ6sPq\u001b[1A\u001b[95G\u001b[96G\u001b[1B\u001b[2K\u001b[1A\u001b[2K\u001b[G\u001b[34m?\u001b[39m \u001b[1mEnter authorization code:\u001b[22m\n",
            "4/0AVGzR1Auo2x0nj2cVX45uPvWXn7O860tQUXPwwn1RK7fZHMNwz-z93S_WOZ6sPqV\u001b[1A\u001b[96G\u001b[97G\u001b[1B\u001b[2K\u001b[1A\u001b[2K\u001b[G\u001b[34m?\u001b[39m \u001b[1mEnter authorization code:\u001b[22m\n",
            "4/0AVGzR1Auo2x0nj2cVX45uPvWXn7O860tQUXPwwn1RK7fZHMNwz-z93S_WOZ6sPqVd\u001b[1A\u001b[97G\u001b[98G\u001b[1B\u001b[2K\u001b[1A\u001b[2K\u001b[G\u001b[34m?\u001b[39m \u001b[1mEnter authorization code:\u001b[22m\n",
            "4/0AVGzR1Auo2x0nj2cVX45uPvWXn7O860tQUXPwwn1RK7fZHMNwz-z93S_WOZ6sPqVdj\u001b[1A\u001b[98G\u001b[99G\u001b[1B\u001b[2K\u001b[1A\u001b[2K\u001b[G\u001b[34m?\u001b[39m \u001b[1mEnter authorization code:\u001b[22m\n",
            "4/0AVGzR1Auo2x0nj2cVX45uPvWXn7O860tQUXPwwn1RK7fZHMNwz-z93S_WOZ6sPqVdjA\u001b[1A\u001b[99G\u001b[100G\u001b[1B\u001b[2K\u001b[1A\u001b[2K\u001b[G\u001b[34m?\u001b[39m \u001b[1mEnter authorization code:\u001b[22m\n",
            "4/0AVGzR1Auo2x0nj2cVX45uPvWXn7O860tQUXPwwn1RK7fZHMNwz-z93S_WOZ6sPqVdjAv\u001b[1A\u001b[100G\u001b[101G\u001b[1B\u001b[2K\u001b[1A\u001b[2K\u001b[G\u001b[34m?\u001b[39m \u001b[1mEnter authorization code:\u001b[22m\n",
            "4/0AVGzR1Auo2x0nj2cVX45uPvWXn7O860tQUXPwwn1RK7fZHMNwz-z93S_WOZ6sPqVdjAvX\u001b[1A\u001b[101G\u001b[102G\u001b[1B\u001b[2K\u001b[1A\u001b[2K\u001b[G\u001b[34m?\u001b[39m \u001b[1mEnter authorization code:\u001b[22m\n",
            "4/0AVGzR1Auo2x0nj2cVX45uPvWXn7O860tQUXPwwn1RK7fZHMNwz-z93S_WOZ6sPqVdjAvXA\u001b[1A\u001b[102G\u001b[29G\u001b[1B\u001b[2K\u001b[1A\u001b[2K\u001b[G\u001b[34m?\u001b[39m \u001b[1mEnter authorization code:\u001b[22m\n",
            "4/0AVGzR1Auo2x0nj2cVX45uPvWXn7O860tQUXPwwn1RK7fZHMNwz-z93S_WOZ6sPqVdjAvXA\u001b[1A\u001b[102G\u001b[1B\u001b[2K\u001b[1A\u001b[2K\u001b[G\u001b[32m✔\u001b[39m \u001b[1mEnter authorization code:\u001b[22m\n",
            "\u001b[36m4/0AVGzR1Auo2x0nj2cVX45uPvWXn7O860tQUXPwwn1RK7fZHMNwz-z93S_WOZ6sPqVdjAvXA\u001b[39m\u001b[1A\u001b[102G\u001b[1B\n",
            "\u001b[?25h\n",
            "\u001b[32m\u001b[1m✔ \u001b[22m\u001b[39m Success! Logged in as \u001b[1mnilsroemer@yahoo.com\u001b[22m\n"
          ]
        }
      ],
      "source": [
        "!firebase login --no-localhost"
      ]
    },
    {
      "cell_type": "markdown",
      "source": [
        "> **User interaction required**: Here you need to login to your Google account where you will be prompted to follow an authorization URL to grant the necessary permissions. Afterwards, we set the default GCP project ID to the one you chose at the beginning of this notebook.   "
      ],
      "metadata": {
        "id": "Dkj8svvEk7-o"
      }
    },
    {
      "cell_type": "code",
      "execution_count": 47,
      "metadata": {
        "id": "w9Eq1XDybHV-",
        "colab": {
          "base_uri": "https://localhost:8080/"
        },
        "outputId": "32b75ca5-447c-46fc-a41b-bf8e9d04987e"
      },
      "outputs": [
        {
          "output_type": "stream",
          "name": "stdout",
          "text": [
            "Go to the following link in your browser, and complete the sign-in prompts:\n",
            "\n",
            "    https://accounts.google.com/o/oauth2/auth?response_type=code&client_id=32555940559.apps.googleusercontent.com&redirect_uri=https%3A%2F%2Fsdk.cloud.google.com%2Fauthcode.html&scope=openid+https%3A%2F%2Fwww.googleapis.com%2Fauth%2Fuserinfo.email+https%3A%2F%2Fwww.googleapis.com%2Fauth%2Fcloud-platform+https%3A%2F%2Fwww.googleapis.com%2Fauth%2Fappengine.admin+https%3A%2F%2Fwww.googleapis.com%2Fauth%2Fsqlservice.login+https%3A%2F%2Fwww.googleapis.com%2Fauth%2Fcompute+https%3A%2F%2Fwww.googleapis.com%2Fauth%2Faccounts.reauth&state=Hp0MYki05T8AMymH4j8gGwF1J9FzAq&prompt=consent&token_usage=remote&access_type=offline&code_challenge=4oA8IkjTKwCaVgxwVvjTlSLKXGNTHtk3irpzpUv8KOo&code_challenge_method=S256\n",
            "\n",
            "Once finished, enter the verification code provided in your browser: 4/0AVGzR1AJv2OKkSUc3qIe4QN6vK9CdppNNI6suldwJCHGd2cicYlazH43A5NSKx98rwSa_A\n",
            "\n",
            "You are now logged in as [nilsroemer@yahoo.com].\n",
            "Your current project is [None].  You can change this setting by running:\n",
            "  $ gcloud config set project PROJECT_ID\n"
          ]
        }
      ],
      "source": [
        "!gcloud auth login"
      ]
    },
    {
      "cell_type": "code",
      "source": [
        "!gcloud config set project $gcpProjectID\n",
        "!gcloud config get project"
      ],
      "metadata": {
        "id": "X_A2awjxh8C7",
        "colab": {
          "base_uri": "https://localhost:8080/"
        },
        "outputId": "1b36c76c-082f-4ce5-f9d0-03ee1f8cddc5"
      },
      "execution_count": 48,
      "outputs": [
        {
          "output_type": "stream",
          "name": "stdout",
          "text": [
            "Updated property [core/project].\n",
            "synlab-pacs-workflow\n"
          ]
        }
      ]
    },
    {
      "cell_type": "markdown",
      "source": [
        "> **User interaction required**: You should have created a Firebase project as a prerequisite step. Select a project or modify SLIM's .firebaserc file which sets the default firebase project."
      ],
      "metadata": {
        "id": "oQQyzyV5Ebdw"
      }
    },
    {
      "cell_type": "code",
      "execution_count": 49,
      "metadata": {
        "id": "qA31ZvZ3b0CX",
        "colab": {
          "base_uri": "https://localhost:8080/"
        },
        "outputId": "dfe6a5dc-c214-4b99-f45a-a76babc94760"
      },
      "outputs": [
        {
          "output_type": "stream",
          "name": "stdout",
          "text": [
            "\u001b[?25l\u001b[36m⠋\u001b[39m Preparing the list of your Firebase projects\u001b[2K\u001b[1G\u001b[36m⠙\u001b[39m Preparing the list of your Firebase projects\u001b[2K\u001b[1G\u001b[36m⠹\u001b[39m Preparing the list of your Firebase projects\u001b[2K\u001b[1G\u001b[36m⠸\u001b[39m Preparing the list of your Firebase projects\u001b[2K\u001b[1G\u001b[36m⠼\u001b[39m Preparing the list of your Firebase projects\u001b[2K\u001b[1G\u001b[36m⠴\u001b[39m Preparing the list of your Firebase projects\u001b[2K\u001b[1G\u001b[?25h\u001b[32m✔\u001b[39m Preparing the list of your Firebase projects\n",
            "\u001b[90m┌─────────────────────────\u001b[39m\u001b[90m┬─────────────────────────\u001b[39m\u001b[90m┬────────────────\u001b[39m\u001b[90m┬──────────────────────┐\u001b[39m\n",
            "\u001b[90m│\u001b[39m\u001b[32m Project Display Name    \u001b[39m\u001b[90m│\u001b[39m\u001b[32m Project ID              \u001b[39m\u001b[90m│\u001b[39m\u001b[32m Project Number \u001b[39m\u001b[90m│\u001b[39m\u001b[32m Resource Location ID \u001b[39m\u001b[90m│\u001b[39m\n",
            "\u001b[90m├─────────────────────────\u001b[39m\u001b[90m┼─────────────────────────\u001b[39m\u001b[90m┼────────────────\u001b[39m\u001b[90m┼──────────────────────┤\u001b[39m\n",
            "\u001b[90m│\u001b[39m synlab-pacs-slim-viewer \u001b[90m│\u001b[39m synlab-pacs-slim-viewer \u001b[90m│\u001b[39m 584538855378   \u001b[90m│\u001b[39m \u001b[33m[Not specified]\u001b[39m      \u001b[90m│\u001b[39m\n",
            "\u001b[90m└─────────────────────────\u001b[39m\u001b[90m┴─────────────────────────\u001b[39m\u001b[90m┴────────────────\u001b[39m\u001b[90m┴──────────────────────┘\u001b[39m\n",
            "\n",
            "1 project(s) total.\n",
            "\u001b[?25h"
          ]
        }
      ],
      "source": [
        "!firebase projects:list"
      ]
    },
    {
      "cell_type": "code",
      "execution_count": 51,
      "metadata": {
        "id": "6aAob39RvJci",
        "colab": {
          "base_uri": "https://localhost:8080/"
        },
        "outputId": "8fe29c7c-1c23-42a9-8a0d-e680344dd68a"
      },
      "outputs": [
        {
          "output_type": "stream",
          "name": "stdout",
          "text": [
            "Now using project \u001b[1msynlab-pacs-slim-viewer\u001b[22m\n"
          ]
        }
      ],
      "source": [
        "!cd synlab-slim-viewer && firebase use $FirebaseProjectName"
      ]
    },
    {
      "cell_type": "markdown",
      "metadata": {
        "id": "bz1Elip0V4HM"
      },
      "source": [
        "## Deploy\n",
        "> Finally, we deploy the app. Do not close the notebook, keep the tab open and return to the Google documentation."
      ]
    },
    {
      "cell_type": "code",
      "execution_count": 52,
      "metadata": {
        "id": "XJA9WEQP2Pju",
        "colab": {
          "base_uri": "https://localhost:8080/"
        },
        "outputId": "df4fe550-9382-487a-de12-ba3a5317e395"
      },
      "outputs": [
        {
          "output_type": "stream",
          "name": "stdout",
          "text": [
            "\n",
            "\u001b[1m\u001b[37m===\u001b[39m Deploying to 'synlab-pacs-slim-viewer'...\u001b[22m\n",
            "\n",
            "\u001b[36m\u001b[1mi \u001b[22m\u001b[39m deploying \u001b[1mhosting\u001b[22m\n",
            "\u001b[36m\u001b[1mi  hosting[synlab-pacs-slim-viewer]:\u001b[22m\u001b[39m beginning deploy...\n",
            "\u001b[36m\u001b[1mi  hosting[synlab-pacs-slim-viewer]:\u001b[22m\u001b[39m found 40 files in \u001b[1mbuild\u001b[22m\n",
            "\u001b[?25l\u001b[36m⠋\u001b[39m \u001b[2K\u001b[1G\u001b[36m⠙\u001b[39m \u001b[2K\u001b[1G\u001b[36m⠹\u001b[39m \u001b[2K\u001b[1G\u001b[36m⠸\u001b[39m \u001b[1m\u001b[36m hosting:\u001b[39m\u001b[22m hashing files [20/40] (\u001b[1m\u001b[32m50%\u001b[39m\u001b[22m)\u001b[2K\u001b[1G\u001b[36m⠼\u001b[39m \u001b[1m\u001b[36m hosting:\u001b[39m\u001b[22m hashing files [20/40] (\u001b[1m\u001b[32m50%\u001b[39m\u001b[22m)\u001b[2K\u001b[1G\u001b[36m⠴\u001b[39m \u001b[1m\u001b[36m hosting:\u001b[39m\u001b[22m hashing files [29/40] (\u001b[1m\u001b[32m72%\u001b[39m\u001b[22m)\u001b[2K\u001b[1G\u001b[36m⠦\u001b[39m \u001b[1m\u001b[36m hosting:\u001b[39m\u001b[22m hashing files [29/40] (\u001b[1m\u001b[32m72%\u001b[39m\u001b[22m)\u001b[2K\u001b[1G\u001b[36m⠧\u001b[39m \u001b[1m\u001b[36m hosting:\u001b[39m\u001b[22m hashing files [29/40] (\u001b[1m\u001b[32m72%\u001b[39m\u001b[22m)\u001b[2K\u001b[1G\u001b[36m⠇\u001b[39m \u001b[1m\u001b[36m hosting:\u001b[39m\u001b[22m hashing files [35/40] (\u001b[1m\u001b[32m87%\u001b[39m\u001b[22m)\u001b[2K\u001b[1G\u001b[36m⠏\u001b[39m \u001b[1m\u001b[36m hosting:\u001b[39m\u001b[22m hashing files [35/40] (\u001b[1m\u001b[32m87%\u001b[39m\u001b[22m)\u001b[2K\u001b[1G\u001b[36m⠋\u001b[39m \u001b[1m\u001b[36m hosting:\u001b[39m\u001b[22m hashing files [36/40] (\u001b[1m\u001b[32m90%\u001b[39m\u001b[22m)\u001b[2K\u001b[1G\u001b[36m⠙\u001b[39m \u001b[1m\u001b[36m hosting:\u001b[39m\u001b[22m hashing files [36/40] (\u001b[1m\u001b[32m90%\u001b[39m\u001b[22m)\u001b[2K\u001b[1G\u001b[36m⠹\u001b[39m \u001b[1m\u001b[36m hosting:\u001b[39m\u001b[22m hashing files [36/40] (\u001b[1m\u001b[32m90%\u001b[39m\u001b[22m)\u001b[2K\u001b[1G\u001b[36m⠸\u001b[39m \u001b[1m\u001b[36m hosting:\u001b[39m\u001b[22m hashing files [37/40] (\u001b[1m\u001b[32m92%\u001b[39m\u001b[22m)\u001b[2K\u001b[1G\u001b[36m⠼\u001b[39m \u001b[1m\u001b[36m hosting:\u001b[39m\u001b[22m hashing files [37/40] (\u001b[1m\u001b[32m92%\u001b[39m\u001b[22m)\u001b[2K\u001b[1G\u001b[36m⠴\u001b[39m \u001b[1m\u001b[36m hosting:\u001b[39m\u001b[22m hashing files [37/40] (\u001b[1m\u001b[32m92%\u001b[39m\u001b[22m)\u001b[2K\u001b[1G\u001b[36m⠦\u001b[39m \u001b[1m\u001b[36m hosting:\u001b[39m\u001b[22m hashing files [37/40] (\u001b[1m\u001b[32m92%\u001b[39m\u001b[22m)\u001b[2K\u001b[1G\u001b[36m⠧\u001b[39m \u001b[1m\u001b[36m hosting:\u001b[39m\u001b[22m hashing files [37/40] (\u001b[1m\u001b[32m92%\u001b[39m\u001b[22m)\u001b[2K\u001b[1G\u001b[36m⠇\u001b[39m \u001b[1m\u001b[36m hosting:\u001b[39m\u001b[22m hashing files [38/40] (\u001b[1m\u001b[32m95%\u001b[39m\u001b[22m)\u001b[2K\u001b[1G\u001b[36m⠏\u001b[39m \u001b[1m\u001b[36m hosting:\u001b[39m\u001b[22m hashing files [38/40] (\u001b[1m\u001b[32m95%\u001b[39m\u001b[22m)\u001b[2K\u001b[1G\u001b[36m⠋\u001b[39m \u001b[1m\u001b[36m hosting:\u001b[39m\u001b[22m hashing files [38/40] (\u001b[1m\u001b[32m95%\u001b[39m\u001b[22m)\u001b[2K\u001b[1G\u001b[36m⠙\u001b[39m \u001b[1m\u001b[36m hosting:\u001b[39m\u001b[22m hashing files [38/40] (\u001b[1m\u001b[32m95%\u001b[39m\u001b[22m)\u001b[2K\u001b[1G\u001b[36m⠹\u001b[39m \u001b[1m\u001b[36m hosting:\u001b[39m\u001b[22m hashing files [38/40] (\u001b[1m\u001b[32m95%\u001b[39m\u001b[22m)\u001b[2K\u001b[1G\u001b[36m⠸\u001b[39m \u001b[1m\u001b[36m hosting:\u001b[39m\u001b[22m hashing files [38/40] (\u001b[1m\u001b[32m95%\u001b[39m\u001b[22m)\u001b[2K\u001b[1G\u001b[36m⠼\u001b[39m \u001b[1m\u001b[36m hosting:\u001b[39m\u001b[22m hashing files [38/40] (\u001b[1m\u001b[32m95%\u001b[39m\u001b[22m)\u001b[2K\u001b[1G\u001b[36m⠴\u001b[39m \u001b[1m\u001b[36m hosting:\u001b[39m\u001b[22m hashing files [38/40] (\u001b[1m\u001b[32m95%\u001b[39m\u001b[22m)\u001b[2K\u001b[1G\u001b[36m⠦\u001b[39m \u001b[1m\u001b[36m hosting:\u001b[39m\u001b[22m hashing files [38/40] (\u001b[1m\u001b[32m95%\u001b[39m\u001b[22m)\u001b[2K\u001b[1G\u001b[36m⠧\u001b[39m \u001b[1m\u001b[36m hosting:\u001b[39m\u001b[22m hashing files [38/40] (\u001b[1m\u001b[32m95%\u001b[39m\u001b[22m)\u001b[2K\u001b[1G\u001b[36m⠇\u001b[39m \u001b[1m\u001b[36m hosting:\u001b[39m\u001b[22m hashing files [38/40] (\u001b[1m\u001b[32m95%\u001b[39m\u001b[22m)\u001b[2K\u001b[1G\u001b[36m⠏\u001b[39m \u001b[1m\u001b[36m hosting:\u001b[39m\u001b[22m hashing files [38/40] (\u001b[1m\u001b[32m95%\u001b[39m\u001b[22m)\u001b[2K\u001b[1G\u001b[36m⠋\u001b[39m \u001b[1m\u001b[36m hosting:\u001b[39m\u001b[22m hashing files [39/40] (\u001b[1m\u001b[32m97%\u001b[39m\u001b[22m)\u001b[2K\u001b[1G\u001b[36m⠙\u001b[39m \u001b[1m\u001b[36m hosting:\u001b[39m\u001b[22m hashing files [39/40] (\u001b[1m\u001b[32m97%\u001b[39m\u001b[22m)\u001b[2K\u001b[1G\u001b[36m⠹\u001b[39m \u001b[1m\u001b[36m hosting:\u001b[39m\u001b[22m hashing files [39/40] (\u001b[1m\u001b[32m97%\u001b[39m\u001b[22m)\u001b[2K\u001b[1G\u001b[36m⠸\u001b[39m \u001b[1m\u001b[36m hosting:\u001b[39m\u001b[22m hashing files [39/40] (\u001b[1m\u001b[32m97%\u001b[39m\u001b[22m)\u001b[2K\u001b[1G\u001b[36m⠼\u001b[39m \u001b[1m\u001b[36m hosting:\u001b[39m\u001b[22m hashing files [39/40] (\u001b[1m\u001b[32m97%\u001b[39m\u001b[22m)\u001b[2K\u001b[1G\u001b[36m⠴\u001b[39m \u001b[1m\u001b[36m hosting:\u001b[39m\u001b[22m hashing files [39/40] (\u001b[1m\u001b[32m97%\u001b[39m\u001b[22m)\u001b[2K\u001b[1G\u001b[36m⠦\u001b[39m \u001b[1m\u001b[36m hosting:\u001b[39m\u001b[22m hashing files [39/40] (\u001b[1m\u001b[32m97%\u001b[39m\u001b[22m)\u001b[2K\u001b[1G\u001b[36m⠧\u001b[39m \u001b[1m\u001b[36m hosting:\u001b[39m\u001b[22m hashing files [39/40] (\u001b[1m\u001b[32m97%\u001b[39m\u001b[22m)\u001b[2K\u001b[1G\u001b[36m⠇\u001b[39m \u001b[1m\u001b[36m hosting:\u001b[39m\u001b[22m hashing files [39/40] (\u001b[1m\u001b[32m97%\u001b[39m\u001b[22m)\u001b[2K\u001b[1G\u001b[36m⠏\u001b[39m \u001b[1m\u001b[36m hosting:\u001b[39m\u001b[22m hashing files [39/40] (\u001b[1m\u001b[32m97%\u001b[39m\u001b[22m)\u001b[2K\u001b[1G\u001b[36m⠋\u001b[39m \u001b[1m\u001b[36m hosting:\u001b[39m\u001b[22m hashing files [39/40] (\u001b[1m\u001b[32m97%\u001b[39m\u001b[22m)\u001b[2K\u001b[1G\u001b[36m⠙\u001b[39m \u001b[1m\u001b[36m hosting:\u001b[39m\u001b[22m hashing files [39/40] (\u001b[1m\u001b[32m97%\u001b[39m\u001b[22m)\u001b[2K\u001b[1G\u001b[36m⠹\u001b[39m \u001b[1m\u001b[36m hosting:\u001b[39m\u001b[22m hashing files [39/40] (\u001b[1m\u001b[32m97%\u001b[39m\u001b[22m)\u001b[2K\u001b[1G\u001b[36m⠸\u001b[39m \u001b[1m\u001b[36m hosting:\u001b[39m\u001b[22m hashing files [39/40] (\u001b[1m\u001b[32m97%\u001b[39m\u001b[22m)\u001b[2K\u001b[1G\u001b[36m⠼\u001b[39m \u001b[1m\u001b[36m hosting:\u001b[39m\u001b[22m hashing files [39/40] (\u001b[1m\u001b[32m97%\u001b[39m\u001b[22m)\u001b[2K\u001b[1G\u001b[36m⠴\u001b[39m \u001b[1m\u001b[36m hosting:\u001b[39m\u001b[22m adding files to version [0/40] (\u001b[1m\u001b[32m0%\u001b[39m\u001b[22m)\u001b[2K\u001b[1G\u001b[36m⠦\u001b[39m \u001b[1m\u001b[36m hosting:\u001b[39m\u001b[22m uploading new files [0/40] (\u001b[1m\u001b[32m0%\u001b[39m\u001b[22m)\u001b[2K\u001b[1G\u001b[36m⠧\u001b[39m \u001b[1m\u001b[36m hosting:\u001b[39m\u001b[22m uploading new files [0/40] (\u001b[1m\u001b[32m0%\u001b[39m\u001b[22m)\u001b[2K\u001b[1G\u001b[36m⠇\u001b[39m \u001b[1m\u001b[36m hosting:\u001b[39m\u001b[22m uploading new files [0/40] (\u001b[1m\u001b[32m0%\u001b[39m\u001b[22m)\u001b[2K\u001b[1G\u001b[36m⠏\u001b[39m \u001b[1m\u001b[36m hosting:\u001b[39m\u001b[22m uploading new files [0/40] (\u001b[1m\u001b[32m0%\u001b[39m\u001b[22m)\u001b[2K\u001b[1G\u001b[36m⠋\u001b[39m \u001b[1m\u001b[36m hosting:\u001b[39m\u001b[22m uploading new files [0/40] (\u001b[1m\u001b[32m0%\u001b[39m\u001b[22m)\u001b[2K\u001b[1G\u001b[36m⠙\u001b[39m \u001b[1m\u001b[36m hosting:\u001b[39m\u001b[22m uploading new files [0/40] (\u001b[1m\u001b[32m0%\u001b[39m\u001b[22m)\u001b[2K\u001b[1G\u001b[36m⠹\u001b[39m \u001b[1m\u001b[36m hosting:\u001b[39m\u001b[22m uploading new files [0/40] (\u001b[1m\u001b[32m0%\u001b[39m\u001b[22m)\u001b[2K\u001b[1G\u001b[36m⠸\u001b[39m \u001b[1m\u001b[36m hosting:\u001b[39m\u001b[22m uploading new files [0/40] (\u001b[1m\u001b[32m0%\u001b[39m\u001b[22m)\u001b[2K\u001b[1G\u001b[36m⠼\u001b[39m \u001b[1m\u001b[36m hosting:\u001b[39m\u001b[22m uploading new files [0/40] (\u001b[1m\u001b[32m0%\u001b[39m\u001b[22m)\u001b[2K\u001b[1G\u001b[36m⠴\u001b[39m \u001b[1m\u001b[36m hosting:\u001b[39m\u001b[22m uploading new files [19/40] (\u001b[1m\u001b[32m47%\u001b[39m\u001b[22m)\u001b[2K\u001b[1G\u001b[36m⠦\u001b[39m \u001b[1m\u001b[36m hosting:\u001b[39m\u001b[22m uploading new files [19/40] (\u001b[1m\u001b[32m47%\u001b[39m\u001b[22m)\u001b[2K\u001b[1G\u001b[36m⠧\u001b[39m \u001b[1m\u001b[36m hosting:\u001b[39m\u001b[22m uploading new files [27/40] (\u001b[1m\u001b[32m67%\u001b[39m\u001b[22m)\u001b[2K\u001b[1G\u001b[36m⠇\u001b[39m \u001b[1m\u001b[36m hosting:\u001b[39m\u001b[22m uploading new files [27/40] (\u001b[1m\u001b[32m67%\u001b[39m\u001b[22m)\u001b[2K\u001b[1G\u001b[36m⠏\u001b[39m \u001b[1m\u001b[36m hosting:\u001b[39m\u001b[22m uploading new files [27/40] (\u001b[1m\u001b[32m67%\u001b[39m\u001b[22m)\u001b[2K\u001b[1G\u001b[36m⠋\u001b[39m \u001b[1m\u001b[36m hosting:\u001b[39m\u001b[22m uploading new files [29/40] (\u001b[1m\u001b[32m72%\u001b[39m\u001b[22m)\u001b[2K\u001b[1G\u001b[36m⠙\u001b[39m \u001b[1m\u001b[36m hosting:\u001b[39m\u001b[22m uploading new files [29/40] (\u001b[1m\u001b[32m72%\u001b[39m\u001b[22m)\u001b[2K\u001b[1G\u001b[36m⠹\u001b[39m \u001b[1m\u001b[36m hosting:\u001b[39m\u001b[22m uploading new files [31/40] (\u001b[1m\u001b[32m77%\u001b[39m\u001b[22m)\u001b[2K\u001b[1G\u001b[36m⠸\u001b[39m \u001b[1m\u001b[36m hosting:\u001b[39m\u001b[22m uploading new files [31/40] (\u001b[1m\u001b[32m77%\u001b[39m\u001b[22m)\u001b[2K\u001b[1G\u001b[36m⠼\u001b[39m \u001b[1m\u001b[36m hosting:\u001b[39m\u001b[22m uploading new files [31/40] (\u001b[1m\u001b[32m77%\u001b[39m\u001b[22m)\u001b[2K\u001b[1G\u001b[36m⠴\u001b[39m \u001b[1m\u001b[36m hosting:\u001b[39m\u001b[22m uploading new files [35/40] (\u001b[1m\u001b[32m87%\u001b[39m\u001b[22m)\u001b[2K\u001b[1G\u001b[36m⠦\u001b[39m \u001b[1m\u001b[36m hosting:\u001b[39m\u001b[22m uploading new files [35/40] (\u001b[1m\u001b[32m87%\u001b[39m\u001b[22m)\u001b[2K\u001b[1G\u001b[36m⠧\u001b[39m \u001b[1m\u001b[36m hosting:\u001b[39m\u001b[22m uploading new files [36/40] (\u001b[1m\u001b[32m90%\u001b[39m\u001b[22m)\u001b[2K\u001b[1G\u001b[36m⠇\u001b[39m \u001b[1m\u001b[36m hosting:\u001b[39m\u001b[22m uploading new files [36/40] (\u001b[1m\u001b[32m90%\u001b[39m\u001b[22m)\u001b[2K\u001b[1G\u001b[36m⠏\u001b[39m \u001b[1m\u001b[36m hosting:\u001b[39m\u001b[22m uploading new files [36/40] (\u001b[1m\u001b[32m90%\u001b[39m\u001b[22m)\u001b[2K\u001b[1G\u001b[36m⠋\u001b[39m \u001b[1m\u001b[36m hosting:\u001b[39m\u001b[22m uploading new files [36/40] (\u001b[1m\u001b[32m90%\u001b[39m\u001b[22m)\u001b[2K\u001b[1G\u001b[36m⠙\u001b[39m \u001b[1m\u001b[36m hosting:\u001b[39m\u001b[22m uploading new files [36/40] (\u001b[1m\u001b[32m90%\u001b[39m\u001b[22m)\u001b[2K\u001b[1G\u001b[36m⠹\u001b[39m \u001b[1m\u001b[36m hosting:\u001b[39m\u001b[22m uploading new files [36/40] (\u001b[1m\u001b[32m90%\u001b[39m\u001b[22m)\u001b[2K\u001b[1G\u001b[36m⠸\u001b[39m \u001b[1m\u001b[36m hosting:\u001b[39m\u001b[22m uploading new files [36/40] (\u001b[1m\u001b[32m90%\u001b[39m\u001b[22m)\u001b[2K\u001b[1G\u001b[36m⠼\u001b[39m \u001b[1m\u001b[36m hosting:\u001b[39m\u001b[22m uploading new files [36/40] (\u001b[1m\u001b[32m90%\u001b[39m\u001b[22m)\u001b[2K\u001b[1G\u001b[36m⠴\u001b[39m \u001b[1m\u001b[36m hosting:\u001b[39m\u001b[22m uploading new files [37/40] (\u001b[1m\u001b[32m92%\u001b[39m\u001b[22m)\u001b[2K\u001b[1G\u001b[36m⠦\u001b[39m \u001b[1m\u001b[36m hosting:\u001b[39m\u001b[22m uploading new files [37/40] (\u001b[1m\u001b[32m92%\u001b[39m\u001b[22m)\u001b[2K\u001b[1G\u001b[36m⠧\u001b[39m \u001b[1m\u001b[36m hosting:\u001b[39m\u001b[22m uploading new files [38/40] (\u001b[1m\u001b[32m95%\u001b[39m\u001b[22m)\u001b[2K\u001b[1G\u001b[36m⠇\u001b[39m \u001b[1m\u001b[36m hosting:\u001b[39m\u001b[22m uploading new files [38/40] (\u001b[1m\u001b[32m95%\u001b[39m\u001b[22m)\u001b[2K\u001b[1G\u001b[36m⠏\u001b[39m \u001b[1m\u001b[36m hosting:\u001b[39m\u001b[22m uploading new files [38/40] (\u001b[1m\u001b[32m95%\u001b[39m\u001b[22m)\u001b[2K\u001b[1G\u001b[36m⠋\u001b[39m \u001b[1m\u001b[36m hosting:\u001b[39m\u001b[22m uploading new files [38/40] (\u001b[1m\u001b[32m95%\u001b[39m\u001b[22m)\u001b[2K\u001b[1G\u001b[36m⠙\u001b[39m \u001b[1m\u001b[36m hosting:\u001b[39m\u001b[22m uploading new files [38/40] (\u001b[1m\u001b[32m95%\u001b[39m\u001b[22m)\u001b[2K\u001b[1G\u001b[36m⠹\u001b[39m \u001b[1m\u001b[36m hosting:\u001b[39m\u001b[22m uploading new files [38/40] (\u001b[1m\u001b[32m95%\u001b[39m\u001b[22m)\u001b[2K\u001b[1G\u001b[36m⠸\u001b[39m \u001b[1m\u001b[36m hosting:\u001b[39m\u001b[22m uploading new files [38/40] (\u001b[1m\u001b[32m95%\u001b[39m\u001b[22m)\u001b[2K\u001b[1G\u001b[36m⠼\u001b[39m \u001b[1m\u001b[36m hosting:\u001b[39m\u001b[22m uploading new files [38/40] (\u001b[1m\u001b[32m95%\u001b[39m\u001b[22m)\u001b[2K\u001b[1G\u001b[36m⠴\u001b[39m \u001b[1m\u001b[36m hosting:\u001b[39m\u001b[22m uploading new files [38/40] (\u001b[1m\u001b[32m95%\u001b[39m\u001b[22m)\u001b[2K\u001b[1G\u001b[36m⠦\u001b[39m \u001b[1m\u001b[36m hosting:\u001b[39m\u001b[22m uploading new files [38/40] (\u001b[1m\u001b[32m95%\u001b[39m\u001b[22m)\u001b[2K\u001b[1G\u001b[36m⠧\u001b[39m \u001b[1m\u001b[36m hosting:\u001b[39m\u001b[22m uploading new files [38/40] (\u001b[1m\u001b[32m95%\u001b[39m\u001b[22m)\u001b[2K\u001b[1G\u001b[36m⠇\u001b[39m \u001b[1m\u001b[36m hosting:\u001b[39m\u001b[22m uploading new files [38/40] (\u001b[1m\u001b[32m95%\u001b[39m\u001b[22m)\u001b[2K\u001b[1G\u001b[36m⠏\u001b[39m \u001b[1m\u001b[36m hosting:\u001b[39m\u001b[22m uploading new files [38/40] (\u001b[1m\u001b[32m95%\u001b[39m\u001b[22m)\u001b[2K\u001b[1G\u001b[36m⠋\u001b[39m \u001b[1m\u001b[36m hosting:\u001b[39m\u001b[22m uploading new files [38/40] (\u001b[1m\u001b[32m95%\u001b[39m\u001b[22m)\u001b[2K\u001b[1G\u001b[36m⠙\u001b[39m \u001b[1m\u001b[36m hosting:\u001b[39m\u001b[22m uploading new files [38/40] (\u001b[1m\u001b[32m95%\u001b[39m\u001b[22m)\u001b[2K\u001b[1G\u001b[36m⠹\u001b[39m \u001b[1m\u001b[36m hosting:\u001b[39m\u001b[22m uploading new files [38/40] (\u001b[1m\u001b[32m95%\u001b[39m\u001b[22m)\u001b[2K\u001b[1G\u001b[36m⠸\u001b[39m \u001b[1m\u001b[36m hosting:\u001b[39m\u001b[22m uploading new files [38/40] (\u001b[1m\u001b[32m95%\u001b[39m\u001b[22m)\u001b[2K\u001b[1G\u001b[36m⠼\u001b[39m \u001b[1m\u001b[36m hosting:\u001b[39m\u001b[22m uploading new files [38/40] (\u001b[1m\u001b[32m95%\u001b[39m\u001b[22m)\u001b[2K\u001b[1G\u001b[36m⠴\u001b[39m \u001b[1m\u001b[36m hosting:\u001b[39m\u001b[22m uploading new files [39/40] (\u001b[1m\u001b[32m97%\u001b[39m\u001b[22m)\u001b[2K\u001b[1G\u001b[36m⠦\u001b[39m \u001b[1m\u001b[36m hosting:\u001b[39m\u001b[22m uploading new files [39/40] (\u001b[1m\u001b[32m97%\u001b[39m\u001b[22m)\u001b[2K\u001b[1G\u001b[36m⠧\u001b[39m \u001b[1m\u001b[36m hosting:\u001b[39m\u001b[22m uploading new files [39/40] (\u001b[1m\u001b[32m97%\u001b[39m\u001b[22m)\u001b[2K\u001b[1G\u001b[36m⠇\u001b[39m \u001b[1m\u001b[36m hosting:\u001b[39m\u001b[22m uploading new files [39/40] (\u001b[1m\u001b[32m97%\u001b[39m\u001b[22m)\u001b[2K\u001b[1G\u001b[36m⠏\u001b[39m \u001b[1m\u001b[36m hosting:\u001b[39m\u001b[22m uploading new files [39/40] (\u001b[1m\u001b[32m97%\u001b[39m\u001b[22m)\u001b[2K\u001b[1G\u001b[36m⠋\u001b[39m \u001b[1m\u001b[36m hosting:\u001b[39m\u001b[22m uploading new files [39/40] (\u001b[1m\u001b[32m97%\u001b[39m\u001b[22m)\u001b[2K\u001b[1G\u001b[36m⠙\u001b[39m \u001b[1m\u001b[36m hosting:\u001b[39m\u001b[22m uploading new files [39/40] (\u001b[1m\u001b[32m97%\u001b[39m\u001b[22m)\u001b[2K\u001b[1G\u001b[36m⠹\u001b[39m \u001b[1m\u001b[36m hosting:\u001b[39m\u001b[22m uploading new files [39/40] (\u001b[1m\u001b[32m97%\u001b[39m\u001b[22m)\u001b[2K\u001b[1G\u001b[36m⠸\u001b[39m \u001b[1m\u001b[36m hosting:\u001b[39m\u001b[22m uploading new files [39/40] (\u001b[1m\u001b[32m97%\u001b[39m\u001b[22m)\u001b[2K\u001b[1G\u001b[36m⠼\u001b[39m \u001b[1m\u001b[36m hosting:\u001b[39m\u001b[22m uploading new files [39/40] (\u001b[1m\u001b[32m97%\u001b[39m\u001b[22m)\u001b[2K\u001b[1G\u001b[36m⠴\u001b[39m \u001b[1m\u001b[36m hosting:\u001b[39m\u001b[22m uploading new files [39/40] (\u001b[1m\u001b[32m97%\u001b[39m\u001b[22m)\u001b[2K\u001b[1G\u001b[36m⠦\u001b[39m \u001b[1m\u001b[36m hosting:\u001b[39m\u001b[22m uploading new files [39/40] (\u001b[1m\u001b[32m97%\u001b[39m\u001b[22m)\u001b[2K\u001b[1G\u001b[36m⠧\u001b[39m \u001b[1m\u001b[36m hosting:\u001b[39m\u001b[22m uploading new files [39/40] (\u001b[1m\u001b[32m97%\u001b[39m\u001b[22m)\u001b[2K\u001b[1G\u001b[36m⠇\u001b[39m \u001b[1m\u001b[36m hosting:\u001b[39m\u001b[22m uploading new files [39/40] (\u001b[1m\u001b[32m97%\u001b[39m\u001b[22m)\u001b[2K\u001b[1G\u001b[36m⠏\u001b[39m \u001b[1m\u001b[36m hosting:\u001b[39m\u001b[22m uploading new files [39/40] (\u001b[1m\u001b[32m97%\u001b[39m\u001b[22m)\u001b[2K\u001b[1G\u001b[36m⠋\u001b[39m \u001b[1m\u001b[36m hosting:\u001b[39m\u001b[22m uploading new files [39/40] (\u001b[1m\u001b[32m97%\u001b[39m\u001b[22m)\u001b[2K\u001b[1G\u001b[36m⠙\u001b[39m \u001b[1m\u001b[36m hosting:\u001b[39m\u001b[22m uploading new files [39/40] (\u001b[1m\u001b[32m97%\u001b[39m\u001b[22m)\u001b[2K\u001b[1G\u001b[36m⠹\u001b[39m \u001b[1m\u001b[36m hosting:\u001b[39m\u001b[22m uploading new files [39/40] (\u001b[1m\u001b[32m97%\u001b[39m\u001b[22m)\u001b[2K\u001b[1G\u001b[?25h\u001b[32m\u001b[1m✔  hosting[synlab-pacs-slim-viewer]:\u001b[22m\u001b[39m file upload complete\n",
            "\u001b[36m\u001b[1mi  hosting[synlab-pacs-slim-viewer]:\u001b[22m\u001b[39m finalizing version...\n",
            "\u001b[32m\u001b[1m✔  hosting[synlab-pacs-slim-viewer]:\u001b[22m\u001b[39m version finalized\n",
            "\u001b[36m\u001b[1mi  hosting[synlab-pacs-slim-viewer]:\u001b[22m\u001b[39m releasing new version...\n",
            "\u001b[32m\u001b[1m✔  hosting[synlab-pacs-slim-viewer]:\u001b[22m\u001b[39m release complete\n",
            "\n",
            "\u001b[32m\u001b[1m✔ \u001b[22m\u001b[39m \u001b[1m\u001b[4mDeploy complete!\u001b[24m\u001b[22m\n",
            "\n",
            "\u001b[1mProject Console:\u001b[22m https://console.firebase.google.com/project/synlab-pacs-slim-viewer/overview\n",
            "\u001b[1mHosting URL:\u001b[22m https://synlab-pacs-slim-viewer.web.app\n",
            "\u001b[?25h"
          ]
        }
      ],
      "source": [
        "!cd synlab-slim-viewer && firebase deploy"
      ]
    },
    {
      "cell_type": "code",
      "source": [],
      "metadata": {
        "id": "Kys35SFyZF98"
      },
      "execution_count": null,
      "outputs": []
    }
  ],
  "metadata": {
    "colab": {
      "provenance": [],
      "include_colab_link": true
    },
    "gpuClass": "standard",
    "kernelspec": {
      "display_name": "Python 3",
      "name": "python3"
    },
    "language_info": {
      "name": "python"
    }
  },
  "nbformat": 4,
  "nbformat_minor": 0
}