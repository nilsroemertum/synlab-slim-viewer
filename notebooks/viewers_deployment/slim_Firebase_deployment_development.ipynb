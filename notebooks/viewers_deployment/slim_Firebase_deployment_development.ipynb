{
  "nbformat": 4,
  "nbformat_minor": 0,
  "metadata": {
    "colab": {
      "provenance": [],
      "include_colab_link": true
    },
    "kernelspec": {
      "name": "python3",
      "display_name": "Python 3"
    },
    "language_info": {
      "name": "python"
    },
    "accelerator": "GPU"
  },
  "cells": [
    {
      "cell_type": "markdown",
      "metadata": {
        "id": "view-in-github",
        "colab_type": "text"
      },
      "source": [
        "<a href=\"https://colab.research.google.com/github/nilsroemertum/synlab-slim-viewer/blob/master/slim_Firebase_deployment_development.ipynb\" target=\"_parent\"><img src=\"https://colab.research.google.com/assets/colab-badge.svg\" alt=\"Open In Colab\"/></a>"
      ]
    },
    {
      "cell_type": "markdown",
      "source": [
        "## Prerequisites\n",
        "\n",
        "This notebook complements the tutorial available in this document:\n",
        "\n",
        "https://docs.google.com/document/d/1v4Syu_yOV6yH--QBLGzsL9fJ7-XyD1CnQu4iTIoPVD8/edit#\n",
        "\n",
        "You must complete the prerequisites discussed in that document before proceeding with this notebook!\n",
        "\n",
        "Please use the document above for providing feedback or asking questions!\n",
        "\n"
      ],
      "metadata": {
        "id": "BF2Ld8z3L9y2"
      }
    },
    {
      "cell_type": "markdown",
      "metadata": {
        "id": "wCun0-txsg01"
      },
      "source": [
        "## Install and configure Firebase command line tools\n",
        "\n",
        "In this step we install the command line tools provided by Firebase to populate the webapp hosting project.\n"
      ]
    },
    {
      "cell_type": "code",
      "metadata": {
        "colab": {
          "base_uri": "https://localhost:8080/"
        },
        "id": "trY5UoYVtFLA",
        "outputId": "54cfffe4-04d9-4ec8-f33e-804ae421c4b3"
      },
      "source": [
        "!curl -sL https://firebase.tools | bash"
      ],
      "execution_count": null,
      "outputs": [
        {
          "output_type": "stream",
          "name": "stdout",
          "text": [
            "-- Checking for existing firebase-tools on PATH...\n",
            "-- Checking your machine type...\n",
            "-- Downloading binary from https://firebase.tools/bin/linux/latest\n",
            "######################################################################## 100.0%\n",
            "-- Setting permissions on binary...\n",
            "-- Checking your PATH variable...\n",
            "-- firebase-tools@9.22.0 is now installed\n",
            "-- All Done!\n"
          ]
        }
      ]
    },
    {
      "cell_type": "markdown",
      "source": [
        "In the next step we configure setup of Firebase on the VM. When prompted regarding error reporting information, double click next to the prompt, and type your selection. Next, follow the authorization URL to grant the necessary permissions to Firebase, then double-click next to the \"Paste authorization code\", paste the code and hit \"Enter\" to complete the process."
      ],
      "metadata": {
        "id": "HYkfeov9Xe31"
      }
    },
    {
      "cell_type": "code",
      "metadata": {
        "id": "VDMPhLZ4tMDS"
      },
      "source": [
        "!firebase login --no-localhost"
      ],
      "execution_count": null,
      "outputs": []
    },
    {
      "cell_type": "markdown",
      "source": [
        "## Clone OHIF Viewer source code"
      ],
      "metadata": {
        "id": "usgnZ-IXPgJQ"
      }
    },
    {
      "cell_type": "code",
      "metadata": {
        "id": "WsdHxTwGrsYK",
        "colab": {
          "base_uri": "https://localhost:8080/"
        },
        "outputId": "76fb03be-7d64-47dd-e653-23aa4599c57c"
      },
      "source": [
        "!git clone https://github.com/OHIF/Viewers.git"
      ],
      "execution_count": null,
      "outputs": [
        {
          "output_type": "stream",
          "name": "stdout",
          "text": [
            "Cloning into 'Viewers'...\n",
            "remote: Enumerating objects: 144692, done.\u001b[K\n",
            "remote: Counting objects: 100% (1079/1079), done.\u001b[K\n",
            "remote: Compressing objects: 100% (571/571), done.\u001b[K\n",
            "remote: Total 144692 (delta 660), reused 817 (delta 478), pack-reused 143613\u001b[K\n",
            "Receiving objects: 100% (144692/144692), 227.74 MiB | 25.36 MiB/s, done.\n",
            "Resolving deltas: 100% (102889/102889), done.\n"
          ]
        }
      ]
    },
    {
      "cell_type": "markdown",
      "source": [
        "If you would like to have the DICOM tag browser button in the toolbar, uncomment the following two lines in the source code: Viewers/platform/viewer/src/index.js:\n",
        "\n",
        "```\n",
        "//import OHIFDicomTagBrowserExtension from '@ohif/extension-dicom-tag-browser';\n",
        "```\n",
        "\n",
        "\n",
        "```\n",
        " //OHIFDicomTagBrowserExtension,\n",
        " ```"
      ],
      "metadata": {
        "id": "g-RlzHDC0iCg"
      }
    },
    {
      "cell_type": "markdown",
      "source": [
        "## Initialize Firebase configuration\n",
        "\n",
        "You should have created a Firebase project as a prerequisite step. Let's first confirm this is indeed the case."
      ],
      "metadata": {
        "id": "aSoV9UpbPyqx"
      }
    },
    {
      "cell_type": "code",
      "metadata": {
        "colab": {
          "base_uri": "https://localhost:8080/"
        },
        "id": "6aAob39RvJci",
        "outputId": "16efced9-505c-4d72-d337-379b992027ff"
      },
      "source": [
        "!firebase projects:list"
      ],
      "execution_count": null,
      "outputs": [
        {
          "output_type": "stream",
          "name": "stdout",
          "text": [
            "\u001b[?25l\u001b[36m⠋\u001b[39m Preparing the list of your Firebase projects\u001b[2K\u001b[1G\u001b[36m⠙\u001b[39m Preparing the list of your Firebase projects\u001b[2K\u001b[1G\u001b[36m⠹\u001b[39m Preparing the list of your Firebase projects\u001b[2K\u001b[1G\u001b[36m⠸\u001b[39m Preparing the list of your Firebase projects\u001b[2K\u001b[1G\u001b[?25h\u001b[32m✔\u001b[39m Preparing the list of your Firebase projects\n",
            "\u001b[90m┌──────────────────────┬──────────────┬────────────────┬──────────────────────┐\u001b[39m\n",
            "\u001b[90m│\u001b[39m\u001b[32m Project Display Name \u001b[39m\u001b[90m│\u001b[39m\u001b[32m Project ID   \u001b[39m\u001b[90m│\u001b[39m\u001b[32m Project Number \u001b[39m\u001b[90m│\u001b[39m\u001b[32m Resource Location ID \u001b[39m\u001b[90m│\u001b[39m\n",
            "\u001b[90m├──────────────────────┼──────────────┼────────────────┼──────────────────────┤\u001b[39m\n",
            "\u001b[90m│\u001b[39m idc-tester-1         \u001b[90m│\u001b[39m idc-tester-1 \u001b[90m│\u001b[39m 201217755281   \u001b[90m│\u001b[39m \u001b[33m[Not specified]\u001b[39m      \u001b[90m│\u001b[39m\n",
            "\u001b[90m└──────────────────────┴──────────────┴────────────────┴──────────────────────┘\u001b[39m\n",
            "\n",
            "1 project(s) total.\n",
            "\u001b[?25h"
          ]
        }
      ]
    },
    {
      "cell_type": "markdown",
      "metadata": {
        "id": "uu_ptzF_zEn7"
      },
      "source": [
        "In the below, accept all the defaults. After you run the command, it will stop every time you need to make a selection. Double-click in the space right after the prompt asking for input and hit \"Enter\" to accept the default.\n",
        "\n",
        "If you are unable to interact with the `firebase init` output to accept the default values, open the cell controls menu in the upper right, and choose \"View output fullscreen\".\n",
        "\n",
        "<img src=\"https://www.dropbox.com/s/bvmdbeirhe0pmuc/view_fullscreen.png?raw=1\" alt=\"new\" width=\"400\"/>"
      ]
    },
    {
      "cell_type": "code",
      "metadata": {
        "colab": {
          "base_uri": "https://localhost:8080/"
        },
        "id": "jlwx9FiDvtOT",
        "outputId": "4c4da7a4-1a81-41bd-e691-e5b84499bb61"
      },
      "source": [
        "!cd /content/Viewers && firebase init hosting"
      ],
      "execution_count": null,
      "outputs": [
        {
          "output_type": "stream",
          "name": "stdout",
          "text": [
            "\u001b[1m\u001b[33m\n",
            "     ######## #### ########  ######## ########     ###     ######  ########\n",
            "     ##        ##  ##     ## ##       ##     ##  ##   ##  ##       ##\n",
            "     ######    ##  ########  ######   ########  #########  ######  ######\n",
            "     ##        ##  ##    ##  ##       ##     ## ##     ##       ## ##\n",
            "     ##       #### ##     ## ######## ########  ##     ##  ######  ########\n",
            "\u001b[39m\u001b[22m\n",
            "You're about to initialize a Firebase project in this directory:\n",
            "\n",
            "  \u001b[1m/content/Viewers\u001b[22m\n",
            "\n",
            "Before we get started, keep in mind:\n",
            "\n",
            "  \u001b[1m\u001b[33m* \u001b[39m\u001b[22mYou are currently outside your home directory\n",
            "\n",
            "\u001b[1m\n",
            "\u001b[37m=== \u001b[39mProject Setup\u001b[22m\n",
            "\n",
            "First, let's associate this project directory with a Firebase project.\n",
            "You can create multiple project aliases by running \u001b[1mfirebase use --add\u001b[22m, \n",
            "but for now we'll just set up a default project.\n",
            "\n",
            "\u001b[?25l\u001b[32m?\u001b[39m \u001b[1mPlease select an option:\u001b[22m\u001b[0m \u001b[0m\u001b[2m(Use arrow keys)\u001b[22m\r\n",
            "\u001b[36m❯ Use an existing project\u001b[39m \r\n",
            "  Create a new project \r\n",
            "  Add Firebase to an existing Google Cloud Platform project \n",
            "  Don't set up a default project \u001b[33D\u001b[33C\u001b[2K\u001b[1A\u001b[2K\u001b[1A\u001b[2K\u001b[1A\u001b[2K\u001b[1A\u001b[2K\u001b[G\u001b[32m?\u001b[39m \u001b[1mPlease select an option:\u001b[22m\u001b[0m \u001b[0m\u001b[36mUse an existing project\u001b[39m\u001b[50D\u001b[50C\n",
            "\u001b[?25h\u001b[?25l\u001b[32m?\u001b[39m \u001b[1mSelect a default Firebase project for this directory:\u001b[22m\u001b[0m \u001b[0m\u001b[2m(Use arrow keys)\u001b[22m\n",
            "\u001b[36m❯ idc-tester-1 (idc-tester-1)\u001b[39m \u001b[30D\u001b[30C\u001b[2K\u001b[1A\u001b[2K\u001b[G\u001b[32m?\u001b[39m \u001b[1mSelect a default Firebase project for this directory:\u001b[22m\u001b[0m \u001b[0m\u001b[36midc-tester-1 (idc-tester\n",
            "-1)\u001b[39m\u001b[1A\u001b[3D\u001b[83C\n",
            "\u001b[?25h\u001b[1B\u001b[1m\u001b[36mi \u001b[39m\u001b[22m Using project idc-tester-1 (idc-tester-1)\n",
            "\u001b[1m\n",
            "\u001b[37m=== \u001b[39mHosting Setup\u001b[22m\n",
            "\n",
            "Your \u001b[1mpublic\u001b[22m directory is the folder (relative to your project directory) that\n",
            "will contain Hosting assets to be uploaded with \u001b[1mfirebase deploy\u001b[22m. If you\n",
            "have a build process for your assets, use your build's output directory.\n",
            "\n",
            "\u001b[32m?\u001b[39m \u001b[1mWhat do you want to use as your public directory?\u001b[22m\u001b[0m \u001b[0m\u001b[2m(public) \u001b[22m\u001b[61D\u001b[61C\u001b[2K\u001b[G\u001b[32m?\u001b[39m \u001b[1mWhat do you want to use as your public directory?\u001b[22m\u001b[0m \u001b[0m\u001b[36mpublic\u001b[39m\u001b[58D\u001b[58C\n",
            "\u001b[32m?\u001b[39m \u001b[1mConfigure as a single-page app (rewrite all urls to /index.html)?\u001b[22m\u001b[0m \u001b[0m\u001b[2m(y/N) \u001b[22m\u001b[74D\u001b[74C\u001b[2K\u001b[G\u001b[32m?\u001b[39m \u001b[1mConfigure as a single-page app (rewrite all urls to /index.html)?\u001b[22m\u001b[0m \u001b[0m\u001b[36mNo\u001b[39m\u001b[70D\u001b[70C\n",
            "\u001b[32m?\u001b[39m \u001b[1mSet up automatic builds and deploys with GitHub?\u001b[22m\u001b[0m \u001b[0m\u001b[2m(y/N) \u001b[22m\u001b[57D\u001b[57C\u001b[2K\u001b[G\u001b[32m?\u001b[39m \u001b[1mSet up automatic builds and deploys with GitHub?\u001b[22m\u001b[0m \u001b[0m\u001b[36mNo\u001b[39m\u001b[53D\u001b[53C\n",
            "\u001b[1m\u001b[32m✔ \u001b[39m\u001b[22m Wrote \u001b[1mpublic/404.html\u001b[22m\n",
            "\u001b[1m\u001b[32m✔ \u001b[39m\u001b[22m Wrote \u001b[1mpublic/index.html\u001b[22m\n",
            "\n",
            "\u001b[1m\u001b[36mi \u001b[39m\u001b[22m Writing configuration info to \u001b[1mfirebase.json\u001b[22m...\n",
            "\u001b[1m\u001b[36mi \u001b[39m\u001b[22m Writing project information to \u001b[1m.firebaserc\u001b[22m...\n",
            "\n",
            "\u001b[1m\u001b[32m✔ \u001b[39m\u001b[22m Firebase initialization complete!\n",
            "\u001b[?25h"
          ]
        }
      ]
    },
    {
      "cell_type": "code",
      "metadata": {
        "colab": {
          "base_uri": "https://localhost:8080/"
        },
        "id": "z29vhkuQxMY6",
        "outputId": "6ce2850e-affd-44ff-c8e8-11697c922f5f"
      },
      "source": [
        "!wget -O /content/Viewers/firebase.json https://gist.githubusercontent.com/fedorov/987e06eeb261c2abb21743fdbd43eb0e/raw/daa55d92164def1ed884d92c93a35cd90982cf4c/firebase.json"
      ],
      "execution_count": null,
      "outputs": [
        {
          "output_type": "stream",
          "name": "stdout",
          "text": [
            "--2021-11-18 16:06:50--  https://gist.githubusercontent.com/fedorov/987e06eeb261c2abb21743fdbd43eb0e/raw/daa55d92164def1ed884d92c93a35cd90982cf4c/firebase.json\n",
            "Resolving gist.githubusercontent.com (gist.githubusercontent.com)... 185.199.108.133, 185.199.109.133, 185.199.110.133, ...\n",
            "Connecting to gist.githubusercontent.com (gist.githubusercontent.com)|185.199.108.133|:443... connected.\n",
            "HTTP request sent, awaiting response... 200 OK\n",
            "Length: 450 [text/plain]\n",
            "Saving to: ‘/content/Viewers/firebase.json’\n",
            "\n",
            "\r          /content/   0%[                    ]       0  --.-KB/s               \r/content/Viewers/fi 100%[===================>]     450  --.-KB/s    in 0s      \n",
            "\n",
            "2021-11-18 16:06:50 (37.0 MB/s) - ‘/content/Viewers/firebase.json’ saved [450/450]\n",
            "\n"
          ]
        }
      ]
    },
    {
      "cell_type": "markdown",
      "source": [
        "## Configure OHIF Viewer\n",
        "\n",
        "In this step we will fetch the configuration file for Firebase, and place it into the right location within the OHIF Viewer source tree.\n",
        "\n",
        "It is important that you do NOT set the `APP_CONFIG` environment variable, despite what you might see in other deployment instructions. We confirmed setting this variable skips initialization of the OHIF Viewer config file.\n",
        "\n",
        "**THIS IS A VERY IMPORTANT STEP: please read the instructions below**\n",
        "\n",
        "Next we replace the placeholder of the OAuth Client ID with the actual ID you created in the setup steps. In the text below, replace `MY_OAUTH_CLIENT_ID` with the ID you created."
      ],
      "metadata": {
        "id": "4MEjjwq6REzX"
      }
    },
    {
      "cell_type": "code",
      "metadata": {
        "colab": {
          "base_uri": "https://localhost:8080/"
        },
        "id": "itguGJy3POwD",
        "outputId": "e342f91a-e07e-46c3-c238-ef88d358f228"
      },
      "source": [
        "!wget -O /content/Viewers/platform/viewer/public/config/default.js https://gist.githubusercontent.com/fedorov/737c7b76c7836b6d4de72f0fc1ce4eb5/raw/57ce940a10711e88f52234d61094766b9df35b18/google.js\n",
        "\n",
        "!sed -i 's/CLIENT_ID_PLACEHOLDER/MY_OAUTH_CLIENT_ID/' /content/Viewers/platform/viewer/public/config/default.js"
      ],
      "execution_count": null,
      "outputs": [
        {
          "output_type": "stream",
          "name": "stdout",
          "text": [
            "--2022-04-06 18:07:51--  https://gist.githubusercontent.com/fedorov/737c7b76c7836b6d4de72f0fc1ce4eb5/raw/2b582d5ae6160f9b71b4cf592b3a8849a4529209/google.js\n",
            "Resolving gist.githubusercontent.com (gist.githubusercontent.com)... 185.199.108.133, 185.199.109.133, 185.199.110.133, ...\n",
            "Connecting to gist.githubusercontent.com (gist.githubusercontent.com)|185.199.108.133|:443... connected.\n",
            "HTTP request sent, awaiting response... 200 OK\n",
            "Length: 1025 (1.0K) [text/plain]\n",
            "Saving to: ‘/content/Viewers/platform/viewer/public/config/default.js’\n",
            "\n",
            "\r          /content/   0%[                    ]       0  --.-KB/s               \r/content/Viewers/pl 100%[===================>]   1.00K  --.-KB/s    in 0s      \n",
            "\n",
            "2022-04-06 18:07:51 (50.6 MB/s) - ‘/content/Viewers/platform/viewer/public/config/default.js’ saved [1025/1025]\n",
            "\n"
          ]
        }
      ]
    },
    {
      "cell_type": "markdown",
      "source": [
        "... and proceed with the installation and build steps of the viewer."
      ],
      "metadata": {
        "id": "ujJFjwbHVzB7"
      }
    },
    {
      "cell_type": "code",
      "metadata": {
        "colab": {
          "base_uri": "https://localhost:8080/"
        },
        "id": "dJskVt27z_ie",
        "outputId": "a307f5b3-b487-4d64-fb88-ac1de882fc9f"
      },
      "source": [
        "!npm install --global yarn"
      ],
      "execution_count": null,
      "outputs": [
        {
          "output_type": "stream",
          "name": "stdout",
          "text": [
            "\u001b[K\u001b[?25h\n",
            "> yarn@1.22.17 preinstall /tools/node/lib/node_modules/yarn\n",
            "> :; (node ./preinstall.js > /dev/null 2>&1 || true)\n",
            "\n",
            "/tools/node/bin/yarn -> /tools/node/lib/node_modules/yarn/bin/yarn.js\n",
            "/tools/node/bin/yarnpkg -> /tools/node/lib/node_modules/yarn/bin/yarn.js\n",
            "+ yarn@1.22.17\n",
            "added 1 package in 0.898s\n"
          ]
        }
      ]
    },
    {
      "cell_type": "markdown",
      "metadata": {
        "id": "Ep5cx52yRz3N"
      },
      "source": [
        "**next cell will take about 7 minutes to complete**"
      ]
    },
    {
      "cell_type": "code",
      "metadata": {
        "id": "N1uFaN9u0Kdt"
      },
      "source": [
        "!cd Viewers && yarn install && yarn run build"
      ],
      "execution_count": null,
      "outputs": []
    },
    {
      "cell_type": "markdown",
      "source": [
        "Finally, we copy the built application to the `public` folder, from which it will be deployed to Firebase."
      ],
      "metadata": {
        "id": "bz1Elip0V4HM"
      }
    },
    {
      "cell_type": "code",
      "metadata": {
        "id": "hbJdHcDZBfn1"
      },
      "source": [
        "%%capture\n",
        "!cd /content/Viewers && rsync -avP platform/viewer/dist/ public/\n",
        "#!cd /content/Viewers && cp platform/viewer/public/config/default.js public/app-config.js"
      ],
      "execution_count": null,
      "outputs": []
    },
    {
      "cell_type": "code",
      "metadata": {
        "colab": {
          "base_uri": "https://localhost:8080/"
        },
        "id": "XJA9WEQP2Pju",
        "outputId": "5ced9b20-e765-40b1-8c21-8923a850b130"
      },
      "source": [
        "!cd Viewers && firebase deploy"
      ],
      "execution_count": null,
      "outputs": [
        {
          "output_type": "stream",
          "name": "stdout",
          "text": [
            "\n",
            "\u001b[1m\u001b[37m===\u001b[39m Deploying to 'idc-tester-1'...\u001b[22m\n",
            "\n",
            "\u001b[1m\u001b[36mi \u001b[39m\u001b[22m deploying \u001b[1mhosting\u001b[22m\n",
            "\u001b[1m\u001b[36mi  hosting[idc-tester-1]:\u001b[39m\u001b[22m beginning deploy...\n",
            "\u001b[1m\u001b[36mi  hosting[idc-tester-1]:\u001b[39m\u001b[22m found 196 files in \u001b[1mpublic\u001b[22m\n",
            "\u001b[2K\u001b[9999D\u001b[1m\u001b[36m⠋  hosting: \u001b[39m\u001b[22mhashing files [50/196] (\u001b[1m\u001b[32m25%\u001b[39m\u001b[22m)\u001b[2K\u001b[9999D\u001b[1m\u001b[36m⠙  hosting: \u001b[39m\u001b[22mhashing files [80/196] (\u001b[1m\u001b[32m40%\u001b[39m\u001b[22m)\u001b[2K\u001b[9999D\u001b[1m\u001b[36m⠹  hosting: \u001b[39m\u001b[22mhashing files [122/196] (\u001b[1m\u001b[32m62%\u001b[39m\u001b[22m)\u001b[2K\u001b[9999D\u001b[1m\u001b[36m⠸  hosting: \u001b[39m\u001b[22mhashing files [172/196] (\u001b[1m\u001b[32m87%\u001b[39m\u001b[22m)\u001b[2K\u001b[9999D\u001b[1m\u001b[36m⠼  hosting: \u001b[39m\u001b[22mhashing files [187/196] (\u001b[1m\u001b[32m95%\u001b[39m\u001b[22m)\u001b[2K\u001b[9999D\u001b[1m\u001b[36m⠴  hosting: \u001b[39m\u001b[22mhashing files [190/196] (\u001b[1m\u001b[32m96%\u001b[39m\u001b[22m)\u001b[2K\u001b[9999D\u001b[1m\u001b[36m⠦  hosting: \u001b[39m\u001b[22mhashing files [191/196] (\u001b[1m\u001b[32m97%\u001b[39m\u001b[22m)\u001b[2K\u001b[9999D\u001b[1m\u001b[36m⠧  hosting: \u001b[39m\u001b[22mhashing files [192/196] (\u001b[1m\u001b[32m97%\u001b[39m\u001b[22m)\u001b[2K\u001b[9999D\u001b[1m\u001b[36m⠇  hosting: \u001b[39m\u001b[22mhashing files [192/196] (\u001b[1m\u001b[32m97%\u001b[39m\u001b[22m)\u001b[2K\u001b[9999D\u001b[1m\u001b[36m⠏  hosting: \u001b[39m\u001b[22mhashing files [192/196] (\u001b[1m\u001b[32m97%\u001b[39m\u001b[22m)\u001b[2K\u001b[9999D\u001b[1m\u001b[36m⠋  hosting: \u001b[39m\u001b[22mhashing files [193/196] (\u001b[1m\u001b[32m98%\u001b[39m\u001b[22m)\u001b[2K\u001b[9999D\u001b[1m\u001b[36m⠙  hosting: \u001b[39m\u001b[22mhashing files [194/196] (\u001b[1m\u001b[32m98%\u001b[39m\u001b[22m)\u001b[2K\u001b[9999D\u001b[1m\u001b[36m⠹  hosting: \u001b[39m\u001b[22mhashing files [195/196] (\u001b[1m\u001b[32m99%\u001b[39m\u001b[22m)\u001b[2K\u001b[9999D\u001b[1m\u001b[36m⠸  hosting: \u001b[39m\u001b[22mhashing files [195/196] (\u001b[1m\u001b[32m99%\u001b[39m\u001b[22m)\u001b[2K\u001b[9999D\u001b[1m\u001b[36m⠼  hosting: \u001b[39m\u001b[22mhashing files [195/196] (\u001b[1m\u001b[32m99%\u001b[39m\u001b[22m)\u001b[2K\u001b[9999D\u001b[1m\u001b[36m⠴  hosting: \u001b[39m\u001b[22mhashing files [195/196] (\u001b[1m\u001b[32m99%\u001b[39m\u001b[22m)\u001b[2K\u001b[9999D\u001b[1m\u001b[36m⠦  hosting: \u001b[39m\u001b[22mhashing files [195/196] (\u001b[1m\u001b[32m99%\u001b[39m\u001b[22m)\u001b[2K\u001b[9999D\u001b[1m\u001b[36m⠧  hosting: \u001b[39m\u001b[22mhashing files [195/196] (\u001b[1m\u001b[32m99%\u001b[39m\u001b[22m)\u001b[2K\u001b[9999D\u001b[1m\u001b[36m⠇  hosting: \u001b[39m\u001b[22mhashing files [195/196] (\u001b[1m\u001b[32m99%\u001b[39m\u001b[22m)\u001b[2K\u001b[9999D\u001b[1m\u001b[36m⠏  hosting: \u001b[39m\u001b[22mhashing files [195/196] (\u001b[1m\u001b[32m99%\u001b[39m\u001b[22m)\u001b[2K\u001b[9999D\u001b[1m\u001b[36m⠋  hosting: \u001b[39m\u001b[22mhashing files [195/196] (\u001b[1m\u001b[32m99%\u001b[39m\u001b[22m)\u001b[2K\u001b[9999D\u001b[1m\u001b[36m⠙  hosting: \u001b[39m\u001b[22madding files to version [0/196] (\u001b[1m\u001b[32m0%\u001b[39m\u001b[22m)\u001b[2K\u001b[9999D\u001b[1m\u001b[36m⠹  hosting: \u001b[39m\u001b[22madding files to version [0/196] (\u001b[1m\u001b[32m0%\u001b[39m\u001b[22m)\u001b[2K\u001b[9999D\u001b[1m\u001b[36m⠸  hosting: \u001b[39m\u001b[22madding files to version [0/196] (\u001b[1m\u001b[32m0%\u001b[39m\u001b[22m)\u001b[2K\u001b[9999D\u001b[1m\u001b[36m⠼  hosting: \u001b[39m\u001b[22muploading new files [0/3] (\u001b[1m\u001b[32m0%\u001b[39m\u001b[22m)\u001b[2K\u001b[9999D\u001b[1m\u001b[36m⠴  hosting: \u001b[39m\u001b[22muploading new files [0/3] (\u001b[1m\u001b[32m0%\u001b[39m\u001b[22m)\u001b[2K\u001b[9999D\u001b[1m\u001b[36m⠦  hosting: \u001b[39m\u001b[22muploading new files [0/3] (\u001b[1m\u001b[32m0%\u001b[39m\u001b[22m)\u001b[2K\u001b[9999D\u001b[1m\u001b[36m⠧  hosting: \u001b[39m\u001b[22muploading new files [0/3] (\u001b[1m\u001b[32m0%\u001b[39m\u001b[22m)\u001b[2K\u001b[9999D\u001b[1m\u001b[36m⠇  hosting: \u001b[39m\u001b[22muploading new files [2/3] (\u001b[1m\u001b[32m66%\u001b[39m\u001b[22m)\u001b[2K\u001b[9999D\u001b[1m\u001b[32m✔  hosting[idc-tester-1]:\u001b[39m\u001b[22m file upload complete\n",
            "\u001b[1m\u001b[36mi  hosting[idc-tester-1]:\u001b[39m\u001b[22m finalizing version...\n",
            "\u001b[1m\u001b[32m✔  hosting[idc-tester-1]:\u001b[39m\u001b[22m version finalized\n",
            "\u001b[1m\u001b[36mi  hosting[idc-tester-1]:\u001b[39m\u001b[22m releasing new version...\n",
            "\u001b[1m\u001b[32m✔  hosting[idc-tester-1]:\u001b[39m\u001b[22m release complete\n",
            "\n",
            "\u001b[1m\u001b[32m✔ \u001b[39m\u001b[22m \u001b[1m\u001b[4mDeploy complete!\u001b[24m\u001b[22m\n",
            "\n",
            "\u001b[1mProject Console:\u001b[22m https://console.firebase.google.com/project/idc-tester-1/overview\n",
            "\u001b[1mHosting URL:\u001b[22m https://idc-tester-1.web.app\n"
          ]
        }
      ]
    },
    {
      "cell_type": "markdown",
      "metadata": {
        "id": "xMX_uIWgTV7n"
      },
      "source": [
        "At this point, please return to the main tutorial, and proceed to the [\"Updating configuration of the Consent screen and OAuth Client\" section](https://docs.google.com/document/d/1v4Syu_yOV6yH--QBLGzsL9fJ7-XyD1CnQu4iTIoPVD8/edit#heading=h.43a3r6qbdsiy) in the tutorial.\n",
        "\n"
      ]
    }
  ]
}